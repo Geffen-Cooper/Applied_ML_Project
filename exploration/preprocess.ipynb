{
 "cells": [
  {
   "attachments": {},
   "cell_type": "markdown",
   "metadata": {},
   "source": [
    "Import libraries"
   ]
  },
  {
   "cell_type": "code",
   "execution_count": 68,
   "metadata": {},
   "outputs": [],
   "source": [
    "import pandas as pd\n",
    "import numpy as np\n",
    "import matplotlib.pyplot as plt\n",
    "from sklearn.linear_model import LinearRegression\n",
    "from sklearn.metrics import r2_score"
   ]
  },
  {
   "attachments": {},
   "cell_type": "markdown",
   "metadata": {},
   "source": [
    "Load datasets"
   ]
  },
  {
   "cell_type": "code",
   "execution_count": 12,
   "metadata": {},
   "outputs": [],
   "source": [
    "df_train = pd.read_csv('../data/train.csv')\n",
    "df_test = pd.read_csv('../data/test.csv')"
   ]
  },
  {
   "attachments": {},
   "cell_type": "markdown",
   "metadata": {},
   "source": [
    "Separate the labels from the features and remove columns we dont need"
   ]
  },
  {
   "cell_type": "code",
   "execution_count": 13,
   "metadata": {},
   "outputs": [],
   "source": [
    "# separate labels from features\n",
    "training_label_cols = ['TotalTimeStopped_p20','TotalTimeStopped_p40','TotalTimeStopped_p50',\n",
    "                       'TotalTimeStopped_p60','TotalTimeStopped_p80',\n",
    "                       'TimeFromFirstStop_p20','TimeFromFirstStop_p40','TimeFromFirstStop_p50',\n",
    "                       'TimeFromFirstStop_p60','TimeFromFirstStop_p80',\n",
    "                       'DistanceToFirstStop_p20','DistanceToFirstStop_p40','DistanceToFirstStop_p50',\n",
    "                       'DistanceToFirstStop_p60','DistanceToFirstStop_p80']\n",
    "\n",
    "df_train_y = df_train[training_label_cols]\n",
    "\n",
    "# drop columns not needed\n",
    "df_test_X = df_test.drop(columns=['RowId'])\n",
    "df_train_X = df_train.drop(columns=['RowId']+training_label_cols)"
   ]
  },
  {
   "attachments": {},
   "cell_type": "markdown",
   "metadata": {},
   "source": [
    "Separate the Data by City"
   ]
  },
  {
   "cell_type": "code",
   "execution_count": 14,
   "metadata": {},
   "outputs": [],
   "source": [
    "cities = ['Atlanta','Philadelphia','Boston','Chicago']\n",
    "city_training_datasets_X = {}\n",
    "city_training_datasets_y = {}\n",
    "city_testing_datasets_X = {}\n",
    "\n",
    "# training\n",
    "for city in cities:\n",
    "    # get rows for this city\n",
    "    city_idxs = (df_train_X['City'] == city).values.nonzero()[0]\n",
    "\n",
    "    # get X (data) and y (labels)\n",
    "    city_training_datasets_X[city] = df_train_X.loc[city_idxs]\n",
    "    city_training_datasets_y[city] = df_train_y.loc[city_idxs]\n",
    "\n",
    "    # drop the city column from X (data)\n",
    "    city_training_datasets_X[city] = city_training_datasets_X[city].drop(columns=['City'])\n",
    "\n",
    "# testing\n",
    "for city in cities:\n",
    "    # get rows for this city\n",
    "    city_idxs = (df_test_X['City'] == city).values.nonzero()[0]\n",
    "\n",
    "    # get X (data)\n",
    "    city_testing_datasets_X[city] = df_test_X.loc[city_idxs]\n",
    "\n",
    "    # drop the city column from X (data)\n",
    "    city_testing_datasets_X[city] = city_testing_datasets_X[city].drop(columns=['City'])"
   ]
  },
  {
   "cell_type": "markdown",
   "metadata": {},
   "source": [
    "Feature Exploration\n",
    "* Try to see if grouping cars by different characteristics shows any relationship with the the target values\n",
    "\n",
    "**Go Straight**\n",
    "* if the entry and exit street are the same (or the headings are the same), then we treat this as a car NOT making a turn. Intuitively cars that make turns may wait longer or take longer to go through the intersection than cars that go straight.\n",
    "\n",
    "**Type of Turn**\n",
    "* we can check left,right, and U turns using the entry and exit headings\n",
    "* in general we have 8 headings: N,NE,E,SE,S,SW,W,NW which we can encode using 0-7\n",
    "    * for each heading, a left turn would be the three numbers below, a right turn would be the three numbers above, and a U turn would be the number plus four"
   ]
  },
  {
   "cell_type": "code",
   "execution_count": 189,
   "metadata": {},
   "outputs": [
    {
     "name": "stdout",
     "output_type": "stream",
     "text": [
      "City: Atlanta, no turn   : 0.5744996293550778\n",
      "City: Atlanta, right turns: 0.21775389177168272\n",
      "City: Atlanta, left turns:  0.20723524449784003\n",
      "City: Atlanta, u turns:     0.0005112343753994018\n",
      "\n",
      "City: Philadelphia, no turn   : 0.698936799944649\n",
      "City: Philadelphia, right turns: 0.1484508132237589\n",
      "City: Philadelphia, left turns:  0.15218444176231366\n",
      "City: Philadelphia, u turns:     0.00042794506927841286\n",
      "\n",
      "City: Boston, no turn   : 0.6469037101731638\n",
      "City: Boston, right turns: 0.1821551140149034\n",
      "City: Boston, left turns:  0.16881371873897782\n",
      "City: Boston, u turns:     0.002127457072954982\n",
      "\n",
      "City: Chicago, no turn   : 0.9117353051148807\n",
      "City: Chicago, right turns: 0.047012949354821476\n",
      "City: Chicago, left turns:  0.04112965379361918\n",
      "City: Chicago, u turns:     0.0001220917366786469\n",
      "\n"
     ]
    }
   ],
   "source": [
    "target_cols = ['TotalTimeStopped_p20','TotalTimeStopped_p50','TotalTimeStopped_p80',\n",
    "                'DistanceToFirstStop_p20','DistanceToFirstStop_p50','DistanceToFirstStop_p80']\n",
    "\n",
    "# categorize turns\n",
    "encoding = [0,1,2,3,4,5,6,7]\n",
    "direction = [\"N\",\"NE\",\"E\",\"SE\",\"S\",\"SW\",\"W\",\"NW\"]\n",
    "left_turn = []\n",
    "right_turn = []\n",
    "u_turn = []\n",
    "for e,d in zip(encoding,direction):\n",
    "    for i in range(1,4):\n",
    "        left_turn.append((d+'-'+direction[e-i]))\n",
    "    for i in range(1,4):\n",
    "        right_turn.append((d+'-'+direction[(e+i)%8]))\n",
    "    u_turn.append((d+'-'+direction[(e+4)%8]))\n",
    "\n",
    "# Check if a car went straight or not\n",
    "# if it did not go straight, characterize the turn as right, left, or U-turn (0000, 0100, 0010, 0001)\n",
    "turn_type_X = {}\n",
    "straight_X_r2s = {city: {col: 0 for col in target_cols} for city in cities}\n",
    "for city in cities:\n",
    "    turn_type_X[city] = np.zeros((len(city_training_datasets_X[city]),4))\n",
    "\n",
    "    # get entry/exit street names and headings\n",
    "    entry_name = city_training_datasets_X[city]['EntryStreetName']\n",
    "    exit_name = city_training_datasets_X[city]['ExitStreetName']\n",
    "    entry_heading = city_training_datasets_X[city]['EntryHeading']\n",
    "    exit_heading = city_training_datasets_X[city]['ExitHeading']\n",
    "\n",
    "    # same street/heading --> straight (no turn)\n",
    "    same_street_idxs = (entry_name==exit_name).values\n",
    "    same_heading_idxs = (entry_heading==exit_heading).values\n",
    "    straight_idxs = np.logical_or(same_street_idxs,same_heading_idxs)\n",
    "    turn_type_X[city][straight_idxs][:] = 0\n",
    "\n",
    "    # encode turn\n",
    "    turn_enc = np.array([f'{x}-{y}' for x, y in zip(entry_heading, exit_heading)])\n",
    "\n",
    "    # left turn\n",
    "    left_idxs = np.zeros(len(entry_heading),dtype=int)\n",
    "    for lt in left_turn:\n",
    "        left_idxs[(turn_enc==lt).nonzero()[0]] = 1\n",
    "    turn_type_X[city][left_idxs.nonzero()[0]] = np.array([0,1,0,0])\n",
    "\n",
    "    # right turn\n",
    "    right_idxs = np.zeros(len(entry_heading),dtype=int)\n",
    "    for rt in right_turn:\n",
    "        right_idxs[(turn_enc==rt).nonzero()[0]] = 1\n",
    "    turn_type_X[city][right_idxs.nonzero()[0]] = np.array([0,0,1,0])\n",
    "\n",
    "    # U-turn\n",
    "    u_idxs = np.zeros(len(entry_heading),dtype=int)\n",
    "    for ut in u_turn:\n",
    "        u_idxs[(turn_enc==ut).nonzero()[0]] = 1\n",
    "    turn_type_X[city][u_idxs.nonzero()[0]] = np.array([0,0,0,1])\n",
    "\n",
    "    for target_col in target_cols:\n",
    "        target = city_training_datasets_y[city][target_col].values\n",
    "        model = LinearRegression()\n",
    "        model.fit(turn_type_X[city],target)\n",
    "        r2 = r2_score(target,model.predict(turn_type_X[city]))\n",
    "        straight_X_r2s[city][target_col] = r2   \n",
    "\n",
    "    # display distribution of turns per city\n",
    "    print(f\"City: {city}, no turn   : {np.all(turn_type_X[city] == np.array([0,0,0,0]),axis=1).mean()}\")\n",
    "    print(f\"City: {city}, right turns: {np.all(turn_type_X[city] == np.array([0,1,0,0]),axis=1).mean()}\")\n",
    "    print(f\"City: {city}, left turns:  {np.all(turn_type_X[city] == np.array([0,0,1,0]),axis=1).mean()}\")\n",
    "    print(f\"City: {city}, u turns:     {np.all(turn_type_X[city] == np.array([0,0,0,1]),axis=1).mean()}\")\n",
    "    print()"
   ]
  },
  {
   "cell_type": "markdown",
   "metadata": {},
   "source": [
    "Plot the r2 scores of the turning feature per city and per target variable\n",
    "* Atlanta intersection wait times seem to have at least some connection to the turn type which aligns with the distribution of turns above. For example, almost all intersections in chicago were straight paths (no turns) so turning does not explain the wait time"
   ]
  },
  {
   "cell_type": "code",
   "execution_count": 192,
   "metadata": {},
   "outputs": [
    {
     "data": {
      "text/plain": [
       "(0.0, 1.0)"
      ]
     },
     "execution_count": 192,
     "metadata": {},
     "output_type": "execute_result"
    },
    {
     "data": {
      "image/png": "[encoded data removed]",
      "text/plain": [
       "<Figure size 1200x300 with 4 Axes>"
      ]
     },
     "metadata": {},
     "output_type": "display_data"
    }
   ],
   "source": [
    "prop_cycle = plt.rcParams['axes.prop_cycle']\n",
    "colors = prop_cycle.by_key()['color']\n",
    "fig,ax = plt.subplots(1,len(cities),figsize=(12,3),sharey=True)\n",
    "for city_i,city in enumerate(cities):\n",
    "    for target_i,target_col in enumerate(target_cols):\n",
    "        if target_i == 0:\n",
    "            ax[city_i].scatter(target_i,straight_X_r2s[city][target_col],c=colors[city_i],label=city)\n",
    "        else:\n",
    "            ax[city_i].scatter(target_i,straight_X_r2s[city][target_col],c=colors[city_i])\n",
    "        ax[city_i].set_xticks(np.arange(6),target_cols,rotation=90)\n",
    "    ax[city_i].legend()\n",
    "ax[0].set_ylabel(\"r2\")\n",
    "ax[0].set_ylim([0,1])"
   ]
  },
  {
   "cell_type": "markdown",
   "metadata": {},
   "source": [
    "TODO\n",
    "* next let's exlpore features related to space and tome such as distance from the center of the city or time to the busiest time of day\n",
    "* maybe we can try to cluster regions/times which have a lot of traffic and give each row a distance to the cluster\n",
    "    * for example, if a new point is at the center of a busy cluster or a busy time it should have large wait time/distance"
   ]
  }
 ],
 "metadata": {
  "kernelspec": {
   "display_name": "hs",
   "language": "python",
   "name": "python3"
  },
  "language_info": {
   "codemirror_mode": {
    "name": "ipython",
    "version": 3
   },
   "file_extension": ".py",
   "mimetype": "text/x-python",
   "name": "python",
   "nbconvert_exporter": "python",
   "pygments_lexer": "ipython3",
   "version": "3.9.16"
  },
  "orig_nbformat": 4
 },
 "nbformat": 4,
 "nbformat_minor": 2
}
