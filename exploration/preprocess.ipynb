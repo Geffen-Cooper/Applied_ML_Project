{
 "cells": [
  {
   "attachments": {},
   "cell_type": "markdown",
   "metadata": {},
   "source": [
    "Import libraries"
   ]
  },
  {
   "cell_type": "code",
   "execution_count": 1,
   "metadata": {},
   "outputs": [],
   "source": [
    "import pandas as pd\n",
    "import numpy as np\n",
    "import matplotlib.pyplot as plt"
   ]
  },
  {
   "attachments": {},
   "cell_type": "markdown",
   "metadata": {},
   "source": [
    "Load datasets"
   ]
  },
  {
   "cell_type": "code",
   "execution_count": 2,
   "metadata": {},
   "outputs": [],
   "source": [
    "df_train = pd.read_csv('../data/train.csv')\n",
    "df_test = pd.read_csv('../data/test.csv')"
   ]
  },
  {
   "attachments": {},
   "cell_type": "markdown",
   "metadata": {},
   "source": [
    "Separate the labels from the features and remove columns we dont need"
   ]
  },
  {
   "cell_type": "code",
   "execution_count": 3,
   "metadata": {},
   "outputs": [],
   "source": [
    "# separate labels from features\n",
    "training_label_cols = ['TotalTimeStopped_p20','TotalTimeStopped_p40','TotalTimeStopped_p50',\n",
    "                       'TotalTimeStopped_p60','TotalTimeStopped_p80',\n",
    "                       'TimeFromFirstStop_p20','TimeFromFirstStop_p40','TimeFromFirstStop_p50',\n",
    "                       'TimeFromFirstStop_p60','TimeFromFirstStop_p80',\n",
    "                       'DistanceToFirstStop_p20','DistanceToFirstStop_p40','DistanceToFirstStop_p50',\n",
    "                       'DistanceToFirstStop_p60','DistanceToFirstStop_p80']\n",
    "\n",
    "df_train_Y = df_train[training_label_cols]\n",
    "\n",
    "# drop columns not needed\n",
    "df_test_X = df_test.drop(columns=['RowId'])\n",
    "df_train_X = df_train.drop(columns=['RowId']+training_label_cols)"
   ]
  },
  {
   "attachments": {},
   "cell_type": "markdown",
   "metadata": {},
   "source": [
    "Separate the Data by City"
   ]
  },
  {
   "cell_type": "code",
   "execution_count": 4,
   "metadata": {},
   "outputs": [],
   "source": [
    "cities = ['Atlanta','Philadelphia','Boston','Chicago']\n",
    "city_training_datasets = {}\n",
    "city_testing_datasets = {}\n",
    "\n",
    "# training\n",
    "for city in cities:\n",
    "    city_training_datasets[city] = df_train_X.loc[df_train_X['City'] == city]\n",
    "    city_training_datasets[city] = city_training_datasets[city].drop(columns=['City'])\n",
    "\n",
    "# testing\n",
    "for city in cities:\n",
    "    city_testing_datasets[city] = df_test_X.loc[df_test_X['City'] == city]\n",
    "    city_testing_datasets[city] = city_testing_datasets[city].drop(columns=['City'])"
   ]
  }
 ],
 "metadata": {
  "kernelspec": {
   "display_name": "hs",
   "language": "python",
   "name": "python3"
  },
  "language_info": {
   "codemirror_mode": {
    "name": "ipython",
    "version": 3
   },
   "file_extension": ".py",
   "mimetype": "text/x-python",
   "name": "python",
   "nbconvert_exporter": "python",
   "pygments_lexer": "ipython3",
   "version": "3.9.16"
  },
  "orig_nbformat": 4
 },
 "nbformat": 4,
 "nbformat_minor": 2
}
