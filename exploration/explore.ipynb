{
 "cells": [
  {
   "cell_type": "code",
   "execution_count": 8,
   "metadata": {},
   "outputs": [],
   "source": [
    "import openrouteservice\n",
    "from openrouteservice import convert\n",
    "import folium\n",
    "import json\n",
    "\n",
    "client = openrouteservice.Client(key='5b3ce3597851110001cf6248a84c4e9a1df74194bedc3b9f3e12066e')\n",
    "\n",
    "coords = ((-84.3686753,33.7817715),(-84.363507,33.781746999999996))\n",
    "res = client.directions(coords)\n",
    "geometry = client.directions(coords)['routes'][0]['geometry']\n",
    "decoded = convert.decode_polyline(geometry)"
   ]
  },
  {
   "cell_type": "code",
   "execution_count": 11,
   "metadata": {},
   "outputs": [
    {
     "data": {
      "text/plain": [
       "'593.3'"
      ]
     },
     "execution_count": 11,
     "metadata": {},
     "output_type": "execute_result"
    }
   ],
   "source": [
    "str(res['routes'][0]['summary']['distance'])"
   ]
  },
  {
   "cell_type": "code",
   "execution_count": 12,
   "metadata": {},
   "outputs": [],
   "source": [
    "import openrouteservice\n",
    "from openrouteservice import convert\n",
    "import folium\n",
    "import json\n",
    "\n",
    "client = openrouteservice.Client(key='5b3ce3597851110001cf6248a84c4e9a1df74194bedc3b9f3e12066e')\n",
    "\n",
    "coords = ((-84.3686753,33.7817715),(-84.363507,33.781746999999996))\n",
    "res = client.directions(coords)\n",
    "geometry = client.directions(coords)['routes'][0]['geometry']\n",
    "decoded = convert.decode_polyline(geometry)\n",
    "\n",
    "distance_txt = \"<h4> <b>Distance :&nbsp\" + \"<strong>\"+str(round(res['routes'][0]['summary']['distance']/1000,1))+\" Km </strong>\" +\"</h4></b>\"\n",
    "duration_txt = \"<h4> <b>Duration :&nbsp\" + \"<strong>\"+str(round(res['routes'][0]['summary']['duration']/60,1))+\" Mins. </strong>\" +\"</h4></b>\"\n",
    "\n",
    "m = folium.Map(location=[6.074834613830474, 80.25749815575348],zoom_start=10, control_scale=True,tiles=\"cartodbpositron\")\n",
    "folium.GeoJson(decoded).add_child(folium.Popup(distance_txt+duration_txt,max_width=300)).add_to(m)\n",
    "\n",
    "folium.Marker(\n",
    "    location=list(coords[0][::-1]),\n",
    "    popup=\"Galle fort\",\n",
    "    icon=folium.Icon(color=\"green\"),\n",
    ").add_to(m)\n",
    "\n",
    "folium.Marker(\n",
    "    location=list(coords[1][::-1]),\n",
    "    popup=\"Jungle beach\",\n",
    "    icon=folium.Icon(color=\"red\"),\n",
    ").add_to(m)\n",
    "\n",
    "\n",
    "m.save('map.html')"
   ]
  }
 ],
 "metadata": {
  "kernelspec": {
   "display_name": "hs",
   "language": "python",
   "name": "python3"
  },
  "language_info": {
   "codemirror_mode": {
    "name": "ipython",
    "version": 3
   },
   "file_extension": ".py",
   "mimetype": "text/x-python",
   "name": "python",
   "nbconvert_exporter": "python",
   "pygments_lexer": "ipython3",
   "version": "3.9.17"
  }
 },
 "nbformat": 4,
 "nbformat_minor": 2
}
