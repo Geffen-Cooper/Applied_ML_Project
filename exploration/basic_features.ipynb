{
 "cells": [
  {
   "cell_type": "markdown",
   "metadata": {},
   "source": [
    "# 1. Import Packages\n"
   ]
  },
  {
   "cell_type": "code",
   "execution_count": 55,
   "metadata": {},
   "outputs": [],
   "source": [
    "import pandas as pd\n",
    "import numpy as np\n",
    "from scipy import stats\n",
    "import matplotlib.pyplot as plt\n",
    "from sklearn.preprocessing import LabelEncoder\n",
    "from sklearn.preprocessing import StandardScaler,MinMaxScaler\n",
    "from catboost import CatBoostRegressor, Pool, metrics, cv\n",
    "from sklearn.metrics import accuracy_score, mean_squared_error\n",
    "from sklearn.metrics import roc_auc_score\n",
    "from sklearn.model_selection import train_test_split\n",
    "from sklearn.linear_model import LinearRegression\n",
    "from sklearn.linear_model import LogisticRegression\n",
    "from sklearn.neural_network import MLPRegressor,MLPClassifier\n",
    "from sklearn.model_selection import KFold\n",
    "from sklearn.ensemble import RandomForestClassifier\n",
    "import lightgbm as lgb\n",
    "import seaborn as sns\n",
    "import pickle\n",
    "from sklearn.cluster import KMeans"
   ]
  },
  {
   "cell_type": "markdown",
   "metadata": {},
   "source": [
    "# 2. Prepare Data"
   ]
  },
  {
   "cell_type": "markdown",
   "metadata": {},
   "source": [
    "Load Data"
   ]
  },
  {
   "cell_type": "code",
   "execution_count": 56,
   "metadata": {},
   "outputs": [],
   "source": [
    "df_train = pd.read_csv('../data/train.csv')\n",
    "df_test = pd.read_csv('../data/test.csv')"
   ]
  },
  {
   "cell_type": "markdown",
   "metadata": {},
   "source": [
    "Drop the ones not needed for submission"
   ]
  },
  {
   "cell_type": "code",
   "execution_count": 57,
   "metadata": {},
   "outputs": [],
   "source": [
    "df_test = df_test.loc[:1920334]"
   ]
  },
  {
   "cell_type": "markdown",
   "metadata": {},
   "source": [
    "Separate Labels and Features"
   ]
  },
  {
   "cell_type": "code",
   "execution_count": 58,
   "metadata": {},
   "outputs": [],
   "source": [
    "# separate labels from features\n",
    "full_training_label_cols = ['TotalTimeStopped_p20','TotalTimeStopped_p40','TotalTimeStopped_p50',\n",
    "                       'TotalTimeStopped_p60','TotalTimeStopped_p80',\n",
    "                       'TimeFromFirstStop_p20','TimeFromFirstStop_p40','TimeFromFirstStop_p50',\n",
    "                       'TimeFromFirstStop_p60','TimeFromFirstStop_p80',\n",
    "                       'DistanceToFirstStop_p20','DistanceToFirstStop_p40','DistanceToFirstStop_p50',\n",
    "                       'DistanceToFirstStop_p60','DistanceToFirstStop_p80']\n",
    "\n",
    "# relevant label columns used for kaggle challenge\n",
    "rel_training_label_cols = ['TotalTimeStopped_p20','TotalTimeStopped_p50','TotalTimeStopped_p80',\n",
    "                       'DistanceToFirstStop_p20','DistanceToFirstStop_p50','DistanceToFirstStop_p80']\n",
    "\n",
    "# get label columns\n",
    "df_train_y = df_train[rel_training_label_cols]\n",
    "\n",
    "# get data by dropping columns not needed\n",
    "df_test_X = df_test.drop(columns=['RowId'])\n",
    "df_train_X = df_train.drop(columns=['RowId']+full_training_label_cols)"
   ]
  },
  {
   "cell_type": "markdown",
   "metadata": {},
   "source": [
    "Separate Data by City"
   ]
  },
  {
   "cell_type": "code",
   "execution_count": 59,
   "metadata": {},
   "outputs": [],
   "source": [
    "# train and testing dicts for cities\n",
    "cities = ['Atlanta','Boston','Chicago','Philadelphia']\n",
    "city_training_datasets_X = {}\n",
    "city_training_datasets_y = {}\n",
    "city_testing_datasets_X = {}\n",
    "\n",
    "# training\n",
    "for city in cities:\n",
    "    # get rows for this city\n",
    "    city_idxs = (df_train_X['City'] == city).values.nonzero()[0]\n",
    "\n",
    "    # get X (data) and y (labels)\n",
    "    city_training_datasets_X[city] = df_train_X.loc[city_idxs]\n",
    "    city_training_datasets_y[city] = df_train_y.loc[city_idxs]\n",
    "\n",
    "    # drop the city column from X (data)\n",
    "    city_training_datasets_X[city] = city_training_datasets_X[city].drop(columns=['City'])\n",
    "\n",
    "# testing\n",
    "for city in cities:\n",
    "    # get rows for this city\n",
    "    city_idxs = (df_test_X['City'] == city).values.nonzero()[0]\n",
    "\n",
    "    # get X (data)\n",
    "    city_testing_datasets_X[city] = df_test_X.loc[city_idxs]\n",
    "\n",
    "    # drop the city column from X (data)\n",
    "    city_testing_datasets_X[city] = city_testing_datasets_X[city].drop(columns=['City'])"
   ]
  },
  {
   "cell_type": "markdown",
   "metadata": {},
   "source": [
    "# 3. Feature Extraction"
   ]
  },
  {
   "cell_type": "markdown",
   "metadata": {},
   "source": [
    "The intersection IDs act as a feature. Since we separate the data by city, we do not need to encode these and can directly use the ID."
   ]
  },
  {
   "cell_type": "markdown",
   "metadata": {},
   "source": [
    "Encode the entry and exit names since they give information on the street size"
   ]
  },
  {
   "cell_type": "code",
   "execution_count": 60,
   "metadata": {},
   "outputs": [],
   "source": [
    "road_encoding = {\n",
    "    'Road': 1,\n",
    "    'Street': 2,\n",
    "    'Avenue': 2,\n",
    "    'Drive': 3,\n",
    "    'Broad': 3,\n",
    "    'Boulevard': 4\n",
    "}\n",
    "\n",
    "def encode(x):\n",
    "    # for missing values encode with a zero\n",
    "    if pd.isna(x):\n",
    "        return 0\n",
    "    for road in road_encoding.keys():\n",
    "        if road in x:\n",
    "            return road_encoding[road]\n",
    "        \n",
    "    return 0\n",
    "\n",
    "for city in cities:\n",
    "    # encode entry and exit for training\n",
    "    city_training_datasets_X[city]['EntryTypeStreet'] = city_training_datasets_X[city]['EntryStreetName'].apply(encode)\n",
    "    city_training_datasets_X[city]['ExitTypeStreet'] = city_training_datasets_X[city]['ExitStreetName'].apply(encode)\n",
    "    \n",
    "    # encode entry and exit for testing\n",
    "    city_testing_datasets_X[city]['EntryTypeStreet'] = city_testing_datasets_X[city]['EntryStreetName'].apply(encode)\n",
    "    city_testing_datasets_X[city]['ExitTypeStreet'] = city_testing_datasets_X[city]['ExitStreetName'].apply(encode)"
   ]
  },
  {
   "cell_type": "markdown",
   "metadata": {},
   "source": [
    "Add a binary feature if the entry and exit street are the same"
   ]
  },
  {
   "cell_type": "code",
   "execution_count": 61,
   "metadata": {},
   "outputs": [],
   "source": [
    "for city in cities:\n",
    "    city_training_datasets_X[city][\"entry_equals_exit\"] = (city_training_datasets_X[city][\"EntryStreetName\"] == city_training_datasets_X[city][\"ExitStreetName\"]).astype(int)\n",
    "    city_testing_datasets_X[city][\"entry_equals_exit\"] = (city_testing_datasets_X[city][\"EntryStreetName\"] ==  city_testing_datasets_X[city][\"ExitStreetName\"]).astype(int)"
   ]
  },
  {
   "cell_type": "markdown",
   "metadata": {},
   "source": [
    "Add a numeric feature to encode the turn based on the entry and exit heading in a circular fashion."
   ]
  },
  {
   "cell_type": "code",
   "execution_count": 62,
   "metadata": {},
   "outputs": [],
   "source": [
    "directions = {\n",
    "    'N': 0,\n",
    "    'NE': 1/4,\n",
    "    'E': 1/2,\n",
    "    'SE': 3/4,\n",
    "    'S': 1,\n",
    "    'SW': 5/4,\n",
    "    'W': 3/2,\n",
    "    'NW': 7/4\n",
    "}\n",
    "\n",
    "for city in cities:\n",
    "    city_training_datasets_X[city]['EntryHeading'] = city_training_datasets_X[city]['EntryHeading'].map(directions)\n",
    "    city_training_datasets_X[city]['ExitHeading'] = city_training_datasets_X[city]['ExitHeading'].map(directions)\n",
    "\n",
    "    city_testing_datasets_X[city]['EntryHeading'] = city_testing_datasets_X[city]['EntryHeading'].map(directions)\n",
    "    city_testing_datasets_X[city]['ExitHeading'] = city_testing_datasets_X[city]['ExitHeading'].map(directions)\n",
    "\n",
    "    city_training_datasets_X[city]['diffHeading'] = city_training_datasets_X[city]['EntryHeading']- city_training_datasets_X[city]['ExitHeading']  \n",
    "    city_testing_datasets_X[city]['diffHeading'] = city_testing_datasets_X[city]['EntryHeading']- city_testing_datasets_X[city]['ExitHeading']"
   ]
  },
  {
   "cell_type": "markdown",
   "metadata": {},
   "source": [
    "Add number of possible entries and exits per intersection"
   ]
  },
  {
   "cell_type": "code",
   "execution_count": 73,
   "metadata": {},
   "outputs": [],
   "source": [
    "X = city_training_datasets_X['Atlanta']"
   ]
  },
  {
   "cell_type": "code",
   "execution_count": 74,
   "metadata": {},
   "outputs": [],
   "source": [
    "a = X.groupby('IntersectionId')['EntryStreetName'].unique()"
   ]
  },
  {
   "cell_type": "code",
   "execution_count": 79,
   "metadata": {},
   "outputs": [
    {
     "data": {
      "text/plain": [
       "array(['Peachtree Street Southwest', 'Mitchell Street Southwest'],\n",
       "      dtype=object)"
      ]
     },
     "execution_count": 79,
     "metadata": {},
     "output_type": "execute_result"
    }
   ],
   "source": [
    "a.iloc[1]"
   ]
  },
  {
   "cell_type": "markdown",
   "metadata": {},
   "source": [
    "Standardize the Longitude and Latitude"
   ]
  },
  {
   "cell_type": "code",
   "execution_count": 43,
   "metadata": {},
   "outputs": [],
   "source": [
    "m_scaler = MinMaxScaler((-1,1))\n",
    "s_scaler = StandardScaler()\n",
    "for city in cities:\n",
    "    # km_df = city_training_datasets_X[city][['Longitude','Latitude']].copy()\n",
    "    # kmeans = KMeans(n_clusters=6, random_state=0, n_init=\"auto\").fit(km_df)\n",
    "    # dists = pd.DataFrame(s_scaler.fit_transform(kmeans.transform(km_df)),columns=['d1','d2','d3','d4','d5','d6']).reset_index(drop=True)\n",
    "    # city_training_datasets_X[city] = pd.concat([city_training_datasets_X[city].reset_index(drop=True),dists],axis=1)\n",
    "\n",
    "    # km_df = city_testing_datasets_X[city][['Longitude','Latitude']].copy()\n",
    "    # kmeans = KMeans(n_clusters=6, random_state=0, n_init=\"auto\").fit(km_df)\n",
    "    # dists = pd.DataFrame(s_scaler.fit_transform(kmeans.transform(km_df)),columns=['d1','d2','d3','d4','d5','d6']).reset_index(drop=True)\n",
    "    # city_testing_datasets_X[city] = pd.concat([city_testing_datasets_X[city].reset_index(drop=True),dists],axis=1)\n",
    "\n",
    "    city_training_datasets_X[city]['Latitude'] = (m_scaler.fit_transform(city_training_datasets_X[city]['Latitude'].values.reshape(-1, 1)))\n",
    "    city_training_datasets_X[city]['Longitude'] = (m_scaler.fit_transform(city_training_datasets_X[city]['Longitude'].values.reshape(-1, 1)))\n",
    "    city_testing_datasets_X[city]['Latitude'] = (m_scaler.fit_transform(city_testing_datasets_X[city]['Latitude'].values.reshape(-1, 1)))\n",
    "    city_testing_datasets_X[city]['Longitude'] = (m_scaler.fit_transform(city_testing_datasets_X[city]['Longitude'].values.reshape(-1, 1)))"
   ]
  },
  {
   "cell_type": "markdown",
   "metadata": {},
   "source": [
    "Finally, drop the columns we don't need"
   ]
  },
  {
   "cell_type": "code",
   "execution_count": 44,
   "metadata": {},
   "outputs": [],
   "source": [
    "for city in cities:\n",
    "    city_training_datasets_X[city].drop(['EntryStreetName', 'ExitStreetName', 'Path'], axis=1, inplace=True)\n",
    "    city_testing_datasets_X[city].drop(['EntryStreetName', 'ExitStreetName', 'Path'], axis=1, inplace=True)"
   ]
  },
  {
   "cell_type": "markdown",
   "metadata": {},
   "source": [
    "Set the data types per column"
   ]
  },
  {
   "cell_type": "code",
   "execution_count": 45,
   "metadata": {},
   "outputs": [
    {
     "name": "stdout",
     "output_type": "stream",
     "text": [
      "Memory usage of dataframe is 15.52 MB\n",
      "Memory usage after optimization is: 3.88 MB\n",
      "Decreased by 75.0%\n",
      "Memory usage of dataframe is 33.91 MB\n",
      "Memory usage after optimization is: 8.48 MB\n",
      "Decreased by 75.0%\n",
      "Memory usage of dataframe is 17.72 MB\n",
      "Memory usage after optimization is: 4.43 MB\n",
      "Decreased by 75.0%\n",
      "Memory usage of dataframe is 40.59 MB\n",
      "Memory usage after optimization is: 10.15 MB\n",
      "Decreased by 75.0%\n",
      "Memory usage of dataframe is 13.00 MB\n",
      "Memory usage after optimization is: 3.25 MB\n",
      "Decreased by 75.0%\n",
      "Memory usage of dataframe is 29.57 MB\n",
      "Memory usage after optimization is: 7.39 MB\n",
      "Decreased by 75.0%\n",
      "Memory usage of dataframe is 38.70 MB\n",
      "Memory usage after optimization is: 9.68 MB\n",
      "Decreased by 75.0%\n",
      "Memory usage of dataframe is 86.40 MB\n",
      "Memory usage after optimization is: 21.60 MB\n",
      "Decreased by 75.0%\n"
     ]
    }
   ],
   "source": [
    "def reduce_mem_usage(df):\n",
    "    \"\"\" iterate through all the columns of a dataframe and modify the data type\n",
    "        to reduce memory usage.        \n",
    "    \"\"\"\n",
    "    start_mem = df.memory_usage().sum() / 1024**2\n",
    "    print('Memory usage of dataframe is {:.2f} MB'.format(start_mem))\n",
    "    \n",
    "    for col in df.columns:\n",
    "        col_type = df[col].dtype\n",
    "        \n",
    "        if col_type != object:\n",
    "            c_min = df[col].min()\n",
    "            c_max = df[col].max()\n",
    "            if str(col_type)[:3] == 'int':\n",
    "                if c_min > np.iinfo(np.int8).min and c_max < np.iinfo(np.int8).max:\n",
    "                    df[col] = df[col].astype(np.int8)\n",
    "                elif c_min > np.iinfo(np.int16).min and c_max < np.iinfo(np.int16).max:\n",
    "                    df[col] = df[col].astype(np.int16)\n",
    "                elif c_min > np.iinfo(np.int32).min and c_max < np.iinfo(np.int32).max:\n",
    "                    df[col] = df[col].astype(np.int32)\n",
    "                elif c_min > np.iinfo(np.int64).min and c_max < np.iinfo(np.int64).max:\n",
    "                    df[col] = df[col].astype(np.int64)\n",
    "            else:\n",
    "                if c_min > np.finfo(np.float16).min and c_max < np.finfo(np.float16).max:\n",
    "                    df[col] = df[col].astype(np.float16)\n",
    "                elif c_min > np.finfo(np.float32).min and c_max < np.finfo(np.float32).max:\n",
    "                    df[col] = df[col].astype(np.float32)\n",
    "                else:\n",
    "                    df[col] = df[col].astype(np.float64)\n",
    "        else:\n",
    "            df[col] = df[col].astype('category')\n",
    "\n",
    "    end_mem = df.memory_usage().sum() / 1024**2\n",
    "    print('Memory usage after optimization is: {:.2f} MB'.format(end_mem))\n",
    "    print('Decreased by {:.1f}%'.format(100 * (start_mem - end_mem) / start_mem))\n",
    "    \n",
    "    return df\n",
    "\n",
    "for city in cities:\n",
    "    city_training_datasets_X[city] = reduce_mem_usage(city_training_datasets_X[city])\n",
    "    city_testing_datasets_X[city] = reduce_mem_usage(city_testing_datasets_X[city])"
   ]
  },
  {
   "cell_type": "markdown",
   "metadata": {},
   "source": [
    "Specify the categorical features (needed for training model)"
   ]
  },
  {
   "cell_type": "code",
   "execution_count": 46,
   "metadata": {},
   "outputs": [],
   "source": [
    "cat_feat = ['Hour', 'Weekend','Month', 'entry_equals_exit', 'IntersectionId',\n",
    "            'EntryTypeStreet', 'ExitTypeStreet']\n",
    "\n",
    "rel_training_label_cols = ['TotalTimeStopped_p20','TotalTimeStopped_p50','TotalTimeStopped_p80',\n",
    "                       'DistanceToFirstStop_p20','DistanceToFirstStop_p50','DistanceToFirstStop_p80']\n",
    "                       "
   ]
  },
  {
   "cell_type": "markdown",
   "metadata": {},
   "source": [
    "Finally, save the data to disk"
   ]
  },
  {
   "cell_type": "code",
   "execution_count": 47,
   "metadata": {},
   "outputs": [],
   "source": [
    "with open('../data/basic_training_X.pickle', 'wb') as handle:\n",
    "    pickle.dump(city_training_datasets_X, handle, protocol=pickle.HIGHEST_PROTOCOL)\n",
    "\n",
    "with open('../data/basic_training_y.pickle', 'wb') as handle:\n",
    "    pickle.dump(city_training_datasets_y, handle, protocol=pickle.HIGHEST_PROTOCOL)\n",
    "\n",
    "with open('../data/basic_testing_X.pickle', 'wb') as handle:\n",
    "    pickle.dump(city_testing_datasets_X, handle, protocol=pickle.HIGHEST_PROTOCOL)"
   ]
  },
  {
   "cell_type": "markdown",
   "metadata": {},
   "source": [
    "# 4. Train Models"
   ]
  },
  {
   "cell_type": "markdown",
   "metadata": {},
   "source": [
    "Load the data"
   ]
  },
  {
   "cell_type": "code",
   "execution_count": 48,
   "metadata": {},
   "outputs": [],
   "source": [
    "with open('../data/basic_training_X.pickle', 'rb') as handle:\n",
    "    city_training_datasets_X = pickle.load(handle)\n",
    "\n",
    "with open('../data/basic_training_y.pickle', 'rb') as handle:\n",
    "    city_training_datasets_y = pickle.load(handle)\n",
    "\n",
    "with open('../data/basic_testing_X.pickle', 'rb') as handle:\n",
    "    city_testing_datasets_X = pickle.load(handle)"
   ]
  },
  {
   "cell_type": "markdown",
   "metadata": {},
   "source": [
    "Train a model for every city and every target"
   ]
  },
  {
   "cell_type": "code",
   "execution_count": 49,
   "metadata": {},
   "outputs": [],
   "source": [
    "cities = ['Atlanta','Boston','Chicago','Philadelphia']\n",
    "rel_training_label_cols = ['TotalTimeStopped_p20','TotalTimeStopped_p50','TotalTimeStopped_p80',\n",
    "                       'DistanceToFirstStop_p20','DistanceToFirstStop_p50','DistanceToFirstStop_p80']\n",
    "cat_feat = ['Hour', 'Weekend','Month', 'entry_equals_exit', 'IntersectionId',\n",
    "            'EntryTypeStreet', 'ExitTypeStreet']\n",
    "\n",
    "adv_models = {city: LogisticRegression() for city in cities}\n",
    "# models = {city: {target : CatBoostRegressor(loss_function='RMSE',iterations=75) for target in rel_training_label_cols} for city in cities}\n",
    "models = {city: {target : LinearRegression() for target in rel_training_label_cols} for city in cities}"
   ]
  },
  {
   "cell_type": "code",
   "execution_count": 50,
   "metadata": {},
   "outputs": [
    {
     "name": "stderr",
     "output_type": "stream",
     "text": [
      "/home/gc28692/anaconda3/envs/hs/lib/python3.9/site-packages/sklearn/linear_model/_logistic.py:460: ConvergenceWarning: lbfgs failed to converge (status=1):\n",
      "STOP: TOTAL NO. of ITERATIONS REACHED LIMIT.\n",
      "\n",
      "Increase the number of iterations (max_iter) or scale the data as shown in:\n",
      "    https://scikit-learn.org/stable/modules/preprocessing.html\n",
      "Please also refer to the documentation for alternative solver options:\n",
      "    https://scikit-learn.org/stable/modules/linear_model.html#logistic-regression\n",
      "  n_iter_i = _check_optimize_result(\n",
      "/home/gc28692/anaconda3/envs/hs/lib/python3.9/site-packages/sklearn/base.py:464: UserWarning: X does not have valid feature names, but LogisticRegression was fitted with feature names\n",
      "  warnings.warn(\n"
     ]
    },
    {
     "name": "stdout",
     "output_type": "stream",
     "text": [
      "0.6576507132764144\n",
      "City: Atlanta, Target: TotalTimeStopped_p20 (1/24)\n",
      "City: Atlanta, Target: TotalTimeStopped_p50 (2/24)\n",
      "City: Atlanta, Target: TotalTimeStopped_p80 (3/24)\n",
      "City: Atlanta, Target: DistanceToFirstStop_p20 (4/24)\n",
      "City: Atlanta, Target: DistanceToFirstStop_p50 (5/24)\n",
      "City: Atlanta, Target: DistanceToFirstStop_p80 (6/24)\n"
     ]
    },
    {
     "name": "stderr",
     "output_type": "stream",
     "text": [
      "/home/gc28692/anaconda3/envs/hs/lib/python3.9/site-packages/sklearn/linear_model/_logistic.py:460: ConvergenceWarning: lbfgs failed to converge (status=1):\n",
      "STOP: TOTAL NO. of ITERATIONS REACHED LIMIT.\n",
      "\n",
      "Increase the number of iterations (max_iter) or scale the data as shown in:\n",
      "    https://scikit-learn.org/stable/modules/preprocessing.html\n",
      "Please also refer to the documentation for alternative solver options:\n",
      "    https://scikit-learn.org/stable/modules/linear_model.html#logistic-regression\n",
      "  n_iter_i = _check_optimize_result(\n",
      "/home/gc28692/anaconda3/envs/hs/lib/python3.9/site-packages/sklearn/base.py:464: UserWarning: X does not have valid feature names, but LogisticRegression was fitted with feature names\n",
      "  warnings.warn(\n"
     ]
    },
    {
     "name": "stdout",
     "output_type": "stream",
     "text": [
      "0.6575859952728711\n",
      "City: Boston, Target: TotalTimeStopped_p20 (7/24)\n",
      "City: Boston, Target: TotalTimeStopped_p50 (8/24)\n",
      "City: Boston, Target: TotalTimeStopped_p80 (9/24)\n",
      "City: Boston, Target: DistanceToFirstStop_p20 (10/24)\n",
      "City: Boston, Target: DistanceToFirstStop_p50 (11/24)\n",
      "City: Boston, Target: DistanceToFirstStop_p80 (12/24)\n",
      "0.556426957105883\n",
      "City: Chicago, Target: TotalTimeStopped_p20 (13/24)\n",
      "City: Chicago, Target: TotalTimeStopped_p50 (14/24)\n",
      "City: Chicago, Target: TotalTimeStopped_p80 (15/24)\n",
      "City: Chicago, Target: DistanceToFirstStop_p20 (16/24)\n",
      "City: Chicago, Target: DistanceToFirstStop_p50 (17/24)\n",
      "City: Chicago, Target: DistanceToFirstStop_p80 (18/24)\n"
     ]
    },
    {
     "name": "stderr",
     "output_type": "stream",
     "text": [
      "/home/gc28692/anaconda3/envs/hs/lib/python3.9/site-packages/sklearn/base.py:464: UserWarning: X does not have valid feature names, but LogisticRegression was fitted with feature names\n",
      "  warnings.warn(\n",
      "/home/gc28692/anaconda3/envs/hs/lib/python3.9/site-packages/sklearn/linear_model/_logistic.py:460: ConvergenceWarning: lbfgs failed to converge (status=1):\n",
      "STOP: TOTAL NO. of ITERATIONS REACHED LIMIT.\n",
      "\n",
      "Increase the number of iterations (max_iter) or scale the data as shown in:\n",
      "    https://scikit-learn.org/stable/modules/preprocessing.html\n",
      "Please also refer to the documentation for alternative solver options:\n",
      "    https://scikit-learn.org/stable/modules/linear_model.html#logistic-regression\n",
      "  n_iter_i = _check_optimize_result(\n",
      "/home/gc28692/anaconda3/envs/hs/lib/python3.9/site-packages/sklearn/base.py:464: UserWarning: X does not have valid feature names, but LogisticRegression was fitted with feature names\n",
      "  warnings.warn(\n"
     ]
    },
    {
     "name": "stdout",
     "output_type": "stream",
     "text": [
      "0.644205259544096\n",
      "City: Philadelphia, Target: TotalTimeStopped_p20 (19/24)\n",
      "City: Philadelphia, Target: TotalTimeStopped_p50 (20/24)\n",
      "City: Philadelphia, Target: TotalTimeStopped_p80 (21/24)\n",
      "City: Philadelphia, Target: DistanceToFirstStop_p20 (22/24)\n",
      "City: Philadelphia, Target: DistanceToFirstStop_p50 (23/24)\n",
      "City: Philadelphia, Target: DistanceToFirstStop_p80 (24/24)\n",
      "Val RMSE: 70.6743381739585\n"
     ]
    }
   ],
   "source": [
    "val_preds = []\n",
    "val_labels = []\n",
    "cnt = 1\n",
    "for city in cities:\n",
    "    # adverserial validation\n",
    "    training = city_training_datasets_X[city].copy()\n",
    "    testing = city_testing_datasets_X[city].copy()\n",
    "    training['target'] = 0\n",
    "    testing['target'] = 1\n",
    "    train_test = pd.concat([training, testing], axis = 0)\n",
    "    target = train_test['target'].values\n",
    "    train, test = train_test_split(train_test, test_size=0.33, random_state=42, shuffle=True)\n",
    "    train_y = train['target'].values\n",
    "    test_y = test['target'].values\n",
    "    train = train.drop('target',axis=1)\n",
    "    test = test.drop('target',axis=1)\n",
    "    \n",
    "    clf = LogisticRegression()\n",
    "    clf.fit(train,train_y)\n",
    "    out = clf.predict_proba(test)[:,1]\n",
    "    print(roc_auc_score(test_y,out))\n",
    "    out_probs = clf.predict_proba(city_training_datasets_X[city].values)[:,0]\n",
    "    val_size = int(0.2*len(city_training_datasets_X[city]))\n",
    "    val_idxs = np.argsort(out_probs)[:val_size]\n",
    "    train_idxs = np.argsort(out_probs)[val_size:]\n",
    "    \n",
    "    for target in rel_training_label_cols:\n",
    "        print(f\"City: {city}, Target: {target} ({cnt}/{len(cities)*len(rel_training_label_cols)})\")\n",
    "        \n",
    "        X_train = city_training_datasets_X[city].iloc[train_idxs,:]\n",
    "        y_train = city_training_datasets_y[city][target].values[train_idxs]\n",
    "        X_validation = city_training_datasets_X[city].iloc[val_idxs,:]\n",
    "        y_validation = city_training_datasets_y[city][target].values[val_idxs]\n",
    "        # X_train,X_validation,y_train,y_validation=train_test_split(\n",
    "        #                                             city_training_datasets_X[city].values,\n",
    "        #                                             city_training_datasets_y[city][target].values,\n",
    "        #                                             test_size=0.2, random_state=42)\n",
    "        models[city][target].fit(X_train,y_train)\n",
    "        # models[city][target].fit(\n",
    "        #     X_train, y_train,\n",
    "        #     cat_features=cat_feat,\n",
    "        #     eval_set=(X_validation, y_validation),\n",
    "        #     logging_level='Verbose',  # you can uncomment this for text output\n",
    "        #     # plot=True\n",
    "        # )\n",
    "        val_preds.append(models[city][target].predict(X_validation))\n",
    "        val_labels.append(y_validation)\n",
    "        cnt += 1\n",
    "\n",
    "val_preds = np.concatenate(val_preds)\n",
    "val_labels= np.concatenate(val_labels)\n",
    "\n",
    "print(f\"Val RMSE: {mean_squared_error(val_labels,val_preds,squared=False)}\")"
   ]
  },
  {
   "cell_type": "markdown",
   "metadata": {},
   "source": [
    "Generate Test Predictions"
   ]
  },
  {
   "cell_type": "code",
   "execution_count": 51,
   "metadata": {},
   "outputs": [],
   "source": [
    "df_sub = pd.read_csv('../submission/sample_submission.csv')"
   ]
  },
  {
   "cell_type": "code",
   "execution_count": 52,
   "metadata": {},
   "outputs": [],
   "source": [
    "test_preds = []\n",
    "for city in cities:\n",
    "    city_df_preds = pd.DataFrame(columns=rel_training_label_cols)\n",
    "    for target_i,target in enumerate(rel_training_label_cols):\n",
    "        city_df_preds[target] = models[city][target].predict(city_testing_datasets_X[city])\n",
    "    \n",
    "    city_df_preds = city_df_preds.stack()\n",
    "    city_df_preds = pd.DataFrame(city_df_preds)\n",
    "    test_preds.append(city_df_preds[0].values)\n",
    "\n",
    "test_preds = np.concatenate(test_preds)\n",
    "df_sub['Target'] = test_preds\n",
    "df_sub.to_csv('../submission/lr_70_67.csv',index=False)"
   ]
  },
  {
   "cell_type": "code",
   "execution_count": 26,
   "metadata": {},
   "outputs": [
    {
     "data": {
      "application/vnd.jupyter.widget-view+json": {
       "model_id": "aa31e2c6ec6f4a0388a2e979b38c42a2",
       "version_major": 2,
       "version_minor": 0
      },
      "text/plain": [
       "MetricVisualizer(layout=Layout(align_self='stretch', height='500px'))"
      ]
     },
     "metadata": {},
     "output_type": "display_data"
    },
    {
     "name": "stdout",
     "output_type": "stream",
     "text": [
      "Learning rate set to 0.378863\n",
      "0:\tlearn: 6.8820235\ttest: 6.8085650\tbest: 6.8085650 (0)\ttotal: 226ms\tremaining: 45s\n",
      "1:\tlearn: 6.7445098\ttest: 6.6571545\tbest: 6.6571545 (1)\ttotal: 354ms\tremaining: 35s\n",
      "2:\tlearn: 6.6695849\ttest: 6.5658678\tbest: 6.5658678 (2)\ttotal: 443ms\tremaining: 29.1s\n",
      "3:\tlearn: 6.6113448\ttest: 6.4949000\tbest: 6.4949000 (3)\ttotal: 525ms\tremaining: 25.7s\n",
      "4:\tlearn: 6.5779315\ttest: 6.4550264\tbest: 6.4550264 (4)\ttotal: 632ms\tremaining: 24.7s\n",
      "5:\tlearn: 6.5436799\ttest: 6.4178089\tbest: 6.4178089 (5)\ttotal: 786ms\tremaining: 25.4s\n",
      "6:\tlearn: 6.5237098\ttest: 6.3969001\tbest: 6.3969001 (6)\ttotal: 896ms\tremaining: 24.7s\n",
      "7:\tlearn: 6.5091259\ttest: 6.3821344\tbest: 6.3821344 (7)\ttotal: 939ms\tremaining: 22.5s\n",
      "8:\tlearn: 6.4923500\ttest: 6.3624637\tbest: 6.3624637 (8)\ttotal: 1.05s\tremaining: 22.2s\n",
      "9:\tlearn: 6.4773681\ttest: 6.3432744\tbest: 6.3432744 (9)\ttotal: 1.22s\tremaining: 23.1s\n",
      "10:\tlearn: 6.4623605\ttest: 6.3260911\tbest: 6.3260911 (10)\ttotal: 1.38s\tremaining: 23.8s\n",
      "11:\tlearn: 6.4545322\ttest: 6.3164827\tbest: 6.3164827 (11)\ttotal: 1.54s\tremaining: 24.1s\n"
     ]
    }
   ],
   "source": [
    "models = []\n",
    "for i,tc in enumerate(rel_training_label_cols):\n",
    "    X_train,X_validation,y_train,y_validation=train_test_split(train_set,all_target[i], test_size=0.2, random_state=31)\n",
    "\n",
    "    model = CatBoostRegressor(\n",
    "        loss_function='RMSE',\n",
    "        iterations=200\n",
    "    )\n",
    "\n",
    "    model.fit(\n",
    "        X_train, y_train,\n",
    "        cat_features=cat_feat,\n",
    "        eval_set=(X_validation, y_validation),\n",
    "    #     logging_level='Verbose',  # you can uncomment this for text output\n",
    "        plot=True\n",
    "    )\n",
    "    models.append(model)"
   ]
  },
  {
   "cell_type": "code",
   "execution_count": 27,
   "metadata": {},
   "outputs": [],
   "source": [
    "import pickle\n",
    "import pandas as pd\n",
    "import numpy as np"
   ]
  },
  {
   "cell_type": "code",
   "execution_count": null,
   "metadata": {},
   "outputs": [],
   "source": [
    "# with open('models.pickle', 'wb') as handle:\n",
    "#     pickle.dump(models, handle, protocol=pickle.HIGHEST_PROTOCOL)"
   ]
  },
  {
   "cell_type": "code",
   "execution_count": 28,
   "metadata": {},
   "outputs": [],
   "source": [
    "with open('models.pickle', 'rb') as handle:\n",
    "    models = pickle.load(handle)"
   ]
  },
  {
   "cell_type": "code",
   "execution_count": 39,
   "metadata": {},
   "outputs": [],
   "source": [
    "preds = []\n",
    "truths = []\n",
    "for i in range(6):\n",
    "    X_train,X_validation,y_train,y_validation=train_test_split(train_set,all_target[i], test_size=0.2, random_state=31)\n",
    "    preds.append(models[i].predict(X_validation))\n",
    "    truths.append(y_validation.values)"
   ]
  },
  {
   "cell_type": "code",
   "execution_count": 38,
   "metadata": {},
   "outputs": [],
   "source": [
    "preds = np.concatenate(preds)\n",
    "truths = np.concatenate(truths)"
   ]
  },
  {
   "cell_type": "code",
   "execution_count": 40,
   "metadata": {},
   "outputs": [
    {
     "data": {
      "text/plain": [
       "50.455332345134565"
      ]
     },
     "execution_count": 40,
     "metadata": {},
     "output_type": "execute_result"
    }
   ],
   "source": [
    "np.sqrt(((preds - truths) ** 2).mean())"
   ]
  },
  {
   "cell_type": "code",
   "execution_count": 30,
   "metadata": {},
   "outputs": [],
   "source": [
    "df_test = pd.read_csv('../data/test.csv')"
   ]
  },
  {
   "cell_type": "code",
   "execution_count": 31,
   "metadata": {},
   "outputs": [],
   "source": [
    "df = pd.read_csv('../submission/sample_submission.csv')"
   ]
  },
  {
   "cell_type": "code",
   "execution_count": 40,
   "metadata": {},
   "outputs": [],
   "source": [
    "\n",
    "target_ids = df['TargetId'].values\n",
    "\n",
    "for i,tid in enumerate(target_ids):\n",
    "    target_ids[i] = tid.split('_')[0]\n",
    "\n",
    "tids = np.sort(np.unique(target_ids).astype(int))\n",
    "missing_ids = np.setdiff1d(df_test['RowId'].values,tids)\n",
    "missing_ids_idxs = np.where(np.isin(df_test['RowId'].values,missing_ids))[0]"
   ]
  },
  {
   "cell_type": "code",
   "execution_count": 41,
   "metadata": {},
   "outputs": [],
   "source": [
    "X_test_ = X_test.drop(missing_ids_idxs)"
   ]
  },
  {
   "cell_type": "code",
   "execution_count": 42,
   "metadata": {},
   "outputs": [],
   "source": [
    "preds = []\n",
    "for model in models:\n",
    "    preds.append(model.predict(X_test_))"
   ]
  },
  {
   "cell_type": "code",
   "execution_count": 43,
   "metadata": {},
   "outputs": [],
   "source": [
    "preds_all = np.concatenate(preds)"
   ]
  },
  {
   "cell_type": "code",
   "execution_count": 37,
   "metadata": {},
   "outputs": [],
   "source": [
    "full_preds = np.zeros(len(preds)*len(preds[0]))\n",
    "for i,pred in enumerate(preds):\n",
    "    full_preds[i::6] = pred"
   ]
  },
  {
   "cell_type": "code",
   "execution_count": 44,
   "metadata": {},
   "outputs": [],
   "source": [
    "df = pd.read_csv('../submission/sample_submission.csv')\n",
    "df['Target'] = preds_all"
   ]
  },
  {
   "cell_type": "code",
   "execution_count": 44,
   "metadata": {},
   "outputs": [],
   "source": [
    "df[5::6].mean()"
   ]
  },
  {
   "cell_type": "code",
   "execution_count": 47,
   "metadata": {},
   "outputs": [],
   "source": [
    "df.to_csv('../submission/basic2.csv',index=False)"
   ]
  },
  {
   "cell_type": "code",
   "execution_count": 46,
   "metadata": {},
   "outputs": [
    {
     "data": {
      "text/html": [
       "<div>\n",
       "<style scoped>\n",
       "    .dataframe tbody tr th:only-of-type {\n",
       "        vertical-align: middle;\n",
       "    }\n",
       "\n",
       "    .dataframe tbody tr th {\n",
       "        vertical-align: top;\n",
       "    }\n",
       "\n",
       "    .dataframe thead th {\n",
       "        text-align: right;\n",
       "    }\n",
       "</style>\n",
       "<table border=\"1\" class=\"dataframe\">\n",
       "  <thead>\n",
       "    <tr style=\"text-align: right;\">\n",
       "      <th></th>\n",
       "      <th>TargetId</th>\n",
       "      <th>Target</th>\n",
       "    </tr>\n",
       "  </thead>\n",
       "  <tbody>\n",
       "    <tr>\n",
       "      <th>0</th>\n",
       "      <td>0_0</td>\n",
       "      <td>0.673897</td>\n",
       "    </tr>\n",
       "    <tr>\n",
       "      <th>1</th>\n",
       "      <td>0_1</td>\n",
       "      <td>0.357533</td>\n",
       "    </tr>\n",
       "    <tr>\n",
       "      <th>2</th>\n",
       "      <td>0_2</td>\n",
       "      <td>-0.130717</td>\n",
       "    </tr>\n",
       "    <tr>\n",
       "      <th>3</th>\n",
       "      <td>0_3</td>\n",
       "      <td>0.667677</td>\n",
       "    </tr>\n",
       "    <tr>\n",
       "      <th>4</th>\n",
       "      <td>0_4</td>\n",
       "      <td>-0.136937</td>\n",
       "    </tr>\n",
       "    <tr>\n",
       "      <th>...</th>\n",
       "      <td>...</td>\n",
       "      <td>...</td>\n",
       "    </tr>\n",
       "    <tr>\n",
       "      <th>11522005</th>\n",
       "      <td>1920334_1</td>\n",
       "      <td>218.817100</td>\n",
       "    </tr>\n",
       "    <tr>\n",
       "      <th>11522006</th>\n",
       "      <td>1920334_2</td>\n",
       "      <td>210.699236</td>\n",
       "    </tr>\n",
       "    <tr>\n",
       "      <th>11522007</th>\n",
       "      <td>1920334_3</td>\n",
       "      <td>222.282460</td>\n",
       "    </tr>\n",
       "    <tr>\n",
       "      <th>11522008</th>\n",
       "      <td>1920334_4</td>\n",
       "      <td>223.973268</td>\n",
       "    </tr>\n",
       "    <tr>\n",
       "      <th>11522009</th>\n",
       "      <td>1920334_5</td>\n",
       "      <td>222.282460</td>\n",
       "    </tr>\n",
       "  </tbody>\n",
       "</table>\n",
       "<p>11522010 rows × 2 columns</p>\n",
       "</div>"
      ],
      "text/plain": [
       "           TargetId      Target\n",
       "0               0_0    0.673897\n",
       "1               0_1    0.357533\n",
       "2               0_2   -0.130717\n",
       "3               0_3    0.667677\n",
       "4               0_4   -0.136937\n",
       "...             ...         ...\n",
       "11522005  1920334_1  218.817100\n",
       "11522006  1920334_2  210.699236\n",
       "11522007  1920334_3  222.282460\n",
       "11522008  1920334_4  223.973268\n",
       "11522009  1920334_5  222.282460\n",
       "\n",
       "[11522010 rows x 2 columns]"
      ]
     },
     "execution_count": 46,
     "metadata": {},
     "output_type": "execute_result"
    }
   ],
   "source": [
    "df"
   ]
  },
  {
   "cell_type": "code",
   "execution_count": 42,
   "metadata": {},
   "outputs": [],
   "source": [
    "df2 = pd.read_csv('../submission/basic.csv')"
   ]
  },
  {
   "cell_type": "code",
   "execution_count": 58,
   "metadata": {},
   "outputs": [
    {
     "data": {
      "text/plain": [
       "84.0"
      ]
     },
     "execution_count": 58,
     "metadata": {},
     "output_type": "execute_result"
    }
   ],
   "source": [
    "y6_train.values.mean()"
   ]
  },
  {
   "cell_type": "code",
   "execution_count": 61,
   "metadata": {},
   "outputs": [],
   "source": [
    "vals = np.sort(y6_train.values)[::-1]"
   ]
  },
  {
   "cell_type": "code",
   "execution_count": 67,
   "metadata": {},
   "outputs": [
    {
     "data": {
      "text/plain": [
       "<matplotlib.collections.PathCollection at 0x7f42d4200340>"
      ]
     },
     "execution_count": 67,
     "metadata": {},
     "output_type": "execute_result"
    },
    {
     "data": {
      "image/png": "[encoded data removed]",
      "text/plain": [
       "<Figure size 640x480 with 1 Axes>"
      ]
     },
     "metadata": {},
     "output_type": "display_data"
    }
   ],
   "source": [
    "plt.scatter(np.arange(len(vals)),vals)"
   ]
  },
  {
   "cell_type": "code",
   "execution_count": 69,
   "metadata": {},
   "outputs": [
    {
     "data": {
      "text/plain": [
       "0.8132935226714091"
      ]
     },
     "execution_count": 69,
     "metadata": {},
     "output_type": "execute_result"
    }
   ],
   "source": [
    "(vals < 100).mean()"
   ]
  },
  {
   "cell_type": "code",
   "execution_count": 29,
   "metadata": {},
   "outputs": [
    {
     "name": "stdout",
     "output_type": "stream",
     "text": [
      "298.0\n",
      "375.0\n",
      "763.0\n",
      "1902.0\n",
      "2852.0\n",
      "4080.0\n"
     ]
    }
   ],
   "source": [
    "print(y1_train.max())\n",
    "print(y2_train.max())\n",
    "print(y3_train.max())\n",
    "print(y4_train.max())\n",
    "print(y5_train.max())\n",
    "print(y6_train.max())"
   ]
  }
 ],
 "metadata": {
  "kernelspec": {
   "display_name": "Python 3",
   "language": "python",
   "name": "python3"
  },
  "language_info": {
   "codemirror_mode": {
    "name": "ipython",
    "version": 3
   },
   "file_extension": ".py",
   "mimetype": "text/x-python",
   "name": "python",
   "nbconvert_exporter": "python",
   "pygments_lexer": "ipython3",
   "version": "3.9.16"
  }
 },
 "nbformat": 4,
 "nbformat_minor": 1
}
