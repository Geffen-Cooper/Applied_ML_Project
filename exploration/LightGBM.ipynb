{
  "cells": [
    {
      "cell_type": "markdown",
      "metadata": {
        "id": "RGHGb_oNdyvP"
      },
      "source": [
        "#### Import the libraries"
      ]
    },
    {
      "cell_type": "code",
      "execution_count": null,
      "metadata": {
        "id": "AD5wjU6ndyvT"
      },
      "outputs": [],
      "source": [
        "import numpy as np\n",
        "import pandas as pd\n",
        "import matplotlib.pyplot as plt"
      ]
    },
    {
      "cell_type": "markdown",
      "metadata": {
        "id": "LO97D_XjdyvW"
      },
      "source": [
        "#### Import the datasets"
      ]
    },
    {
      "cell_type": "code",
      "execution_count": null,
      "metadata": {
        "colab": {
          "base_uri": "https://localhost:8080/"
        },
        "id": "e3vQ2oQbdyvW",
        "outputId": "530f056f-786c-4719-d0b6-55be97e241c3"
      },
      "outputs": [
        {
          "output_type": "stream",
          "name": "stdout",
          "text": [
            "Drive not mounted, so nothing to flush and unmount.\n",
            "Mounted at /content/drive\n",
            " Adaboost.ipynb\n",
            " AUB\n",
            "'Convex MPC.ipynb'\n",
            " Data_input.xlsx\n",
            "'Decision Tree.ipynb'\n",
            "'Gradient Boost.ipynb'\n",
            "'Graduate Applications'\n",
            "'Job Applications'\n",
            "'LightGBM - Copy.ipynb'\n",
            " LightGBM_Optimization2.ipynb\n",
            "'LightGBM - Optimization.ipynb'\n",
            "'Linear Regression.ipynb'\n",
            "\"Master's\"\n",
            " MLP.ipynb\n",
            " Mohamad.ipynb\n",
            "'New Features.ipynb'\n",
            "'Optimal Power Flow via Machine Learning '\n",
            " OTB\n",
            "'PHMP - G2'\n",
            "'Random Forests.ipynb'\n",
            " sample_submission.csv\n",
            " SBC\n",
            "'SBC Projects  (File responses)'\n",
            "'SBC Projects .gform'\n",
            "'SBC Projects  (Responses).gsheet'\n",
            "'SOP - Optimization.gdoc'\n",
            "'Students for Sustainable Energy for All (SSEA) AUB Position Recruitment (Responses).gsheet'\n",
            " test.csv\n",
            " train.csv\n",
            " Untitled\n",
            " Untitled0.ipynb\n",
            "'Untitled (1)'\n",
            " Untitled1.ipynb\n",
            " XGBoost.ipynb\n",
            "'yes (1).csv'\n"
          ]
        }
      ],
      "source": [
        "from google.colab import drive\n",
        "\n",
        "# Unmount first (if already mounted)\n",
        "drive.flush_and_unmount()\n",
        "\n",
        "# Mount Google Drive\n",
        "drive.mount('/content/drive')\n",
        "\n",
        "!ls '/content/drive/MyDrive/'\n",
        "\n",
        "train_df = pd.read_csv('/content/drive/MyDrive/train.csv')\n",
        "test_df = pd.read_csv('/content/drive/MyDrive/test.csv')    # Replace 'test.csv' with the actual file name and path of your test dataset"
      ]
    },
    {
      "cell_type": "markdown",
      "metadata": {
        "id": "R0QUBhvNdyvY"
      },
      "source": [
        "#### Exploratory data analysis has been done earlier"
      ]
    },
    {
      "cell_type": "markdown",
      "metadata": {
        "id": "tjlgioOgdyvY"
      },
      "source": [
        "#### Fill the missing data"
      ]
    },
    {
      "cell_type": "code",
      "execution_count": null,
      "metadata": {
        "colab": {
          "base_uri": "https://localhost:8080/"
        },
        "id": "l-x4iiBbdyvY",
        "outputId": "bb757aa2-fbd0-42dd-ff1c-c1283a17b29e"
      },
      "outputs": [
        {
          "output_type": "stream",
          "name": "stdout",
          "text": [
            "Missing Data in Training Dataset:\n",
            "RowId                         0\n",
            "IntersectionId                0\n",
            "Latitude                      0\n",
            "Longitude                     0\n",
            "EntryStreetName            8148\n",
            "ExitStreetName             6287\n",
            "EntryHeading                  0\n",
            "ExitHeading                   0\n",
            "Hour                          0\n",
            "Weekend                       0\n",
            "Month                         0\n",
            "Path                          0\n",
            "TotalTimeStopped_p20          0\n",
            "TotalTimeStopped_p40          0\n",
            "TotalTimeStopped_p50          0\n",
            "TotalTimeStopped_p60          0\n",
            "TotalTimeStopped_p80          0\n",
            "TimeFromFirstStop_p20         0\n",
            "TimeFromFirstStop_p40         0\n",
            "TimeFromFirstStop_p50         0\n",
            "TimeFromFirstStop_p60         0\n",
            "TimeFromFirstStop_p80         0\n",
            "DistanceToFirstStop_p20       0\n",
            "DistanceToFirstStop_p40       0\n",
            "DistanceToFirstStop_p50       0\n",
            "DistanceToFirstStop_p60       0\n",
            "DistanceToFirstStop_p80       0\n",
            "City                          0\n",
            "dtype: int64\n",
            "Missing Data in Training Dataset:\n",
            "RowId              0\n",
            "IntersectionId     0\n",
            "Latitude           0\n",
            "Longitude          0\n",
            "EntryStreetName    0\n",
            "ExitStreetName     0\n",
            "EntryHeading       0\n",
            "ExitHeading        0\n",
            "Hour               0\n",
            "Weekend            0\n",
            "Month              0\n",
            "Path               0\n",
            "City               0\n",
            "dtype: int64\n"
          ]
        }
      ],
      "source": [
        "# Assuming you have already loaded the training dataset into the train_df dataframe\n",
        "\n",
        "# Check for missing data in each column\n",
        "missing_data_train = train_df.isnull().sum()\n",
        "\n",
        "# Display the missing data counts for each column\n",
        "print(\"Missing Data in Training Dataset:\")\n",
        "print(missing_data_train)\n",
        "\n",
        "# Assuming you have already loaded the training dataset into the train_df dataframe\n",
        "\n",
        "# Check for missing data in each column\n",
        "missing_data_test = test_df.isnull().sum()\n",
        "\n",
        "# Display the missing data counts for each column\n",
        "print(\"Missing Data in Training Dataset:\")\n",
        "print(missing_data_test)\n",
        "\n"
      ]
    },
    {
      "cell_type": "code",
      "execution_count": null,
      "metadata": {
        "colab": {
          "base_uri": "https://localhost:8080/"
        },
        "id": "YzBQ_V4tdyva",
        "outputId": "939a7ed1-db49-4845-d99b-df37e18f492b"
      },
      "outputs": [
        {
          "output_type": "stream",
          "name": "stdout",
          "text": [
            "Missing Data in Training Dataset after filling:\n",
            "RowId                      0\n",
            "IntersectionId             0\n",
            "Latitude                   0\n",
            "Longitude                  0\n",
            "EntryStreetName            0\n",
            "ExitStreetName             0\n",
            "EntryHeading               0\n",
            "ExitHeading                0\n",
            "Hour                       0\n",
            "Weekend                    0\n",
            "Month                      0\n",
            "Path                       0\n",
            "TotalTimeStopped_p20       0\n",
            "TotalTimeStopped_p40       0\n",
            "TotalTimeStopped_p50       0\n",
            "TotalTimeStopped_p60       0\n",
            "TotalTimeStopped_p80       0\n",
            "TimeFromFirstStop_p20      0\n",
            "TimeFromFirstStop_p40      0\n",
            "TimeFromFirstStop_p50      0\n",
            "TimeFromFirstStop_p60      0\n",
            "TimeFromFirstStop_p80      0\n",
            "DistanceToFirstStop_p20    0\n",
            "DistanceToFirstStop_p40    0\n",
            "DistanceToFirstStop_p50    0\n",
            "DistanceToFirstStop_p60    0\n",
            "DistanceToFirstStop_p80    0\n",
            "City                       0\n",
            "dtype: int64\n",
            "Missing Data in Testing Dataset after filling:\n",
            "RowId              0\n",
            "IntersectionId     0\n",
            "Latitude           0\n",
            "Longitude          0\n",
            "EntryStreetName    0\n",
            "ExitStreetName     0\n",
            "EntryHeading       0\n",
            "ExitHeading        0\n",
            "Hour               0\n",
            "Weekend            0\n",
            "Month              0\n",
            "Path               0\n",
            "City               0\n",
            "dtype: int64\n"
          ]
        }
      ],
      "source": [
        "# Assuming you have already loaded the training dataset into the train_df dataframe\n",
        "\n",
        "# Fill missing values with values from the previous or next row if they are the same\n",
        "train_df = train_df.ffill().bfill()\n",
        "\n",
        "# Check if there are still any missing values\n",
        "missing_data_train_after_fill = train_df.isnull().sum()\n",
        "\n",
        "# Display the missing data counts after filling missing values\n",
        "print(\"Missing Data in Training Dataset after filling:\")\n",
        "print(missing_data_train_after_fill)\n",
        "\n",
        "# Assuming you have already loaded the training dataset into the train_df dataframe\n",
        "\n",
        "# Fill missing values with values from the previous or next row if they are the same\n",
        "test_df = test_df.ffill().bfill()\n",
        "\n",
        "# Check if there are still any missing values\n",
        "missing_data_test_after_fill = test_df.isnull().sum()\n",
        "\n",
        "# Display the missing data counts after filling missing values\n",
        "print(\"Missing Data in Testing Dataset after filling:\")\n",
        "print(missing_data_test_after_fill)"
      ]
    },
    {
      "cell_type": "markdown",
      "metadata": {
        "id": "S4e2KeGTdyvb"
      },
      "source": [
        "#### Feature Extraction"
      ]
    },
    {
      "cell_type": "markdown",
      "metadata": {
        "id": "rv-N2gTsdyvc"
      },
      "source": [
        "##### Combine City and IntersectionId to get a unique intersection"
      ]
    },
    {
      "cell_type": "code",
      "execution_count": null,
      "metadata": {
        "id": "IxRQ3vEMdyvc"
      },
      "outputs": [],
      "source": [
        "# Assuming you have already loaded the training dataset into the train_df dataframe\n",
        "\n",
        "# Create a new feature by combining 'City' and 'IntersectionId'\n",
        "train_df['CityIntersection'] = train_df['City'] + '_' + train_df['IntersectionId'].astype(str)\n",
        "test_df['CityIntersection'] = test_df['City'] + '_' + test_df['IntersectionId'].astype(str)"
      ]
    },
    {
      "cell_type": "markdown",
      "metadata": {
        "id": "Gbqkb8s1dyvd"
      },
      "source": [
        "##### New feature: number of entry + exit directions from each intersection"
      ]
    },
    {
      "cell_type": "code",
      "execution_count": null,
      "metadata": {
        "colab": {
          "base_uri": "https://localhost:8080/",
          "height": 607
        },
        "id": "Js9MG7ntdyvd",
        "outputId": "d83d3544-deed-4da8-ccd6-9e9140f9d377"
      },
      "outputs": [
        {
          "output_type": "display_data",
          "data": {
            "text/plain": [
              "<Figure size 1200x600 with 1 Axes>"
            ],
            "image/png": "[encoded data removed]"
          },
          "metadata": {}
        }
      ],
      "source": [
        "import pandas as pd\n",
        "import seaborn as sns\n",
        "import matplotlib.pyplot as plt\n",
        "\n",
        "# Assuming you already have train_df and test_data loaded\n",
        "\n",
        "# Convert 'IntersectionId' to string\n",
        "train_df['IntersectionId'] = train_df['IntersectionId'].astype(str)\n",
        "\n",
        "# Merge 'IntersectionId' and 'City' into one feature\n",
        "train_df['CityIntersection'] = train_df['City'] + '-' + train_df['IntersectionId']\n",
        "\n",
        "# Calculate the number of unique entryheadings and exitheadings for each CityIntersection\n",
        "entry_exit_counts_train = train_df.groupby('CityIntersection').agg({'EntryHeading': 'nunique', 'ExitHeading': 'nunique'}).reset_index()\n",
        "\n",
        "# Sum the counts for entryheadings and exitheadings\n",
        "entry_exit_counts_train['TotalUniqueHeadings'] = entry_exit_counts_train['EntryHeading'] + entry_exit_counts_train['ExitHeading']\n",
        "# Count the occurrences of each unique total heading count\n",
        "count_occurrences_total_train = entry_exit_counts_train['TotalUniqueHeadings'].value_counts().reset_index()\n",
        "\n",
        "# Rename columns for clarity\n",
        "count_occurrences_total_train.columns = ['TotalUniqueHeadings', 'IntersectionCityCount']\n",
        "\n",
        "# Sort the data for better visualization\n",
        "count_occurrences_total_train = count_occurrences_total_train.sort_values(by='TotalUniqueHeadings')\n",
        "\n",
        "# Plot bar graphs using Seaborn\n",
        "plt.figure(figsize=(12, 6))\n",
        "\n",
        "# Train Data\n",
        "plt.subplot(1, 2, 1)\n",
        "sns.barplot(x='TotalUniqueHeadings', y='IntersectionCityCount', data=count_occurrences_total_train)\n",
        "plt.title('Count of Total Unique Headings (Entry + Exit) in Train Data')\n",
        "plt.xlabel('Number of Total Unique Headings')\n",
        "plt.ylabel('Number of Intersection Cities')\n",
        "\n",
        "# Adjust layout for better readability\n",
        "plt.tight_layout()\n",
        "plt.show()\n",
        "\n",
        "train_df = pd.merge(train_df, entry_exit_counts_train[['CityIntersection', 'TotalUniqueHeadings']], on='CityIntersection', how='left')\n"
      ]
    },
    {
      "cell_type": "code",
      "execution_count": null,
      "metadata": {
        "colab": {
          "base_uri": "https://localhost:8080/",
          "height": 607
        },
        "id": "PXcK9yu2dyve",
        "outputId": "89057b35-a473-43e2-9948-1add43abb19a"
      },
      "outputs": [
        {
          "output_type": "display_data",
          "data": {
            "text/plain": [
              "<Figure size 1200x600 with 1 Axes>"
            ],
            "image/png": "[encoded data removed]"
          },
          "metadata": {}
        }
      ],
      "source": [
        "# Convert 'IntersectionId' to string\n",
        "test_df['IntersectionId'] = test_df['IntersectionId'].astype(str)\n",
        "\n",
        "# Merge 'IntersectionId' and 'City' into one feature\n",
        "test_df['CityIntersection'] = test_df['City'] + '-' + test_df['IntersectionId']\n",
        "\n",
        "# Calculate the number of unique entryheadings and exitheadings for each CityIntersection\n",
        "entry_exit_counts_test = test_df.groupby('CityIntersection').agg({'EntryHeading': 'nunique', 'ExitHeading': 'nunique'}).reset_index()\n",
        "\n",
        "# Sum the counts for entryheadings and exitheadings\n",
        "entry_exit_counts_test['TotalUniqueHeadings'] = entry_exit_counts_test['EntryHeading'] + entry_exit_counts_test['ExitHeading']\n",
        "\n",
        "# Count the occurrences of each unique total heading count\n",
        "count_occurrences_total_test = entry_exit_counts_test['TotalUniqueHeadings'].value_counts().reset_index()\n",
        "\n",
        "# Rename columns for clarity\n",
        "count_occurrences_total_test.columns = ['TotalUniqueHeadings', 'IntersectionCityCount']\n",
        "\n",
        "# Sort the data for better visualization\n",
        "count_occurrences_total_test = count_occurrences_total_test.sort_values(by='TotalUniqueHeadings')\n",
        "\n",
        "# Plot bar graphs using Seaborn\n",
        "plt.figure(figsize=(12, 6))\n",
        "\n",
        "# Test Data\n",
        "plt.subplot(1, 2, 2)\n",
        "sns.barplot(x='TotalUniqueHeadings', y='IntersectionCityCount', data=count_occurrences_total_test)\n",
        "plt.title('Count of Total Unique Headings (Entry + Exit) in Test Data')\n",
        "plt.xlabel('Number of Total Unique Headings')\n",
        "plt.ylabel('Number of Intersection Cities')\n",
        "\n",
        "# Adjust layout for better readability\n",
        "plt.tight_layout()\n",
        "plt.show()\n",
        "\n",
        "# Merge the test data with the entry_exit_counts_test dataframe\n",
        "test_df = pd.merge(test_df, entry_exit_counts_test[['CityIntersection', 'TotalUniqueHeadings']], on='CityIntersection', how='left')\n"
      ]
    },
    {
      "cell_type": "markdown",
      "metadata": {
        "id": "MK9fF3YBdyvf"
      },
      "source": [
        "##### Encode the entry and exit street names"
      ]
    },
    {
      "cell_type": "code",
      "execution_count": null,
      "metadata": {
        "id": "E4ZKqAKAdyvf"
      },
      "outputs": [],
      "source": [
        "# Assuming you have already loaded the training dataset into the train_df dataframe\n",
        "\n",
        "# Define a function to apply the encoding\n",
        "def street_encoding(street_name):\n",
        "    if 'road' in street_name.lower():\n",
        "        return 1\n",
        "    elif 'street' in street_name.lower() or 'avenue' in street_name.lower():\n",
        "        return 2\n",
        "    elif 'drive' in street_name.lower() or 'broad' in street_name.lower():\n",
        "        return 3\n",
        "    elif 'boulevard' in street_name.lower():\n",
        "        return 4\n",
        "    else:\n",
        "        return 0  # Return 0 if none of the conditions are met\n",
        "\n",
        "# Apply the encoding to the EntryStreetName and ExitStreetName columns\n",
        "train_df['EntryStreetEncoding'] = train_df['EntryStreetName'].apply(street_encoding)\n",
        "train_df['ExitStreetEncoding'] = train_df['ExitStreetName'].apply(street_encoding)\n",
        "\n",
        "# Apply the encoding to the EntryStreetName and ExitStreetName columns\n",
        "test_df['EntryStreetEncoding'] = test_df['EntryStreetName'].apply(street_encoding)\n",
        "test_df['ExitStreetEncoding'] = test_df['ExitStreetName'].apply(street_encoding)"
      ]
    },
    {
      "cell_type": "markdown",
      "metadata": {
        "id": "MLOYx3ccdyvg"
      },
      "source": [
        "##### Encode the entry and exit headings"
      ]
    },
    {
      "cell_type": "code",
      "execution_count": null,
      "metadata": {
        "id": "Y3J2lS78dyvg"
      },
      "outputs": [],
      "source": [
        "# Define the extended encoding mapping\n",
        "heading_mapping = {\n",
        "    'N': 0, 'NE': 1/4, 'E': 1/2, 'SE': 3/4, 'S': 1, 'SW': 5/4, 'W': 3/2, 'NW': 7/4\n",
        "}\n",
        "\n",
        "# Apply the extended encoding to 'EntryHeading' and 'ExitHeading'\n",
        "train_df['EncodedEntryHeading'] = train_df['EntryHeading'].map(heading_mapping)\n",
        "train_df['EncodedExitHeading'] = train_df['ExitHeading'].map(heading_mapping)\n"
      ]
    },
    {
      "cell_type": "code",
      "execution_count": null,
      "metadata": {
        "id": "Axl3naeBdyvh"
      },
      "outputs": [],
      "source": [
        "# Apply the extended encoding to 'EntryHeading' and 'ExitHeading' in the test data\n",
        "test_df['EncodedEntryHeading'] = test_df['EntryHeading'].map(heading_mapping)\n",
        "test_df['EncodedExitHeading'] = test_df['ExitHeading'].map(heading_mapping)\n"
      ]
    },
    {
      "cell_type": "markdown",
      "metadata": {
        "id": "gfzOxoqVdyvh"
      },
      "source": [
        "##### Encode the difference between entry and exitheading"
      ]
    },
    {
      "cell_type": "code",
      "execution_count": null,
      "metadata": {
        "id": "kpZYoYSCdyvh"
      },
      "outputs": [],
      "source": [
        "# Find the difference between entry and exit headings for each row\n",
        "train_df['EncodedHeadingDifference'] = train_df['EncodedEntryHeading'] - train_df['EncodedExitHeading']\n",
        "# Find the difference between entry and exit headings for each row in the test data\n",
        "test_df['EncodedHeadingDifference'] = test_df['EncodedEntryHeading'] - test_df['EncodedExitHeading']\n"
      ]
    },
    {
      "cell_type": "code",
      "execution_count": null,
      "metadata": {
        "colab": {
          "base_uri": "https://localhost:8080/",
          "height": 564
        },
        "id": "_k3YF2ltdyvi",
        "outputId": "4bbdac3b-0e9d-49bb-d0f7-cbdbf5e70397"
      },
      "outputs": [
        {
          "output_type": "display_data",
          "data": {
            "text/plain": [
              "<Figure size 1000x600 with 1 Axes>"
            ],
            "image/png": "[encoded data removed]"
          },
          "metadata": {}
        }
      ],
      "source": [
        "import matplotlib.pyplot as plt\n",
        "\n",
        "# Plot histogram for the difference between entry and exit headings encoded\n",
        "plt.figure(figsize=(10, 6))\n",
        "plt.hist(train_df['EncodedHeadingDifference'], bins=20, edgecolor='black', color='skyblue')\n",
        "plt.title('Distribution of Encoded Heading Differences (Entry - Exit)')\n",
        "plt.xlabel('Encoded Heading Difference')\n",
        "plt.ylabel('Frequency')\n",
        "plt.grid(axis='y', linestyle='--', alpha=0.7)\n",
        "plt.show()\n"
      ]
    },
    {
      "cell_type": "code",
      "execution_count": null,
      "metadata": {
        "colab": {
          "base_uri": "https://localhost:8080/",
          "height": 564
        },
        "id": "a0rZ3CRtdyvi",
        "outputId": "d82fc108-abaf-4c6e-ca3f-efb7ccf74dae"
      },
      "outputs": [
        {
          "output_type": "display_data",
          "data": {
            "text/plain": [
              "<Figure size 1000x600 with 1 Axes>"
            ],
            "image/png": "[encoded data removed]"
          },
          "metadata": {}
        }
      ],
      "source": [
        "# Plot histogram for the difference between entry and exit headings encoded in the test data\n",
        "plt.figure(figsize=(10, 6))\n",
        "plt.hist(test_df['EncodedHeadingDifference'], bins=20, edgecolor='black', color='skyblue')\n",
        "plt.title('Distribution of Encoded Heading Differences (Entry - Exit) in Test Data')\n",
        "plt.xlabel('Encoded Heading Difference')\n",
        "plt.ylabel('Frequency')\n",
        "plt.grid(axis='y', linestyle='--', alpha=0.7)\n",
        "plt.show()\n"
      ]
    },
    {
      "cell_type": "markdown",
      "metadata": {
        "id": "TRATArV8dyvj"
      },
      "source": [
        "##### MinMax scaling for longitude and latitude"
      ]
    },
    {
      "cell_type": "code",
      "execution_count": null,
      "metadata": {
        "colab": {
          "base_uri": "https://localhost:8080/"
        },
        "id": "68EMBvq4dyvj",
        "outputId": "47aa6f2c-d839-479b-99eb-3f0bce91bbb5"
      },
      "outputs": [
        {
          "output_type": "stream",
          "name": "stderr",
          "text": [
            "<ipython-input-14-5c31d6b78b96>:18: FutureWarning: Not prepending group keys to the result index of transform-like apply. In the future, the group keys will be included in the index, regardless of whether the applied function returns a like-indexed object.\n",
            "To preserve the previous behavior, use\n",
            "\n",
            "\t>>> .groupby(..., group_keys=False)\n",
            "\n",
            "To adopt the future behavior and silence this warning, use \n",
            "\n",
            "\t>>> .groupby(..., group_keys=True)\n",
            "  scaled_columns = train_df.groupby('City')[['Longitude', 'Latitude']].apply(scale_columns)\n"
          ]
        }
      ],
      "source": [
        "from sklearn.preprocessing import MinMaxScaler\n",
        "import pandas as pd\n",
        "\n",
        "# Sample DataFrame (replace this with your actual DataFrame)\n",
        "# train_df = ...\n",
        "\n",
        "# Convert the first letter of 'City' to uppercase\n",
        "train_df['City'] = train_df['City'].str.capitalize()\n",
        "\n",
        "# Create a new DataFrame with scaled 'Longitude' and 'Latitude' using MinMaxScaler\n",
        "scaler = MinMaxScaler()\n",
        "\n",
        "# Define a function to apply MinMaxScaler to each column separately\n",
        "def scale_columns(group):\n",
        "    return pd.DataFrame(scaler.fit_transform(group), columns=group.columns, index=group.index)\n",
        "\n",
        "# Apply scaling and add scaled columns to train_df\n",
        "scaled_columns = train_df.groupby('City')[['Longitude', 'Latitude']].apply(scale_columns)\n",
        "scaled_columns = scaled_columns.reset_index(level=0, drop=True)  # Reset the index for alignment\n",
        "train_df[['ScaledLongitude', 'ScaledLatitude']] = scaled_columns\n"
      ]
    },
    {
      "cell_type": "code",
      "execution_count": null,
      "metadata": {
        "colab": {
          "base_uri": "https://localhost:8080/"
        },
        "id": "-JATiRFYdyvk",
        "outputId": "d5550290-2bb2-4585-9684-fa165f7214b4"
      },
      "outputs": [
        {
          "output_type": "stream",
          "name": "stderr",
          "text": [
            "<ipython-input-15-9d3f7438d2ce>:7: FutureWarning: Not prepending group keys to the result index of transform-like apply. In the future, the group keys will be included in the index, regardless of whether the applied function returns a like-indexed object.\n",
            "To preserve the previous behavior, use\n",
            "\n",
            "\t>>> .groupby(..., group_keys=False)\n",
            "\n",
            "To adopt the future behavior and silence this warning, use \n",
            "\n",
            "\t>>> .groupby(..., group_keys=True)\n",
            "  scaled_columns_test = test_df.groupby('City')[['Longitude', 'Latitude']].apply(scale_columns)\n"
          ]
        }
      ],
      "source": [
        "# Assuming you already have test_df loaded and similar preprocessing steps applied\n",
        "\n",
        "# Convert the first letter of 'City' to uppercase in the test data\n",
        "test_df['City'] = test_df['City'].str.capitalize()\n",
        "\n",
        "# Create a new DataFrame with scaled 'Longitude' and 'Latitude' using MinMaxScaler for the test data\n",
        "scaled_columns_test = test_df.groupby('City')[['Longitude', 'Latitude']].apply(scale_columns)\n",
        "scaled_columns_test = scaled_columns_test.reset_index(level=0, drop=True)  # Reset the index for alignment\n",
        "test_df[['ScaledLongitude', 'ScaledLatitude']] = scaled_columns_test\n"
      ]
    },
    {
      "cell_type": "markdown",
      "metadata": {
        "id": "JmxijD76dyvk"
      },
      "source": [
        "##### Distance to downtown"
      ]
    },
    {
      "cell_type": "code",
      "execution_count": null,
      "metadata": {
        "colab": {
          "base_uri": "https://localhost:8080/"
        },
        "id": "s1Po_xtcdyvl",
        "outputId": "2c41029e-98dc-4c0d-bb66-9636a4790e98"
      },
      "outputs": [
        {
          "output_type": "stream",
          "name": "stdout",
          "text": [
            "First 5 entries of the DataFrame with new features:\n",
            "      City  Longitude   Latitude  DistanceToCityCenter\n",
            "0  Atlanta -84.430032  33.791659              0.059887\n",
            "1  Atlanta -84.430032  33.791659              0.059887\n",
            "2  Atlanta -84.430032  33.791659              0.059887\n",
            "3  Atlanta -84.430032  33.791659              0.059887\n",
            "4  Atlanta -84.430032  33.791659              0.059887\n"
          ]
        }
      ],
      "source": [
        "import pandas as pd\n",
        "\n",
        "# Sample DataFrame (replace this with your actual DataFrame)\n",
        "# train_df = ...\n",
        "\n",
        "# 1. Insert long and lat of city centre for each city\n",
        "city_centers = {\n",
        "    'Atlanta': {'Longitude': -84.3880, 'Latitude': 33.7490},\n",
        "    'Chicago': {'Longitude': -87.6298, 'Latitude': 41.8781},\n",
        "    'Philadelphia': {'Longitude': -75.1652, 'Latitude': 39.9526},\n",
        "    'Boston': {'Longitude': -71.0589, 'Latitude': 42.3601}\n",
        "}\n",
        "\n",
        "for city, center in city_centers.items():\n",
        "    train_df.loc[train_df['City'] == city, 'CityCenterLongitude'] = center['Longitude']\n",
        "    train_df.loc[train_df['City'] == city, 'CityCenterLatitude'] = center['Latitude']\n",
        "\n",
        "# 2. Calculate the distance of every entry to the downtown of its corresponding city (using Euclidean distance)\n",
        "train_df['DistanceToCityCenter'] = ((train_df['Latitude'] - train_df['CityCenterLatitude'])**2 + (train_df['Longitude'] - train_df['CityCenterLongitude'])**2)**0.5\n",
        "\n",
        "# Display the DataFrame with the new features\n",
        "print(\"First 5 entries of the DataFrame with new features:\")\n",
        "print(train_df[['City', 'Longitude', 'Latitude', 'DistanceToCityCenter']].head())\n"
      ]
    },
    {
      "cell_type": "code",
      "execution_count": null,
      "metadata": {
        "colab": {
          "base_uri": "https://localhost:8080/"
        },
        "id": "K_G_gzfkdyvm",
        "outputId": "50ba2690-313d-4d40-c04e-e9cbd10659fb"
      },
      "outputs": [
        {
          "output_type": "stream",
          "name": "stdout",
          "text": [
            "First 5 entries of the DataFrame with new features for the test data:\n",
            "      City  Longitude  Latitude  DistanceToCityCenter\n",
            "0  Atlanta -84.393032  33.75094              0.005393\n",
            "1  Atlanta -84.393032  33.75094              0.005393\n",
            "2  Atlanta -84.393032  33.75094              0.005393\n",
            "3  Atlanta -84.393032  33.75094              0.005393\n",
            "4  Atlanta -84.393032  33.75094              0.005393\n"
          ]
        }
      ],
      "source": [
        "# Sample DataFrame (replace this with your actual DataFrame)\n",
        "# test_df = ...\n",
        "\n",
        "# 1. Insert long and lat of city centre for each city in the test data\n",
        "for city, center in city_centers.items():\n",
        "    test_df.loc[test_df['City'] == city, 'CityCenterLongitude'] = center['Longitude']\n",
        "    test_df.loc[test_df['City'] == city, 'CityCenterLatitude'] = center['Latitude']\n",
        "\n",
        "# 2. Calculate the distance of every entry to the downtown of its corresponding city in the test data (using Euclidean distance)\n",
        "test_df['DistanceToCityCenter'] = ((test_df['Latitude'] - test_df['CityCenterLatitude'])**2 + (test_df['Longitude'] - test_df['CityCenterLongitude'])**2)**0.5\n",
        "\n",
        "# Display the DataFrame with the new features for the test data\n",
        "print(\"First 5 entries of the DataFrame with new features for the test data:\")\n",
        "print(test_df[['City', 'Longitude', 'Latitude', 'DistanceToCityCenter']].head())\n"
      ]
    },
    {
      "cell_type": "code",
      "execution_count": null,
      "metadata": {
        "colab": {
          "base_uri": "https://localhost:8080/",
          "height": 807
        },
        "id": "mKeT-cR8dyvn",
        "outputId": "99d1d81d-f3cf-4ee5-ede2-418745d22a2a"
      },
      "outputs": [
        {
          "output_type": "display_data",
          "data": {
            "text/plain": [
              "<Figure size 1200x800 with 4 Axes>"
            ],
            "image/png": "[encoded data removed]"
          },
          "metadata": {}
        }
      ],
      "source": [
        "import matplotlib.pyplot as plt\n",
        "\n",
        "# Assuming train_df is your DataFrame with the 'DistanceToCityCenter' and 'City' columns\n",
        "# train_df = ...\n",
        "\n",
        "# Create subplots\n",
        "fig, axes = plt.subplots(nrows=2, ncols=2, figsize=(12, 8))\n",
        "\n",
        "# Convert the first letter of 'City' to uppercase\n",
        "train_df['City'] = train_df['City'].str.capitalize()\n",
        "\n",
        "# Iterate through each city and create a histogram in the corresponding subplot\n",
        "for (city, group), ax in zip(train_df.groupby('City'), axes.flatten()):\n",
        "    ax.hist(group['DistanceToCityCenter'], bins=20, color='skyblue', edgecolor='black')\n",
        "    ax.set_title(f'Histogram for {city}')\n",
        "    ax.set_xlabel('Distance to City Center')\n",
        "    ax.set_ylabel('Frequency')\n",
        "\n",
        "# Adjust layout for better readability\n",
        "plt.tight_layout()\n",
        "plt.show()\n"
      ]
    },
    {
      "cell_type": "code",
      "execution_count": null,
      "metadata": {
        "colab": {
          "base_uri": "https://localhost:8080/",
          "height": 807
        },
        "id": "7qHB1gGndyvo",
        "outputId": "105e7963-8403-44f0-9735-5a4e7971249e"
      },
      "outputs": [
        {
          "output_type": "display_data",
          "data": {
            "text/plain": [
              "<Figure size 1200x800 with 4 Axes>"
            ],
            "image/png": "[encoded data removed]"
          },
          "metadata": {}
        }
      ],
      "source": [
        "import matplotlib.pyplot as plt\n",
        "\n",
        "# Assuming train_df is your DataFrame with the 'DistanceToCityCenter' and 'City' columns\n",
        "# train_df = ...\n",
        "\n",
        "# Create subplots\n",
        "fig, axes = plt.subplots(nrows=2, ncols=2, figsize=(12, 8))\n",
        "\n",
        "# Convert the first letter of 'City' to uppercase\n",
        "train_df['City'] = train_df['City'].str.capitalize()\n",
        "\n",
        "# Iterate through each city and create a histogram in the corresponding subplot\n",
        "for (city, group), ax in zip(train_df.groupby('City'), axes.flatten()):\n",
        "    ax.hist(group['DistanceToCityCenter'], bins=20, color='skyblue', edgecolor='black')\n",
        "    ax.set_title(f'Histogram for {city}')\n",
        "    ax.set_xlabel('Distance to City Center')\n",
        "    ax.set_ylabel('Frequency')\n",
        "\n",
        "# Adjust layout for better readability\n",
        "plt.tight_layout()\n",
        "plt.show()\n"
      ]
    },
    {
      "cell_type": "code",
      "execution_count": null,
      "metadata": {
        "colab": {
          "base_uri": "https://localhost:8080/"
        },
        "id": "SIg3Dgcbdyvp",
        "outputId": "93504992-7aa4-44e8-f864-d7ae16793186"
      },
      "outputs": [
        {
          "output_type": "stream",
          "name": "stderr",
          "text": [
            "<ipython-input-20-15c2137206e6>:22: FutureWarning: Not prepending group keys to the result index of transform-like apply. In the future, the group keys will be included in the index, regardless of whether the applied function returns a like-indexed object.\n",
            "To preserve the previous behavior, use\n",
            "\n",
            "\t>>> .groupby(..., group_keys=False)\n",
            "\n",
            "To adopt the future behavior and silence this warning, use \n",
            "\n",
            "\t>>> .groupby(..., group_keys=True)\n",
            "  scaled_columns = train_df.groupby('City')[columns_to_scale].apply(scale_columns)\n"
          ]
        },
        {
          "output_type": "stream",
          "name": "stdout",
          "text": [
            "      City  Longitude   Latitude  DistanceToCityCenter  \\\n",
            "0  Atlanta -84.430032  33.791659              0.059887   \n",
            "1  Atlanta -84.430032  33.791659              0.059887   \n",
            "2  Atlanta -84.430032  33.791659              0.059887   \n",
            "3  Atlanta -84.430032  33.791659              0.059887   \n",
            "4  Atlanta -84.430032  33.791659              0.059887   \n",
            "\n",
            "   ScaledDistanceToCityCenter  \n",
            "0                    0.366375  \n",
            "1                    0.366375  \n",
            "2                    0.366375  \n",
            "3                    0.366375  \n",
            "4                    0.366375  \n"
          ]
        }
      ],
      "source": [
        "from sklearn.preprocessing import MinMaxScaler\n",
        "import pandas as pd\n",
        "\n",
        "# Sample DataFrame (replace this with your actual DataFrame)\n",
        "# train_df = ...\n",
        "\n",
        "# Convert the first letter of 'City' to uppercase\n",
        "train_df['City'] = train_df['City'].str.capitalize()\n",
        "\n",
        "# Create a new DataFrame with scaled 'Longitude', 'Latitude', and 'DistanceToCityCenter' using MinMaxScaler\n",
        "scaler = MinMaxScaler()\n",
        "\n",
        "# Define a function to apply MinMaxScaler to each column separately\n",
        "def scale_columns(group):\n",
        "    scaled_values = scaler.fit_transform(group)\n",
        "    return pd.DataFrame(scaled_values, columns=group.columns, index=group.index)\n",
        "\n",
        "# Columns to scale\n",
        "columns_to_scale = ['DistanceToCityCenter']\n",
        "\n",
        "# Apply scaling and add scaled columns to train_df\n",
        "scaled_columns = train_df.groupby('City')[columns_to_scale].apply(scale_columns)\n",
        "scaled_columns = scaled_columns.reset_index(level=0, drop=True)  # Reset the index for alignment\n",
        "\n",
        "# Assign the scaled values directly to a new column in the original DataFrame\n",
        "train_df['ScaledDistanceToCityCenter'] = scaled_columns['DistanceToCityCenter']\n",
        "\n",
        "# Display the DataFrame with the scaled features\n",
        "print(train_df[['City', 'Longitude', 'Latitude', 'DistanceToCityCenter', 'ScaledDistanceToCityCenter']].head())\n"
      ]
    },
    {
      "cell_type": "code",
      "execution_count": null,
      "metadata": {
        "colab": {
          "base_uri": "https://localhost:8080/"
        },
        "id": "sDb9yUWxdyvq",
        "outputId": "98d72ad9-7746-458e-937c-3d7b76372822"
      },
      "outputs": [
        {
          "output_type": "stream",
          "name": "stderr",
          "text": [
            "<ipython-input-21-7250ec832110>:7: FutureWarning: Not prepending group keys to the result index of transform-like apply. In the future, the group keys will be included in the index, regardless of whether the applied function returns a like-indexed object.\n",
            "To preserve the previous behavior, use\n",
            "\n",
            "\t>>> .groupby(..., group_keys=False)\n",
            "\n",
            "To adopt the future behavior and silence this warning, use \n",
            "\n",
            "\t>>> .groupby(..., group_keys=True)\n",
            "  scaled_columns_test = test_df.groupby('City')[columns_to_scale].apply(scale_columns)\n"
          ]
        },
        {
          "output_type": "stream",
          "name": "stdout",
          "text": [
            "      City  Longitude  Latitude  DistanceToCityCenter  \\\n",
            "0  Atlanta -84.393032  33.75094              0.005393   \n",
            "1  Atlanta -84.393032  33.75094              0.005393   \n",
            "2  Atlanta -84.393032  33.75094              0.005393   \n",
            "3  Atlanta -84.393032  33.75094              0.005393   \n",
            "4  Atlanta -84.393032  33.75094              0.005393   \n",
            "\n",
            "   ScaledDistanceToCityCenter  \n",
            "0                    0.027237  \n",
            "1                    0.027237  \n",
            "2                    0.027237  \n",
            "3                    0.027237  \n",
            "4                    0.027237  \n"
          ]
        }
      ],
      "source": [
        "# Assuming you already have test_df loaded and similar preprocessing steps applied\n",
        "\n",
        "# Convert the first letter of 'City' to uppercase in the test data\n",
        "test_df['City'] = test_df['City'].str.capitalize()\n",
        "\n",
        "# Create a new DataFrame with scaled 'DistanceToCityCenter' using MinMaxScaler for the test data\n",
        "scaled_columns_test = test_df.groupby('City')[columns_to_scale].apply(scale_columns)\n",
        "scaled_columns_test = scaled_columns_test.reset_index(level=0, drop=True)  # Reset the index for alignment\n",
        "\n",
        "# Assign the scaled values directly to a new column in the original test DataFrame\n",
        "test_df['ScaledDistanceToCityCenter'] = scaled_columns_test['DistanceToCityCenter']\n",
        "\n",
        "# Display the DataFrame with the scaled features for the test data\n",
        "print(test_df[['City', 'Longitude', 'Latitude', 'DistanceToCityCenter', 'ScaledDistanceToCityCenter']].head())\n"
      ]
    },
    {
      "cell_type": "markdown",
      "metadata": {
        "id": "zDgBSx1Adyvq"
      },
      "source": [
        "##### Transformation for hour"
      ]
    },
    {
      "cell_type": "code",
      "execution_count": null,
      "metadata": {
        "colab": {
          "base_uri": "https://localhost:8080/"
        },
        "id": "Kj5OljGwdyvr",
        "outputId": "3b2359f7-14cb-47f7-ccef-00e78191d11e"
      },
      "outputs": [
        {
          "output_type": "stream",
          "name": "stdout",
          "text": [
            "   Hour  sin_hour  cos_hour\n",
            "0     0  0.000000  1.000000\n",
            "1     0  0.000000  1.000000\n",
            "2     1  0.258819  0.965926\n",
            "3     1  0.258819  0.965926\n",
            "4     2  0.500000  0.866025\n"
          ]
        }
      ],
      "source": [
        "# Perform sin and cos transformations on the 'Hour' feature\n",
        "train_df['sin_hour'] = np.sin(2 * np.pi * train_df['Hour'] / 24)\n",
        "train_df['cos_hour'] = np.cos(2 * np.pi * train_df['Hour'] / 24)\n",
        "\n",
        "# Display the DataFrame with the new transformed features\n",
        "print(train_df[['Hour', 'sin_hour', 'cos_hour']].head())"
      ]
    },
    {
      "cell_type": "code",
      "execution_count": null,
      "metadata": {
        "colab": {
          "base_uri": "https://localhost:8080/"
        },
        "id": "uUISJEMvdyvr",
        "outputId": "eb6d82fd-0bfa-4fea-dbc5-564ee385d4fe"
      },
      "outputs": [
        {
          "output_type": "stream",
          "name": "stdout",
          "text": [
            "   Hour  sin_hour  cos_hour\n",
            "0     0  0.000000  1.000000\n",
            "1     0  0.000000  1.000000\n",
            "2     1  0.258819  0.965926\n",
            "3     1  0.258819  0.965926\n",
            "4     2  0.500000  0.866025\n"
          ]
        }
      ],
      "source": [
        "# Assuming you already have test_df loaded and similar preprocessing steps applied\n",
        "\n",
        "# Perform sin and cos transformations on the 'Hour' feature in the test data\n",
        "test_df['sin_hour'] = np.sin(2 * np.pi * test_df['Hour'] / 24)\n",
        "test_df['cos_hour'] = np.cos(2 * np.pi * test_df['Hour'] / 24)\n",
        "\n",
        "# Display the DataFrame with the new transformed features for the test data\n",
        "print(test_df[['Hour', 'sin_hour', 'cos_hour']].head())\n"
      ]
    },
    {
      "cell_type": "markdown",
      "metadata": {
        "id": "BE_y-V5Xdyvs"
      },
      "source": [
        "##### Transformation for month"
      ]
    },
    {
      "cell_type": "code",
      "execution_count": null,
      "metadata": {
        "colab": {
          "base_uri": "https://localhost:8080/"
        },
        "id": "jlowHitIdyvt",
        "outputId": "e5a2c8a6-0c88-49b5-ce96-bc447bee4ae5"
      },
      "outputs": [
        {
          "output_type": "stream",
          "name": "stdout",
          "text": [
            "   Month     sin_month  cos_month\n",
            "0      6  1.224647e-16       -1.0\n",
            "1      6  1.224647e-16       -1.0\n",
            "2      6  1.224647e-16       -1.0\n",
            "3      6  1.224647e-16       -1.0\n",
            "4      6  1.224647e-16       -1.0\n"
          ]
        }
      ],
      "source": [
        "# Perform sin and cos transformations on the 'Month' feature\n",
        "train_df['sin_month'] = np.sin(2 * np.pi * train_df['Month'] / 12)\n",
        "train_df['cos_month'] = np.cos(2 * np.pi * train_df['Month'] / 12)\n",
        "\n",
        "# Display the DataFrame with the new transformed features\n",
        "print(train_df[['Month', 'sin_month', 'cos_month']].head())"
      ]
    },
    {
      "cell_type": "code",
      "execution_count": null,
      "metadata": {
        "colab": {
          "base_uri": "https://localhost:8080/"
        },
        "id": "qQBXx3Q_dyvt",
        "outputId": "0e886aff-862c-40f0-a063-55a43b5e6591"
      },
      "outputs": [
        {
          "output_type": "stream",
          "name": "stdout",
          "text": [
            "   Month     sin_month  cos_month\n",
            "0      6  1.224647e-16       -1.0\n",
            "1      6  1.224647e-16       -1.0\n",
            "2      6  1.224647e-16       -1.0\n",
            "3      6  1.224647e-16       -1.0\n",
            "4      6  1.224647e-16       -1.0\n"
          ]
        }
      ],
      "source": [
        "# Assuming you already have test_df loaded and similar preprocessing steps applied\n",
        "\n",
        "# Perform sin and cos transformations on the 'Month' feature in the test data\n",
        "test_df['sin_month'] = np.sin(2 * np.pi * test_df['Month'] / 12)\n",
        "test_df['cos_month'] = np.cos(2 * np.pi * test_df['Month'] / 12)\n",
        "\n",
        "# Display the DataFrame with the new transformed features for the test data\n",
        "print(test_df[['Month', 'sin_month', 'cos_month']].head())\n"
      ]
    },
    {
      "cell_type": "markdown",
      "metadata": {
        "id": "eYfwvBZ2dyvu"
      },
      "source": [
        "##### Binary variable for rush hour"
      ]
    },
    {
      "cell_type": "code",
      "execution_count": null,
      "metadata": {
        "colab": {
          "base_uri": "https://localhost:8080/"
        },
        "id": "SrDbXAc8dyvv",
        "outputId": "cc083adf-1206-47f9-e6db-018952b4ef60"
      },
      "outputs": [
        {
          "output_type": "stream",
          "name": "stdout",
          "text": [
            "   Hour  Weekend  IsRushHour\n",
            "0     0        0       False\n",
            "1     0        0       False\n",
            "2     1        0       False\n",
            "3     1        0       False\n",
            "4     2        0       False\n"
          ]
        }
      ],
      "source": [
        "# Define rush hours for all days\n",
        "rush_hours = range(7, 10)  # for example, 7 AM to 10 AM\n",
        "\n",
        "# Create a binary feature 'IsRushHour' (considering Weekend = 0)\n",
        "train_df['IsRushHour'] = (train_df['Weekend'] == 0) & train_df['Hour'].isin(rush_hours)\n",
        "\n",
        "# Display the DataFrame with the new 'IsRushHour' feature\n",
        "print(train_df[['Hour', 'Weekend', 'IsRushHour']].head())\n"
      ]
    },
    {
      "cell_type": "code",
      "execution_count": null,
      "metadata": {
        "colab": {
          "base_uri": "https://localhost:8080/"
        },
        "id": "bkLCKaqRdyvw",
        "outputId": "afc16edb-7229-43d0-8c23-5344d691eab0"
      },
      "outputs": [
        {
          "output_type": "stream",
          "name": "stdout",
          "text": [
            "   Hour  Weekend  IsRushHour\n",
            "0     0        0       False\n",
            "1     0        0       False\n",
            "2     1        0       False\n",
            "3     1        0       False\n",
            "4     2        0       False\n"
          ]
        }
      ],
      "source": [
        "# Assuming you already have test_df loaded and similar preprocessing steps applied\n",
        "\n",
        "# Create a binary feature 'IsRushHour' in the test data (considering Weekend = 0)\n",
        "test_df['IsRushHour'] = (test_df['Weekend'] == 0) & test_df['Hour'].isin(rush_hours)\n",
        "\n",
        "# Display the DataFrame with the new 'IsRushHour' feature for the test data\n",
        "print(test_df[['Hour', 'Weekend', 'IsRushHour']].head())\n"
      ]
    },
    {
      "cell_type": "markdown",
      "metadata": {
        "id": "TAzFhBn8dyvw"
      },
      "source": [
        "##### Binary variable for day/night"
      ]
    },
    {
      "cell_type": "code",
      "execution_count": null,
      "metadata": {
        "id": "nY0g3W_Wdyvx"
      },
      "outputs": [],
      "source": [
        "# Define daytime hours\n",
        "daytime_hours = range(6, 18)  # for example, 6 AM to 6 PM\n",
        "\n",
        "# Create a binary feature 'IsDaytime'\n",
        "train_df['IsDaytime'] = train_df['Hour'].isin(daytime_hours)"
      ]
    },
    {
      "cell_type": "code",
      "execution_count": null,
      "metadata": {
        "colab": {
          "base_uri": "https://localhost:8080/"
        },
        "id": "arN0_L3Fdyv3",
        "outputId": "1d3595a4-22f5-47a2-a327-598e0e7c9fef"
      },
      "outputs": [
        {
          "output_type": "stream",
          "name": "stdout",
          "text": [
            "   Hour  IsDaytime\n",
            "0     0      False\n",
            "1     0      False\n",
            "2     1      False\n",
            "3     1      False\n",
            "4     2      False\n"
          ]
        }
      ],
      "source": [
        "# Assuming you already have test_df loaded and similar preprocessing steps applied\n",
        "\n",
        "# Create a binary feature 'IsDaytime' in the test data\n",
        "test_df['IsDaytime'] = test_df['Hour'].isin(daytime_hours)\n",
        "\n",
        "# Display the DataFrame with the new 'IsDaytime' feature for the test data\n",
        "print(test_df[['Hour', 'IsDaytime']].head())\n"
      ]
    },
    {
      "cell_type": "markdown",
      "metadata": {
        "id": "Sm1GdoqCdyv4"
      },
      "source": [
        "##### Drop the useless columns"
      ]
    },
    {
      "cell_type": "code",
      "execution_count": null,
      "metadata": {
        "colab": {
          "base_uri": "https://localhost:8080/"
        },
        "id": "jA608w3mdyv4",
        "outputId": "ae161dd7-8412-4357-b505-dfb071c4b7cf"
      },
      "outputs": [
        {
          "output_type": "stream",
          "name": "stdout",
          "text": [
            "     RowId  IntersectionId   Latitude  Longitude  \\\n",
            "0  1921357               0  33.791659 -84.430032   \n",
            "1  1921358               0  33.791659 -84.430032   \n",
            "2  1921359               0  33.791659 -84.430032   \n",
            "3  1921360               0  33.791659 -84.430032   \n",
            "4  1921361               0  33.791659 -84.430032   \n",
            "\n",
            "                EntryStreetName                ExitStreetName EntryHeading  \\\n",
            "0  Marietta Boulevard Northwest  Marietta Boulevard Northwest           NW   \n",
            "1  Marietta Boulevard Northwest  Marietta Boulevard Northwest           SE   \n",
            "2  Marietta Boulevard Northwest  Marietta Boulevard Northwest           NW   \n",
            "3  Marietta Boulevard Northwest  Marietta Boulevard Northwest           SE   \n",
            "4  Marietta Boulevard Northwest  Marietta Boulevard Northwest           NW   \n",
            "\n",
            "  ExitHeading  Hour  Weekend  ...  CityCenterLongitude CityCenterLatitude  \\\n",
            "0          NW     0        0  ...              -84.388             33.749   \n",
            "1          SE     0        0  ...              -84.388             33.749   \n",
            "2          NW     1        0  ...              -84.388             33.749   \n",
            "3          SE     1        0  ...              -84.388             33.749   \n",
            "4          NW     2        0  ...              -84.388             33.749   \n",
            "\n",
            "   DistanceToCityCenter  ScaledDistanceToCityCenter  sin_hour  cos_hour  \\\n",
            "0              0.059887                    0.366375  0.000000  1.000000   \n",
            "1              0.059887                    0.366375  0.000000  1.000000   \n",
            "2              0.059887                    0.366375  0.258819  0.965926   \n",
            "3              0.059887                    0.366375  0.258819  0.965926   \n",
            "4              0.059887                    0.366375  0.500000  0.866025   \n",
            "\n",
            "      sin_month  cos_month  IsRushHour  IsDaytime  \n",
            "0  1.224647e-16       -1.0       False      False  \n",
            "1  1.224647e-16       -1.0       False      False  \n",
            "2  1.224647e-16       -1.0       False      False  \n",
            "3  1.224647e-16       -1.0       False      False  \n",
            "4  1.224647e-16       -1.0       False      False  \n",
            "\n",
            "[5 rows x 47 columns]\n",
            "Index(['RowId', 'IntersectionId', 'Weekend', 'TotalTimeStopped_p20',\n",
            "       'TotalTimeStopped_p50', 'TotalTimeStopped_p80',\n",
            "       'DistanceToFirstStop_p20', 'DistanceToFirstStop_p50',\n",
            "       'DistanceToFirstStop_p80', 'City', 'TotalUniqueHeadings',\n",
            "       'EntryStreetEncoding', 'ExitStreetEncoding', 'EncodedEntryHeading',\n",
            "       'EncodedExitHeading', 'EncodedHeadingDifference', 'ScaledLongitude',\n",
            "       'ScaledLatitude', 'ScaledDistanceToCityCenter', 'sin_hour', 'cos_hour',\n",
            "       'sin_month', 'cos_month'],\n",
            "      dtype='object')\n"
          ]
        }
      ],
      "source": [
        "# Assuming train_df is your DataFrame\n",
        "# train_df = ...\n",
        "\n",
        "# List of columns to drop\n",
        "columns_to_drop = ['EntryStreetName', 'ExitStreetName', 'EntryHeading', 'ExitHeading', 'Hour',\n",
        "                   'Month', 'Path', 'City_Intersection', 'TotalUniqueHeadings_x', 'CityIntersection',\n",
        "                   'TotalUniqueHeadings_y', 'CityCenterLongitude', 'CityCenterLatitude',\n",
        "                    'Latitude', 'Longitude','TimeFromFirstStop_p20', 'TimeFromFirstStop_p40',\n",
        "       'TimeFromFirstStop_p50', 'TimeFromFirstStop_p60', 'IsRushHour', 'IsDaytime',\n",
        "       'TimeFromFirstStop_p80']\n",
        "\n",
        "# Convert 'IntersectionId' to integer\n",
        "train_df['IntersectionId'] = train_df['IntersectionId'].astype(int)\n",
        "\n",
        "# Display the DataFrame after the conversion\n",
        "print(train_df.head())\n",
        "\n",
        "\n",
        "# Add columns containing 'p40' and 'p60' to the list of columns to drop\n",
        "columns_to_drop += [col for col in train_df.columns if 'p40' in col or 'p60' in col]\n",
        "\n",
        "# Drop the specified columns if they exist in the DataFrame\n",
        "columns_to_drop = [col for col in columns_to_drop if col in train_df.columns]\n",
        "train_df = train_df.drop(columns=columns_to_drop)\n",
        "\n",
        "# Display the DataFrame after dropping columns\n",
        "print(train_df.columns)"
      ]
    },
    {
      "cell_type": "code",
      "execution_count": null,
      "metadata": {
        "colab": {
          "base_uri": "https://localhost:8080/"
        },
        "id": "VZXduxrMdyv5",
        "outputId": "a24bf472-3e83-4e14-fa3d-bb65b030c624"
      },
      "outputs": [
        {
          "output_type": "stream",
          "name": "stdout",
          "text": [
            "   RowId  IntersectionId  Latitude  Longitude             EntryStreetName  \\\n",
            "0      0               1  33.75094 -84.393032  Peachtree Street Southwest   \n",
            "1      1               1  33.75094 -84.393032  Peachtree Street Southwest   \n",
            "2      2               1  33.75094 -84.393032  Peachtree Street Southwest   \n",
            "3      3               1  33.75094 -84.393032  Peachtree Street Southwest   \n",
            "4      4               1  33.75094 -84.393032  Peachtree Street Southwest   \n",
            "\n",
            "               ExitStreetName EntryHeading ExitHeading  Hour  Weekend  ...  \\\n",
            "0   Mitchell Street Southwest           SW          SE     0        0  ...   \n",
            "1  Peachtree Street Southwest           SW          SW     0        0  ...   \n",
            "2  Peachtree Street Southwest           NE          NE     1        0  ...   \n",
            "3  Peachtree Street Southwest           SW          SW     1        0  ...   \n",
            "4  Peachtree Street Southwest           NE          NE     2        0  ...   \n",
            "\n",
            "   CityCenterLongitude CityCenterLatitude DistanceToCityCenter  \\\n",
            "0              -84.388             33.749             0.005393   \n",
            "1              -84.388             33.749             0.005393   \n",
            "2              -84.388             33.749             0.005393   \n",
            "3              -84.388             33.749             0.005393   \n",
            "4              -84.388             33.749             0.005393   \n",
            "\n",
            "  ScaledDistanceToCityCenter  sin_hour  cos_hour     sin_month  cos_month  \\\n",
            "0                   0.027237  0.000000  1.000000  1.224647e-16       -1.0   \n",
            "1                   0.027237  0.000000  1.000000  1.224647e-16       -1.0   \n",
            "2                   0.027237  0.258819  0.965926  1.224647e-16       -1.0   \n",
            "3                   0.027237  0.258819  0.965926  1.224647e-16       -1.0   \n",
            "4                   0.027237  0.500000  0.866025  1.224647e-16       -1.0   \n",
            "\n",
            "   IsRushHour  IsDaytime  \n",
            "0       False      False  \n",
            "1       False      False  \n",
            "2       False      False  \n",
            "3       False      False  \n",
            "4       False      False  \n",
            "\n",
            "[5 rows x 32 columns]\n",
            "Index(['RowId', 'IntersectionId', 'Weekend', 'City', 'TotalUniqueHeadings',\n",
            "       'EntryStreetEncoding', 'ExitStreetEncoding', 'EncodedEntryHeading',\n",
            "       'EncodedExitHeading', 'EncodedHeadingDifference', 'ScaledLongitude',\n",
            "       'ScaledLatitude', 'ScaledDistanceToCityCenter', 'sin_hour', 'cos_hour',\n",
            "       'sin_month', 'cos_month'],\n",
            "      dtype='object')\n"
          ]
        }
      ],
      "source": [
        "# Assuming you already have test_df loaded and similar preprocessing steps applied\n",
        "\n",
        "# Convert 'IntersectionId' to integer in the test data\n",
        "test_df['IntersectionId'] = test_df['IntersectionId'].astype(int)\n",
        "\n",
        "# Display the DataFrame after the conversion for the test data\n",
        "print(test_df.head())\n",
        "\n",
        "# Add columns containing 'p40' and 'p60' to the list of columns to drop for the test data\n",
        "columns_to_drop_test = [col for col in test_df.columns if 'p40' in col or 'p60' in col]\n",
        "\n",
        "# Drop the specified columns if they exist in the test DataFrame\n",
        "columns_to_drop_test = [col for col in columns_to_drop if col in test_df.columns]\n",
        "test_df = test_df.drop(columns=columns_to_drop_test)\n",
        "\n",
        "# Display the DataFrame after dropping columns for the test data\n",
        "print(test_df.columns)\n"
      ]
    },
    {
      "cell_type": "markdown",
      "metadata": {
        "id": "nCIJYzYLdyv6"
      },
      "source": [
        "#### Fitting Models"
      ]
    },
    {
      "cell_type": "markdown",
      "metadata": {
        "id": "MT-EjvCRdyv6"
      },
      "source": [
        "##### Separate the dataset into 4 different datasets"
      ]
    },
    {
      "cell_type": "code",
      "execution_count": null,
      "metadata": {
        "id": "rogpg6mHdyv6"
      },
      "outputs": [],
      "source": [
        "# List of unique cities in the DataFrame\n",
        "unique_cities = train_df['City'].unique()\n",
        "\n",
        "# Create a dictionary to store separate datasets for each city\n",
        "train_datasets = {}\n",
        "\n",
        "# Iterate through each unique city and create a separate dataset\n",
        "for city in unique_cities:\n",
        "    train_datasets[f'train_{city}'] = train_df[train_df['City'] == city]\n",
        "\n",
        "# Access the separate datasets using the city name\n",
        "train_atlanta = train_datasets['train_Atlanta']\n",
        "train_chicago = train_datasets['train_Chicago']\n",
        "train_philadelphia = train_datasets['train_Philadelphia']\n",
        "train_boston = train_datasets['train_Boston']\n"
      ]
    },
    {
      "cell_type": "code",
      "execution_count": null,
      "metadata": {
        "id": "eKfmcNL4dyv7"
      },
      "outputs": [],
      "source": [
        "# Assuming you already have test_df loaded and similar preprocessing steps applied\n",
        "\n",
        "# List of unique cities in the test data\n",
        "unique_cities_test = test_df['City'].unique()\n",
        "\n",
        "# Create a dictionary to store separate datasets for each city in the test data\n",
        "test_datasets = {}\n",
        "\n",
        "# Iterate through each unique city in the test data and create a separate dataset\n",
        "for city in unique_cities_test:\n",
        "    test_datasets[f'test_{city}'] = test_df[test_df['City'] == city]\n",
        "\n",
        "# Access the separate datasets using the city name in the test data\n",
        "test_atlanta = test_datasets['test_Atlanta']\n",
        "test_chicago = test_datasets['test_Chicago']\n",
        "test_philadelphia = test_datasets['test_Philadelphia']\n",
        "test_boston = test_datasets['test_Boston']\n"
      ]
    },
    {
      "cell_type": "markdown",
      "metadata": {
        "id": "TS0xpkxDdyv7"
      },
      "source": [
        "##### Separate each of the datasets into features and targets"
      ]
    },
    {
      "cell_type": "code",
      "execution_count": null,
      "metadata": {
        "id": "Cd55Rdlcdyv8"
      },
      "outputs": [],
      "source": [
        "# Assuming train_atlanta is the dataset for Atlanta\n",
        "# train_atlanta = ...\n",
        "\n",
        "# Define the target variables\n",
        "target_variables = ['TotalTimeStopped_p20', 'TotalTimeStopped_p50', 'TotalTimeStopped_p80',\n",
        "                     'DistanceToFirstStop_p20', 'DistanceToFirstStop_p50', 'DistanceToFirstStop_p80']\n",
        "\n",
        "# Separate features (X) and targets (y) for Atlanta\n",
        "X_atlanta = train_atlanta.drop(columns=target_variables)\n",
        "y_atlanta = train_atlanta[target_variables]\n",
        "\n",
        "X_boston = train_boston.drop(columns=target_variables)\n",
        "y_boston = train_boston[target_variables]\n",
        "\n",
        "X_chicago = train_chicago.drop(columns=target_variables)\n",
        "y_chicago = train_chicago[target_variables]\n",
        "\n",
        "X_philadelphia = train_philadelphia.drop(columns=target_variables)\n",
        "y_philadelphia = train_philadelphia[target_variables]\n",
        "\n",
        "\n",
        "# Drop the 'City' column from the feature matrix\n",
        "X_atlanta = X_atlanta.drop(columns=['City', 'RowId'])\n",
        "\n",
        "# Similarly, drop the 'City' column from other cities\n",
        "X_boston = X_boston.drop(columns=['City', 'RowId'])\n",
        "X_chicago = X_chicago.drop(columns=['City', 'RowId'])\n",
        "X_philadelphia = X_philadelphia.drop(columns=['City', 'RowId'])\n",
        "\n"
      ]
    },
    {
      "cell_type": "code",
      "execution_count": null,
      "metadata": {
        "id": "0dLcW6xcdyv8"
      },
      "outputs": [],
      "source": [
        "# Test data\n",
        "# Assuming test_atlanta, test_boston, test_chicago, test_philadelphia are the datasets for each city\n",
        "# Drop the 'City' column from the feature matrix for each city in the test data\n",
        "X_atlanta_test = test_atlanta.drop(columns=['City' ,'RowId'])\n",
        "X_boston_test = test_boston.drop(columns=['City', 'RowId'])\n",
        "X_chicago_test = test_chicago.drop(columns=['City', 'RowId'])\n",
        "X_philadelphia_test = test_philadelphia.drop(columns=['City', 'RowId'])"
      ]
    },
    {
      "cell_type": "markdown",
      "metadata": {
        "id": "rBNZtAAjdyv9"
      },
      "source": [
        "#### Linear Regression"
      ]
    },
    {
      "cell_type": "code",
      "execution_count": null,
      "metadata": {
        "colab": {
          "base_uri": "https://localhost:8080/",
          "height": 109
        },
        "id": "-w_ODV6Bdyv9",
        "outputId": "69881810-04ff-40cb-ae0b-fa95e75130e9"
      },
      "outputs": [
        {
          "output_type": "execute_result",
          "data": {
            "text/plain": [
              "'from sklearn.model_selection import train_test_split\\nfrom sklearn.linear_model import LinearRegression\\nfrom sklearn.metrics import mean_squared_error\\n\\n# Assuming you have already loaded and preprocessed datasets for each city\\n# Replace the placeholders with your actual datasets\\n\\n# Atlanta\\nX_train_atlanta, X_test_atlanta, y_train_atlanta, y_test_atlanta = train_test_split(X_atlanta, y_atlanta, test_size=0.2, random_state=42)\\nmodel_atlanta = LinearRegression()\\nmodel_atlanta.fit(X_train_atlanta, y_train_atlanta)\\ny_pred_atlanta = model_atlanta.predict(X_test_atlanta)\\n\\n# Boston\\nX_train_boston, X_test_boston, y_train_boston, y_test_boston = train_test_split(X_boston, y_boston, test_size=0.2, random_state=42)\\nmodel_boston = LinearRegression()\\nmodel_boston.fit(X_train_boston, y_train_boston)\\ny_pred_boston = model_boston.predict(X_test_boston)\\n\\n# Chicago\\nX_train_chicago, X_test_chicago, y_train_chicago, y_test_chicago = train_test_split(X_chicago, y_chicago, test_size=0.2, random_state=42)\\nmodel_chicago = LinearRegression()\\nmodel_chicago.fit(X_train_chicago, y_train_chicago)\\ny_pred_chicago = model_chicago.predict(X_test_chicago)\\n\\n# Philadelphia\\nX_train_philadelphia, X_test_philadelphia, y_train_philadelphia, y_test_philadelphia = train_test_split(X_philadelphia, y_philadelphia, test_size=0.2, random_state=42)\\nmodel_philadelphia = LinearRegression()\\nmodel_philadelphia.fit(X_train_philadelphia, y_train_philadelphia)\\ny_pred_philadelphia = model_philadelphia.predict(X_test_philadelphia)\\n\\nfrom sklearn.metrics import mean_squared_error\\nimport numpy as np\\n\\n# Function to calculate RMSE\\ndef calculate_rmse(y_true, y_pred):\\n    mse = mean_squared_error(y_true, y_pred)\\n    rmse = np.sqrt(mse)\\n    return rmse\\n\\n# Assuming you have already loaded and preprocessed datasets for each city\\n# Replace the placeholders with your actual datasets\\n\\n# Atlanta\\nrmse_linear_regression_atlanta = calculate_rmse(y_test_atlanta, y_pred_atlanta)\\n\\n# Boston\\nrmse_linear_regression_boston = calculate_rmse(y_test_boston, y_pred_boston)\\n\\n# Chicago\\nrmse_linear_regression_chicago = calculate_rmse(y_test_chicago, y_pred_chicago)\\n\\n# Philadelphia\\nrmse_linear_regression_philadelphia = calculate_rmse(y_test_philadelphia, y_pred_philadelphia)\\n\\n# Display RMSE for each city\\nprint(\"Root Mean Squared Error - Atlanta:\", rmse_linear_regression_atlanta)\\nprint(\"Root Mean Squared Error - Boston:\", rmse_linear_regression_boston)\\nprint(\"Root Mean Squared Error - Chicago:\", rmse_linear_regression_chicago)\\nprint(\"Root Mean Squared Error - Philadelphia:\", rmse_linear_regression_philadelphia)\\n\\nfrom sklearn.metrics import mean_squared_error\\nimport numpy as np\\n\\n# Function to calculate RMSE\\ndef calculate_rmse(y_true, y_pred):\\n    mse = mean_squared_error(y_true, y_pred)\\n    rmse = np.sqrt(mse)\\n    return rmse\\n\\n# Concatenate true and predicted values for all cities\\ny_true_all = np.concatenate([y_test_atlanta.values.flatten(),\\n                             y_test_boston.values.flatten(),\\n                             y_test_chicago.values.flatten(),\\n                             y_test_philadelphia.values.flatten()])\\n\\ny_pred_all = np.concatenate([y_pred_atlanta.flatten(),\\n                             y_pred_boston.flatten(),\\n                             y_pred_chicago.flatten(),\\n                             y_pred_philadelphia.flatten()])\\n\\n# Calculate overall RMSE\\nrmse_linear_regression_all = calculate_rmse(y_true_all, y_pred_all)\\n\\n# Display overall RMSE\\nprint(\"Overall Root Mean Squared Error:\", rmse_linear_regression_all)\\n'"
            ],
            "application/vnd.google.colaboratory.intrinsic+json": {
              "type": "string"
            }
          },
          "metadata": {},
          "execution_count": 36
        }
      ],
      "source": [
        "'''from sklearn.model_selection import train_test_split\n",
        "from sklearn.linear_model import LinearRegression\n",
        "from sklearn.metrics import mean_squared_error\n",
        "\n",
        "# Assuming you have already loaded and preprocessed datasets for each city\n",
        "# Replace the placeholders with your actual datasets\n",
        "\n",
        "# Atlanta\n",
        "X_train_atlanta, X_test_atlanta, y_train_atlanta, y_test_atlanta = train_test_split(X_atlanta, y_atlanta, test_size=0.2, random_state=42)\n",
        "model_atlanta = LinearRegression()\n",
        "model_atlanta.fit(X_train_atlanta, y_train_atlanta)\n",
        "y_pred_atlanta = model_atlanta.predict(X_test_atlanta)\n",
        "\n",
        "# Boston\n",
        "X_train_boston, X_test_boston, y_train_boston, y_test_boston = train_test_split(X_boston, y_boston, test_size=0.2, random_state=42)\n",
        "model_boston = LinearRegression()\n",
        "model_boston.fit(X_train_boston, y_train_boston)\n",
        "y_pred_boston = model_boston.predict(X_test_boston)\n",
        "\n",
        "# Chicago\n",
        "X_train_chicago, X_test_chicago, y_train_chicago, y_test_chicago = train_test_split(X_chicago, y_chicago, test_size=0.2, random_state=42)\n",
        "model_chicago = LinearRegression()\n",
        "model_chicago.fit(X_train_chicago, y_train_chicago)\n",
        "y_pred_chicago = model_chicago.predict(X_test_chicago)\n",
        "\n",
        "# Philadelphia\n",
        "X_train_philadelphia, X_test_philadelphia, y_train_philadelphia, y_test_philadelphia = train_test_split(X_philadelphia, y_philadelphia, test_size=0.2, random_state=42)\n",
        "model_philadelphia = LinearRegression()\n",
        "model_philadelphia.fit(X_train_philadelphia, y_train_philadelphia)\n",
        "y_pred_philadelphia = model_philadelphia.predict(X_test_philadelphia)\n",
        "\n",
        "from sklearn.metrics import mean_squared_error\n",
        "import numpy as np\n",
        "\n",
        "# Function to calculate RMSE\n",
        "def calculate_rmse(y_true, y_pred):\n",
        "    mse = mean_squared_error(y_true, y_pred)\n",
        "    rmse = np.sqrt(mse)\n",
        "    return rmse\n",
        "\n",
        "# Assuming you have already loaded and preprocessed datasets for each city\n",
        "# Replace the placeholders with your actual datasets\n",
        "\n",
        "# Atlanta\n",
        "rmse_linear_regression_atlanta = calculate_rmse(y_test_atlanta, y_pred_atlanta)\n",
        "\n",
        "# Boston\n",
        "rmse_linear_regression_boston = calculate_rmse(y_test_boston, y_pred_boston)\n",
        "\n",
        "# Chicago\n",
        "rmse_linear_regression_chicago = calculate_rmse(y_test_chicago, y_pred_chicago)\n",
        "\n",
        "# Philadelphia\n",
        "rmse_linear_regression_philadelphia = calculate_rmse(y_test_philadelphia, y_pred_philadelphia)\n",
        "\n",
        "# Display RMSE for each city\n",
        "print(\"Root Mean Squared Error - Atlanta:\", rmse_linear_regression_atlanta)\n",
        "print(\"Root Mean Squared Error - Boston:\", rmse_linear_regression_boston)\n",
        "print(\"Root Mean Squared Error - Chicago:\", rmse_linear_regression_chicago)\n",
        "print(\"Root Mean Squared Error - Philadelphia:\", rmse_linear_regression_philadelphia)\n",
        "\n",
        "from sklearn.metrics import mean_squared_error\n",
        "import numpy as np\n",
        "\n",
        "# Function to calculate RMSE\n",
        "def calculate_rmse(y_true, y_pred):\n",
        "    mse = mean_squared_error(y_true, y_pred)\n",
        "    rmse = np.sqrt(mse)\n",
        "    return rmse\n",
        "\n",
        "# Concatenate true and predicted values for all cities\n",
        "y_true_all = np.concatenate([y_test_atlanta.values.flatten(),\n",
        "                             y_test_boston.values.flatten(),\n",
        "                             y_test_chicago.values.flatten(),\n",
        "                             y_test_philadelphia.values.flatten()])\n",
        "\n",
        "y_pred_all = np.concatenate([y_pred_atlanta.flatten(),\n",
        "                             y_pred_boston.flatten(),\n",
        "                             y_pred_chicago.flatten(),\n",
        "                             y_pred_philadelphia.flatten()])\n",
        "\n",
        "# Calculate overall RMSE\n",
        "rmse_linear_regression_all = calculate_rmse(y_true_all, y_pred_all)\n",
        "\n",
        "# Display overall RMSE\n",
        "print(\"Overall Root Mean Squared Error:\", rmse_linear_regression_all)\n",
        "'''"
      ]
    },
    {
      "cell_type": "markdown",
      "metadata": {
        "id": "bXYEzdD0dyv-"
      },
      "source": [
        "#### KNN regressor"
      ]
    },
    {
      "cell_type": "code",
      "source": [
        "categorical_features = ['IntersectionId', 'Weekend',\n",
        "       'EntryStreetEncoding', 'ExitStreetEncoding']\n",
        "cat_feature_indices = [X_atlanta.columns.get_loc(col) for col in categorical_features]\n",
        "cat_feature_indices"
      ],
      "metadata": {
        "colab": {
          "base_uri": "https://localhost:8080/"
        },
        "id": "qD7l42vZw84l",
        "outputId": "6e677478-4423-4935-e9a2-3f49c6a123ec"
      },
      "execution_count": null,
      "outputs": [
        {
          "output_type": "execute_result",
          "data": {
            "text/plain": [
              "[0, 1, 3, 4]"
            ]
          },
          "metadata": {},
          "execution_count": 37
        }
      ]
    },
    {
      "cell_type": "code",
      "execution_count": null,
      "metadata": {
        "colab": {
          "base_uri": "https://localhost:8080/"
        },
        "id": "TwFawUyLdyv-",
        "outputId": "a12e5258-f69f-4fe1-eae6-b5deab54f23c"
      },
      "outputs": [
        {
          "output_type": "stream",
          "name": "stdout",
          "text": [
            "Fitting 3 folds for each of 1 candidates, totalling 3 fits\n",
            "RMSE for Atlanta, Target: TotalTimeStopped_p20: 7.163509744522791\n",
            "--------------------------------------------------\n",
            "Fitting 3 folds for each of 1 candidates, totalling 3 fits\n",
            "RMSE for Atlanta, Target: TotalTimeStopped_p50: 14.243132475861083\n",
            "--------------------------------------------------\n",
            "Fitting 3 folds for each of 1 candidates, totalling 3 fits\n",
            "RMSE for Atlanta, Target: TotalTimeStopped_p80: 24.78091870022377\n",
            "--------------------------------------------------\n",
            "Fitting 3 folds for each of 1 candidates, totalling 3 fits\n",
            "RMSE for Atlanta, Target: DistanceToFirstStop_p20: 22.455692167020658\n",
            "--------------------------------------------------\n",
            "Fitting 3 folds for each of 1 candidates, totalling 3 fits\n",
            "RMSE for Atlanta, Target: DistanceToFirstStop_p50: 66.17305259167652\n",
            "--------------------------------------------------\n",
            "Fitting 3 folds for each of 1 candidates, totalling 3 fits\n",
            "RMSE for Atlanta, Target: DistanceToFirstStop_p80: 156.85709336418074\n",
            "--------------------------------------------------\n",
            "Overall RMSE for Atlanta: 71.12846988006045\n",
            "======================================================================\n",
            "Fitting 3 folds for each of 1 candidates, totalling 3 fits\n",
            "RMSE for Boston, Target: TotalTimeStopped_p20: 7.099708866177595\n",
            "--------------------------------------------------\n",
            "Fitting 3 folds for each of 1 candidates, totalling 3 fits\n",
            "RMSE for Boston, Target: TotalTimeStopped_p50: 14.547567598485674\n",
            "--------------------------------------------------\n",
            "Fitting 3 folds for each of 1 candidates, totalling 3 fits\n",
            "RMSE for Boston, Target: TotalTimeStopped_p80: 26.225397890033307\n",
            "--------------------------------------------------\n",
            "Fitting 3 folds for each of 1 candidates, totalling 3 fits\n",
            "RMSE for Boston, Target: DistanceToFirstStop_p20: 19.491654056583446\n",
            "--------------------------------------------------\n",
            "Fitting 3 folds for each of 1 candidates, totalling 3 fits\n",
            "RMSE for Boston, Target: DistanceToFirstStop_p50: 36.091288519729325\n",
            "--------------------------------------------------\n",
            "Fitting 3 folds for each of 1 candidates, totalling 3 fits\n",
            "RMSE for Boston, Target: DistanceToFirstStop_p80: 61.558167302298344\n",
            "--------------------------------------------------\n",
            "Overall RMSE for Boston: 54.15745143207392\n",
            "======================================================================\n",
            "Fitting 3 folds for each of 1 candidates, totalling 3 fits\n",
            "RMSE for Chicago, Target: TotalTimeStopped_p20: 6.604691209442431\n",
            "--------------------------------------------------\n",
            "Fitting 3 folds for each of 1 candidates, totalling 3 fits\n",
            "RMSE for Chicago, Target: TotalTimeStopped_p50: 12.08843056763333\n",
            "--------------------------------------------------\n",
            "Fitting 3 folds for each of 1 candidates, totalling 3 fits\n",
            "RMSE for Chicago, Target: TotalTimeStopped_p80: 20.075588691866844\n",
            "--------------------------------------------------\n",
            "Fitting 3 folds for each of 1 candidates, totalling 3 fits\n",
            "RMSE for Chicago, Target: DistanceToFirstStop_p20: 24.739966318792764\n",
            "--------------------------------------------------\n",
            "Fitting 3 folds for each of 1 candidates, totalling 3 fits\n",
            "RMSE for Chicago, Target: DistanceToFirstStop_p50: 42.0582485338158\n",
            "--------------------------------------------------\n",
            "Fitting 3 folds for each of 1 candidates, totalling 3 fits\n",
            "RMSE for Chicago, Target: DistanceToFirstStop_p80: 72.26979708234498\n",
            "--------------------------------------------------\n",
            "Overall RMSE for Chicago: 49.925167095928096\n",
            "======================================================================\n",
            "Fitting 3 folds for each of 1 candidates, totalling 3 fits\n",
            "RMSE for Philadelphia, Target: TotalTimeStopped_p20: 5.348301777610334\n",
            "--------------------------------------------------\n",
            "Fitting 3 folds for each of 1 candidates, totalling 3 fits\n",
            "RMSE for Philadelphia, Target: TotalTimeStopped_p50: 10.794679371543873\n",
            "--------------------------------------------------\n",
            "Fitting 3 folds for each of 1 candidates, totalling 3 fits\n",
            "RMSE for Philadelphia, Target: TotalTimeStopped_p80: 19.1571519636074\n",
            "--------------------------------------------------\n",
            "Fitting 3 folds for each of 1 candidates, totalling 3 fits\n",
            "RMSE for Philadelphia, Target: DistanceToFirstStop_p20: 31.95688430125646\n",
            "--------------------------------------------------\n",
            "Fitting 3 folds for each of 1 candidates, totalling 3 fits\n",
            "RMSE for Philadelphia, Target: DistanceToFirstStop_p50: 72.10875476046171\n",
            "--------------------------------------------------\n",
            "Fitting 3 folds for each of 1 candidates, totalling 3 fits\n",
            "RMSE for Philadelphia, Target: DistanceToFirstStop_p80: 133.35140152747286\n",
            "--------------------------------------------------\n",
            "Overall RMSE for Philadelphia: 56.73276662645605\n",
            "======================================================================\n",
            "Overall RMSE for All Cities and Targets: 56.73276662645605\n"
          ]
        }
      ],
      "source": [
        "from lightgbm import LGBMRegressor\n",
        "from sklearn.model_selection import GridSearchCV, train_test_split\n",
        "from sklearn.metrics import mean_squared_error\n",
        "import pandas as pd\n",
        "import numpy as np\n",
        "\n",
        "# Assuming X_atlanta, X_boston, X_chicago, X_philadelphia are your feature matrices\n",
        "# and y_atlanta, y_boston, y_chicago, y_philadelphia are your target DataFrames\n",
        "# Assuming cat_feature_indices contains the indices of categorical features\n",
        "\n",
        "# Initialize dictionaries to store best parameters and RMSE for each city and target\n",
        "best_params_per_city = {}\n",
        "rmse_per_city = {}\n",
        "\n",
        "# Define lists to store all predicted and true values\n",
        "all_predicted_values = []\n",
        "all_true_values = []\n",
        "\n",
        "# Iterate over each city\n",
        "cities = ['atlanta', 'boston', 'chicago', 'philadelphia']\n",
        "\n",
        "for city in cities:\n",
        "    X_city = globals()['X_' + city]  # Accessing variables dynamically\n",
        "    y_city = globals()['y_' + city]\n",
        "\n",
        "    # Initialize a dictionary to store best parameters for targets in the current city\n",
        "    best_params_per_target = {}\n",
        "    rmse_per_target = {}\n",
        "\n",
        "    # Iterate over each target variable in the current city\n",
        "    for target_col in y_city.columns:\n",
        "        # Split the data into training and testing sets for the current target variable in the city\n",
        "        X_train, X_test, y_train, y_test = train_test_split(X_city, y_city[target_col], test_size=0.2, random_state=42)\n",
        "\n",
        "        # Define hyperparameters grid for LGBMRegressor including categorical_feature\n",
        "        param_grid = {\n",
        "            'n_estimators': [100],\n",
        "            'learning_rate': [0.1],\n",
        "            'max_depth': [5],\n",
        "            'min_child_samples': [2],\n",
        "            'verbosity': [-1]\n",
        "            # Add other hyperparameters as needed\n",
        "        }\n",
        "\n",
        "        # Initialize LGBMRegressor with categorical feature indices\n",
        "        lgbm_regressor = LGBMRegressor(random_state=42)\n",
        "\n",
        "        # Perform grid search with cross-validation\n",
        "        grid_search = GridSearchCV(estimator=lgbm_regressor, param_grid=param_grid,\n",
        "                                   scoring='neg_mean_squared_error', cv=3, verbose=2, n_jobs=-1)\n",
        "\n",
        "        # Fit the grid search to find the best hyperparameters\n",
        "        grid_search.fit(X_train, y_train, categorical_feature=cat_feature_indices)\n",
        "\n",
        "        # Get the best hyperparameters\n",
        "        best_params = grid_search.best_params_\n",
        "        best_params_per_target[target_col] = best_params\n",
        "\n",
        "        # Initialize LGBMRegressor with the best parameters\n",
        "        best_lgbm_regressor = LGBMRegressor(**best_params, random_state=42)\n",
        "        best_lgbm_regressor.fit(X_train, y_train)\n",
        "\n",
        "        # Make predictions on the test set for the current target variable in the city\n",
        "        y_pred = best_lgbm_regressor.predict(X_test)\n",
        "\n",
        "        # Calculate RMSE for the current target variable in the city\n",
        "        rmse_target = np.sqrt(mean_squared_error(y_test, y_pred))\n",
        "        rmse_per_target[target_col] = rmse_target\n",
        "\n",
        "        print(f'RMSE for {city.capitalize()}, Target: {target_col}: {rmse_target}')\n",
        "        print('-' * 50)\n",
        "\n",
        "        # Store predicted and true values for overall RMSE calculation\n",
        "        all_predicted_values.extend(y_pred)\n",
        "        all_true_values.extend(y_test)\n",
        "\n",
        "    # Store best parameters and RMSE for each target in the city\n",
        "    best_params_per_city[city] = best_params_per_target\n",
        "    rmse_per_city[city] = rmse_per_target\n",
        "\n",
        "    # Calculate RMSE for the city using all target variables\n",
        "    rmse_city = np.sqrt(mean_squared_error(all_true_values, all_predicted_values))\n",
        "    print(f'Overall RMSE for {city.capitalize()}: {rmse_city}')\n",
        "    print('=' * 70)\n",
        "\n",
        "# Calculate overall RMSE across all cities and targets\n",
        "overall_rmse_all = np.sqrt(mean_squared_error(all_true_values, all_predicted_values))\n",
        "print(f'Overall RMSE for All Cities and Targets: {overall_rmse_all}')\n"
      ]
    },
    {
      "cell_type": "code",
      "execution_count": null,
      "metadata": {
        "id": "IbGgLKVzejZR",
        "colab": {
          "base_uri": "https://localhost:8080/"
        },
        "outputId": "ed4eb99a-4c9f-41d0-ec89-32de89b845d6"
      },
      "outputs": [
        {
          "output_type": "stream",
          "name": "stdout",
          "text": [
            "RMSE for Atlanta, Target: TotalTimeStopped_p20: 6.758781809420971\n",
            "--------------------------------------------------\n",
            "RMSE for Atlanta, Target: TotalTimeStopped_p50: 12.803139459284814\n",
            "--------------------------------------------------\n",
            "RMSE for Atlanta, Target: TotalTimeStopped_p80: 21.466251385977337\n",
            "--------------------------------------------------\n",
            "RMSE for Atlanta, Target: DistanceToFirstStop_p20: 21.58615286969885\n",
            "--------------------------------------------------\n",
            "RMSE for Atlanta, Target: DistanceToFirstStop_p50: 62.39753125068731\n",
            "--------------------------------------------------\n",
            "RMSE for Atlanta, Target: DistanceToFirstStop_p80: 136.1113880276457\n",
            "--------------------------------------------------\n",
            "Overall RMSE for Atlanta: 62.65796745404645\n",
            "======================================================================\n",
            "RMSE for Boston, Target: TotalTimeStopped_p20: 6.638377606571872\n",
            "--------------------------------------------------\n",
            "RMSE for Boston, Target: TotalTimeStopped_p50: 12.662834555591644\n",
            "--------------------------------------------------\n",
            "RMSE for Boston, Target: TotalTimeStopped_p80: 22.99557313914629\n",
            "--------------------------------------------------\n",
            "RMSE for Boston, Target: DistanceToFirstStop_p20: 18.437471078308654\n",
            "--------------------------------------------------\n",
            "RMSE for Boston, Target: DistanceToFirstStop_p50: 32.321062468714906\n",
            "--------------------------------------------------\n",
            "RMSE for Boston, Target: DistanceToFirstStop_p80: 54.64445833719372\n",
            "--------------------------------------------------\n",
            "Overall RMSE for Boston: 47.82006048862236\n",
            "======================================================================\n",
            "RMSE for Chicago, Target: TotalTimeStopped_p20: 6.3389360002957265\n",
            "--------------------------------------------------\n",
            "RMSE for Chicago, Target: TotalTimeStopped_p50: 11.106443137726698\n",
            "--------------------------------------------------\n",
            "RMSE for Chicago, Target: TotalTimeStopped_p80: 18.37464138672668\n",
            "--------------------------------------------------\n",
            "RMSE for Chicago, Target: DistanceToFirstStop_p20: 23.82100893254776\n",
            "--------------------------------------------------\n",
            "RMSE for Chicago, Target: DistanceToFirstStop_p50: 39.44632868911567\n",
            "--------------------------------------------------\n",
            "RMSE for Chicago, Target: DistanceToFirstStop_p80: 67.91625510339338\n",
            "--------------------------------------------------\n",
            "Overall RMSE for Chicago: 44.53069502184455\n",
            "======================================================================\n",
            "RMSE for Philadelphia, Target: TotalTimeStopped_p20: 4.844544229365441\n",
            "--------------------------------------------------\n",
            "RMSE for Philadelphia, Target: TotalTimeStopped_p50: 9.019646486864724\n",
            "--------------------------------------------------\n",
            "RMSE for Philadelphia, Target: TotalTimeStopped_p80: 15.906277492324019\n",
            "--------------------------------------------------\n",
            "RMSE for Philadelphia, Target: DistanceToFirstStop_p20: 29.88800807473465\n",
            "--------------------------------------------------\n",
            "RMSE for Philadelphia, Target: DistanceToFirstStop_p50: 59.82876391737373\n",
            "--------------------------------------------------\n",
            "RMSE for Philadelphia, Target: DistanceToFirstStop_p80: 93.8595804046299\n",
            "--------------------------------------------------\n",
            "Overall RMSE for Philadelphia: 45.99245975673529\n",
            "======================================================================\n",
            "Overall RMSE for All Cities and Targets: 50.25029568031216\n"
          ]
        }
      ],
      "source": [
        "from lightgbm import LGBMRegressor\n",
        "from sklearn.model_selection import train_test_split\n",
        "from sklearn.metrics import mean_squared_error\n",
        "import pandas as pd\n",
        "import numpy as np\n",
        "\n",
        "# Assuming X_atlanta, X_boston, X_chicago, X_philadelphia are your feature matrices\n",
        "# and y_atlanta, y_boston, y_chicago, y_philadelphia are your target DataFrames\n",
        "# Assuming cat_feature_indices contains the indices of categorical features\n",
        "# best_params_per_city contains the best parameters for each city and target obtained from the grid search\n",
        "\n",
        "# Initialize dictionaries to store RMSE for each city and overall RMSE across all cities and targets\n",
        "rmse_per_city = {}\n",
        "overall_rmse_all = []\n",
        "overall_predicted_values = []\n",
        "overall_true_values = []\n",
        "all_models = {}  # Dictionary to store all models\n",
        "\n",
        "# Iterate over each city\n",
        "cities = ['atlanta', 'boston', 'chicago', 'philadelphia']\n",
        "\n",
        "for city in cities:\n",
        "    city_models = {}\n",
        "    X_city = globals()['X_' + city]  # Accessing variables dynamically\n",
        "    y_city = globals()['y_' + city]\n",
        "\n",
        "    # Initialize a dictionary to store RMSE for each target variable in the current city\n",
        "    rmse_per_target = {}\n",
        "\n",
        "    # Iterate over each target variable in the current city\n",
        "    for target_col in y_city.columns:\n",
        "        # Split the data into training and testing sets for the current target variable in the city\n",
        "        X_train, X_test, y_train, y_test = train_test_split(X_city, y_city[target_col], test_size=0.2, random_state=42)\n",
        "\n",
        "        # Get the best parameters for the current target in the city\n",
        "        best_params = best_params_per_city[city][target_col]\n",
        "\n",
        "        # Define categorical features for LGBMRegressor\n",
        "        cat_feature_indices = [index for index, col in enumerate(X_train.columns) if col in categorical_features]\n",
        "\n",
        "        # Initialize LGBMRegressor with the best parameters and categorical features\n",
        "        lgbm_regressor = LGBMRegressor(**best_params, random_state=42)\n",
        "\n",
        "        # Fit the model on the training data for the current target in the city\n",
        "        lgbm_regressor.fit(X_train, y_train, categorical_feature=cat_feature_indices)\n",
        "\n",
        "        # Make predictions on the test set for the current target variable in the city\n",
        "        y_pred = lgbm_regressor.predict(X_test)\n",
        "\n",
        "        # Calculate RMSE for the current target variable in the city\n",
        "        rmse_target = np.sqrt(mean_squared_error(y_test, y_pred))\n",
        "        rmse_per_target[target_col] = rmse_target\n",
        "\n",
        "        print(f'RMSE for {city.capitalize()}, Target: {target_col}: {rmse_target}')\n",
        "        print('-' * 50)\n",
        "        city_models[target_col] = lgbm_regressor\n",
        "\n",
        "        # Store predicted and true values for overall RMSE calculation\n",
        "        overall_predicted_values.extend(y_pred)\n",
        "        overall_true_values.extend(y_test)\n",
        "\n",
        "    # Store RMSE for each target variable in the current city\n",
        "    rmse_per_city[city] = rmse_per_target\n",
        "    all_models[city] = city_models\n",
        "\n",
        "    # Calculate overall RMSE for the city using all target variables\n",
        "    overall_rmse_city = np.sqrt(mean_squared_error(overall_true_values, overall_predicted_values))\n",
        "    overall_rmse_all.append(overall_rmse_city)\n",
        "    print(f'Overall RMSE for {city.capitalize()}: {overall_rmse_city}')\n",
        "    print('=' * 70)\n",
        "\n",
        "# Calculate overall RMSE across all cities and targets\n",
        "overall_rmse_all = np.mean(overall_rmse_all)\n",
        "print(f'Overall RMSE for All Cities and Targets: {overall_rmse_all}')\n"
      ]
    },
    {
      "cell_type": "code",
      "source": [
        "import matplotlib.pyplot as plt\n",
        "import seaborn as sns\n",
        "\n",
        "# Initialize dictionaries to store feature importance for each city\n",
        "feature_importance_per_city = {}\n",
        "\n",
        "# Iterate over each city to retrieve feature importance\n",
        "for city, models in all_models.items():\n",
        "    city_feature_importance = {}\n",
        "    for target_col, model in models.items():\n",
        "        feature_importance = model.feature_importances_\n",
        "        city_feature_importance[target_col] = feature_importance\n",
        "    feature_importance_per_city[city] = city_feature_importance\n",
        "\n",
        "X_dict = {'atlanta': X_atlanta, 'boston': X_boston, 'chicago': X_chicago, 'philadelphia': X_philadelphia}\n",
        "\n",
        "# Plotting feature importance for each city in subplots\n",
        "fig, axs = plt.subplots(2, 2, figsize=(14, 10))\n",
        "fig.suptitle('Feature Importance Across Cities', fontsize=16)\n",
        "\n",
        "for i, (city, importance_dict) in enumerate(feature_importance_per_city.items()):\n",
        "    row = i // 2\n",
        "    col = i % 2\n",
        "\n",
        "    total_importance = np.zeros(len(X_dict[city].columns))\n",
        "    for target, importance in importance_dict.items():\n",
        "        total_importance += importance\n",
        "    total_importance /= 6\n",
        "\n",
        "    sorted_indices = np.argsort(total_importance)[::-1]  # Sort indices in descending order\n",
        "    top_features = X_dict[city].columns[sorted_indices][:10]\n",
        "\n",
        "    sns.barplot(x=total_importance[sorted_indices][:10], y=top_features, ax=axs[row, col])\n",
        "    axs[row, col].set_title(f'Feature Importance - {city.capitalize()}')\n",
        "    axs[row, col].set_xlabel('Feature Importance')\n",
        "    axs[row, col].set_ylabel('Features')\n",
        "\n",
        "plt.tight_layout()\n",
        "plt.show()\n"
      ],
      "metadata": {
        "colab": {
          "base_uri": "https://localhost:8080/",
          "height": 1000
        },
        "id": "1ubmcQmznyWS",
        "outputId": "9ffa7a15-50bd-477f-c42e-855a4ca5afd6"
      },
      "execution_count": null,
      "outputs": [
        {
          "output_type": "display_data",
          "data": {
            "text/plain": [
              "<Figure size 1400x1000 with 4 Axes>"
            ],
            "image/png": "[encoded data removed]"
          },
          "metadata": {}
        }
      ]
    },
    {
      "cell_type": "code",
      "source": [
        "importance"
      ],
      "metadata": {
        "colab": {
          "base_uri": "https://localhost:8080/"
        },
        "id": "fi0OeYcgs_1C",
        "outputId": "96214448-44c1-4982-b80c-76022a5ab1b0"
      },
      "execution_count": null,
      "outputs": [
        {
          "output_type": "execute_result",
          "data": {
            "text/plain": [
              "array([1229,   80,   22,  139,   65,  231,  111,  364,   69,   23,   23,\n",
              "        239,  299,   54,   52], dtype=int32)"
            ]
          },
          "metadata": {},
          "execution_count": 45
        }
      ]
    },
    {
      "cell_type": "code",
      "execution_count": null,
      "metadata": {
        "id": "gl1vdy47dywA"
      },
      "outputs": [],
      "source": [
        "import pandas as pd\n",
        "\n",
        "# Sample predictions (replace this with your actual predictions)\n",
        "# predictions = model_lgbm_atlanta.predict(X_atlanta_test)\n",
        "\n",
        "# Assuming you have a list of column names for the target variables\n",
        "column_names = ['TotalTimeStopped_p20', 'TotalTimeStopped_p50', 'TotalTimeStopped_p80',\n",
        "                'DistanceToFirstStop_p20', 'DistanceToFirstStop_p50', 'DistanceToFirstStop_p80']\n",
        "\n",
        "# Dictionary containing models for each target variable\n",
        "models_per_target_atlanta = all_models['atlanta']  # Assuming you have this structure\n",
        "models_per_target_boston = all_models['boston']  # Assuming you have this structure\n",
        "models_per_target_chicago = all_models['chicago']  # Assuming you have this structure\n",
        "models_per_target_philadelphia = all_models['philadelphia']  # Assuming you have this structure\n",
        "\n",
        "# Predict each target column separately for Atlanta using respective models\n",
        "for i, col in enumerate(column_names):\n",
        "\n",
        "    # Get the model for the current target column\n",
        "    model_atlanta = models_per_target_atlanta[col]\n",
        "    model_boston = models_per_target_boston[col]\n",
        "    model_chicago = models_per_target_chicago[col]\n",
        "    model_philadelphia = models_per_target_philadelphia[col]\n",
        "\n",
        "    # Make predictions using the respective model for the current target column\n",
        "    predictions_atlanta = model_atlanta.predict(X_atlanta_test)\n",
        "    predictions_boston = model_boston.predict(X_boston_test)\n",
        "    predictions_chicago = model_chicago.predict(X_chicago_test)\n",
        "    predictions_philadelphia = model_philadelphia.predict(X_philadelphia_test)\n",
        "\n",
        "    # Assign the predicted values to the corresponding column in the test DataFrame\n",
        "    test_atlanta[col] = predictions_atlanta\n",
        "    test_boston[col] = predictions_boston\n",
        "    test_chicago[col] = predictions_chicago\n",
        "    test_philadelphia[col] = predictions_philadelphia"
      ]
    },
    {
      "cell_type": "code",
      "execution_count": null,
      "metadata": {
        "id": "5zfgdvJjdywA"
      },
      "outputs": [],
      "source": [
        "# Assuming all DataFrames have the same columns and 'RowId' is a common column\n",
        "# Replace test_atlanta, test_boston, test_chicago, and test_philadelphia with your actual DataFrames\n",
        "\n",
        "# Concatenating the DataFrames based on 'RowId'\n",
        "combined_df = pd.concat([test_atlanta, test_boston, test_chicago, test_philadelphia], ignore_index=True)\n",
        "\n",
        "# Displaying the combined DataFrame\n",
        "print(combined_df)\n"
      ]
    },
    {
      "cell_type": "code",
      "execution_count": null,
      "metadata": {
        "id": "HDViPP9-dywB"
      },
      "outputs": [],
      "source": [
        "import pandas as pd\n",
        "\n",
        "# Load the sample_submission.csv file into a DataFrame\n",
        "data = pd.read_csv('/content/drive/MyDrive/sample_submission.csv')  # Replace 'sample_submission.csv' with your file path\n",
        "\n",
        "# Splitting the 'TargetId' column to extract two numbers\n",
        "data[['RowId', 'Target_Variable_Number']] = data['TargetId'].str.split('_', expand=True)\n",
        "\n"
      ]
    },
    {
      "cell_type": "code",
      "execution_count": null,
      "metadata": {
        "id": "tba_x_xUdywB"
      },
      "outputs": [],
      "source": [
        "from tqdm import tqdm\n",
        "\n",
        "# Assuming combined_df and data DataFrames exist, and column_names is defined\n",
        "# Convert 'RowId' and 'Target_Variable_Number' columns to integers for indexing\n",
        "data['RowId'] = data['RowId'].astype(int)\n",
        "data['Target_Variable_Number'] = data['Target_Variable_Number'].astype(int)\n",
        "\n",
        "# Initialize an empty list to store target values\n",
        "target_values = []\n",
        "\n",
        "# Use tqdm to iterate through each row in the 'data' DataFrame\n",
        "for index, row in tqdm(data.iterrows(), total=len(data), desc='Processing rows'):\n",
        "    row_id = row['RowId']\n",
        "    target_var_num = row['Target_Variable_Number']\n",
        "\n",
        "    # Find the value in combined_df using RowId and Target_Variable_Number\n",
        "    value = combined_df.loc[row_id, column_names[target_var_num]]\n",
        "\n",
        "    # Append the found value to the list\n",
        "    target_values.append(value)\n",
        "\n",
        "# Add the 'Target_Variable' column to the 'data' DataFrame\n",
        "data['Target_Variable'] = target_values\n",
        "\n",
        "# Display the updated 'data' DataFrame with the new 'Target_Variable' column\n",
        "print(data)\n"
      ]
    },
    {
      "cell_type": "code",
      "execution_count": null,
      "metadata": {
        "id": "kdr9cTFSdywC"
      },
      "outputs": [],
      "source": [
        "# Drop the 'Target' column if it exists\n",
        "if 'Target' in data:\n",
        "    data.drop(columns=['Target'], inplace=True)\n",
        "\n",
        "# Drop the 'Target' column if it exists\n",
        "if 'Target.1' in data:\n",
        "    data.drop(columns=['Target.1'], inplace=True)\n",
        "\n",
        "# Create a new DataFrame containing only 'TargetId' and 'Target_Variable' columns\n",
        "lgbm_submission = data[['TargetId', 'Target_Variable']]\n",
        "\n",
        "# Rename 'Target_Variable' column to 'Target'\n",
        "lgbm_submission.rename(columns={'Target_Variable': 'Target'}, inplace=True)\n",
        "\n",
        "# Export the new DataFrame to a CSV file named 'knn_submission.csv'\n",
        "#lgbm_submission.to_csv('lgbm_submission.csv', index=False)\n",
        "\n",
        "# Export the new DataFrame to a CSV file named 'knn_submission.csv'\n",
        "lgbm_submission.to_csv('lgbm_no_split_submission_new.csv', index=False)\n",
        "\n"
      ]
    },
    {
      "cell_type": "code",
      "execution_count": null,
      "metadata": {
        "id": "JGj49h7rdywC"
      },
      "outputs": [],
      "source": [
        "lgbm_submission.head()"
      ]
    },
    {
      "cell_type": "code",
      "execution_count": null,
      "metadata": {
        "id": "HglOgIKpdywD"
      },
      "outputs": [],
      "source": [
        "lol = pd.read_csv(\"knn_submission.csv\")\n",
        "lol.columns\n"
      ]
    },
    {
      "cell_type": "code",
      "execution_count": null,
      "metadata": {
        "id": "rnqfO374dywE"
      },
      "outputs": [],
      "source": [
        "# Assuming 'lol' is the DataFrame\n",
        "\n",
        "# Check if 'Target' column exists and remove it\n",
        "if 'Target' in lol.columns:\n",
        "    lol.drop(columns=['Target'], inplace=True)\n",
        "\n",
        "# Rename 'Target.1' column to 'target' if it exists\n",
        "if 'Target.1' in lol.columns:\n",
        "    lol.rename(columns={'Target.1': 'Target'}, inplace=True)\n",
        "\n",
        "# Print the columns and first few rows\n",
        "print(\"Columns after modifications:\")\n",
        "print(lol.columns)\n",
        "\n",
        "print(\"\\nFirst few rows:\")\n",
        "print(lol.head())\n"
      ]
    },
    {
      "cell_type": "code",
      "execution_count": null,
      "metadata": {
        "id": "odk_JBWTdywF"
      },
      "outputs": [],
      "source": [
        "# Assuming 'lol' is the DataFrame\n",
        "\n",
        "# Save 'lol' DataFrame to a CSV file named 'knn_submission.csv'\n",
        "lol.to_csv('knn_submission.csv', index=False)\n"
      ]
    },
    {
      "cell_type": "code",
      "execution_count": null,
      "metadata": {
        "id": "fU3cNEDadywF"
      },
      "outputs": [],
      "source": [
        "hey = pd.read_csv('knn_submission.csv')\n",
        "print(hey.columns)\n",
        "hey.head()"
      ]
    },
    {
      "cell_type": "code",
      "execution_count": null,
      "metadata": {
        "id": "E3iUJOYwdywG"
      },
      "outputs": [],
      "source": [
        "# Assuming 'data' DataFrame and the row number you want to verify are defined\n",
        "\n",
        "# Define the row number you want to verify (replace this with your desired row number)\n",
        "row_to_verify = 10\n",
        "\n",
        "# Extract RowId and Target_Variable_Number from the specified row in data\n",
        "row_id = data.loc[row_to_verify, 'RowId']\n",
        "print(data.loc[row_to_verify])\n",
        "target_var_num = data.loc[row_to_verify, 'Target_Variable_Number']\n",
        "\n",
        "# Find the corresponding row in combined_df using RowId and Target_Variable_Number\n",
        "verified_row = combined_df.iloc[row_id]\n",
        "\n",
        "# Display the verified row from combined_df\n",
        "print(\"Verified Row in combined_df:\")\n",
        "print(verified_row)\n"
      ]
    },
    {
      "cell_type": "code",
      "execution_count": null,
      "metadata": {
        "id": "TWONHiMwdywH"
      },
      "outputs": [],
      "source": [
        "'''from sklearn.neighbors import KNeighborsRegressor\n",
        "\n",
        "# Function to train a KNN model and make predictions\n",
        "def train_and_predict_knn(X_train, X_test, y_train, y_test, k=3):\n",
        "    model_knn = KNeighborsRegressor(n_neighbors=k)\n",
        "    model_knn.fit(X_train, y_train)\n",
        "    y_pred_knn = model_knn.predict(X_test)\n",
        "    mse_knn = mean_squared_error(y_test, y_pred_knn)\n",
        "    rmse_knn = np.sqrt(mse_knn)\n",
        "    return y_pred_knn, rmse_knn\n",
        "\n",
        "# KNN Regressor for each city (you can choose the value of k)\n",
        "k_value = 5\n",
        "\n",
        "y_pred_knn_atlanta, rmse_knn_atlanta = train_and_predict_knn(X_train_atlanta, X_test_atlanta, y_train_atlanta, y_test_atlanta, k_value)\n",
        "y_pred_knn_boston, rmse_knn_boston = train_and_predict_knn(X_train_boston, X_test_boston, y_train_boston, y_test_boston, k_value)\n",
        "y_pred_knn_chicago, rmse_knn_chicago = train_and_predict_knn(X_train_chicago, X_test_chicago, y_train_chicago, y_test_chicago, k_value)\n",
        "y_pred_knn_philadelphia, rmse_knn_philadelphia = train_and_predict_knn(X_train_philadelphia, X_test_philadelphia, y_train_philadelphia, y_test_philadelphia, k_value)\n",
        "\n",
        "# Concatenate true and predicted values for all cities\n",
        "y_true_all_knn = np.concatenate([y_test_atlanta.values.flatten(),\n",
        "                                 y_test_boston.values.flatten(),\n",
        "                                 y_test_chicago.values.flatten(),\n",
        "                                 y_test_philadelphia.values.flatten()])\n",
        "\n",
        "y_pred_all_knn = np.concatenate([y_pred_knn_atlanta.flatten(),\n",
        "                                 y_pred_knn_boston.flatten(),\n",
        "                                 y_pred_knn_chicago.flatten(),\n",
        "                                 y_pred_knn_philadelphia.flatten()])\n",
        "\n",
        "# Calculate overall RMSE for KNN\n",
        "rmse_all_knn = calculate_rmse(y_true_all_knn, y_pred_all_knn)\n",
        "\n",
        "# Display RMSE for each city (KNN)\n",
        "print(\"KNN RMSE - Atlanta:\", rmse_knn_atlanta)\n",
        "print(\"KNN RMSE - Boston:\", rmse_knn_boston)\n",
        "print(\"KNN RMSE - Chicago:\", rmse_knn_chicago)\n",
        "print(\"KNN RMSE - Philadelphia:\", rmse_knn_philadelphia)\n",
        "\n",
        "# Display overall RMSE for KNN\n",
        "print(\"Overall Root Mean Squared Error (KNN):\", rmse_all_knn)\n",
        "\n",
        "\n",
        "from sklearn.neighbors import KNeighborsRegressor\n",
        "\n",
        "# Function to train a KNN model and make predictions\n",
        "def train_and_predict_knn(X_train, X_test, y_train, y_test, k=7):\n",
        "    model_knn = KNeighborsRegressor(n_neighbors=k)\n",
        "    model_knn.fit(X_train, y_train)\n",
        "    y_pred_knn = model_knn.predict(X_test)\n",
        "    mse_knn = mean_squared_error(y_test, y_pred_knn)\n",
        "    rmse_knn = np.sqrt(mse_knn)\n",
        "    return y_pred_knn, rmse_knn\n",
        "\n",
        "# KNN Regressor for each city (you can choose the value of k)\n",
        "k_value = 5\n",
        "\n",
        "y_pred_knn_atlanta, rmse_knn_atlanta = train_and_predict_knn(X_train_atlanta, X_test_atlanta, y_train_atlanta, y_test_atlanta, k_value)\n",
        "y_pred_knn_boston, rmse_knn_boston = train_and_predict_knn(X_train_boston, X_test_boston, y_train_boston, y_test_boston, k_value)\n",
        "y_pred_knn_chicago, rmse_knn_chicago = train_and_predict_knn(X_train_chicago, X_test_chicago, y_train_chicago, y_test_chicago, k_value)\n",
        "y_pred_knn_philadelphia, rmse_knn_philadelphia = train_and_predict_knn(X_train_philadelphia, X_test_philadelphia, y_train_philadelphia, y_test_philadelphia, k_value)\n",
        "\n",
        "# Concatenate true and predicted values for all cities\n",
        "y_true_all_knn = np.concatenate([y_test_atlanta.values.flatten(),\n",
        "                                 y_test_boston.values.flatten(),\n",
        "                                 y_test_chicago.values.flatten(),\n",
        "                                 y_test_philadelphia.values.flatten()])\n",
        "\n",
        "y_pred_all_knn = np.concatenate([y_pred_knn_atlanta.flatten(),\n",
        "                                 y_pred_knn_boston.flatten(),\n",
        "                                 y_pred_knn_chicago.flatten(),\n",
        "                                 y_pred_knn_philadelphia.flatten()])\n",
        "\n",
        "# Calculate overall RMSE for KNN\n",
        "rmse_all_knn = calculate_rmse(y_true_all_knn, y_pred_all_knn)\n",
        "\n",
        "# Display RMSE for each city (KNN)\n",
        "print(\"KNN RMSE - Atlanta:\", rmse_knn_atlanta)\n",
        "print(\"KNN RMSE - Boston:\", rmse_knn_boston)\n",
        "print(\"KNN RMSE - Chicago:\", rmse_knn_chicago)\n",
        "print(\"KNN RMSE - Philadelphia:\", rmse_knn_philadelphia)\n",
        "\n",
        "# Display overall RMSE for KNN\n",
        "print(\"Overall Root Mean Squared Error (KNN):\", rmse_all_knn)\n",
        "\n",
        "\n",
        "from sklearn.neighbors import KNeighborsRegressor\n",
        "\n",
        "# Function to train a KNN model and make predictions\n",
        "def train_and_predict_knn(X_train, X_test, y_train, y_test, k=9):\n",
        "    model_knn = KNeighborsRegressor(n_neighbors=k)\n",
        "    model_knn.fit(X_train, y_train)\n",
        "    y_pred_knn = model_knn.predict(X_test)\n",
        "    mse_knn = mean_squared_error(y_test, y_pred_knn)\n",
        "    rmse_knn = np.sqrt(mse_knn)\n",
        "    return y_pred_knn, rmse_knn\n",
        "\n",
        "# KNN Regressor for each city (you can choose the value of k)\n",
        "k_value = 5\n",
        "\n",
        "y_pred_knn_atlanta, rmse_knn_atlanta = train_and_predict_knn(X_train_atlanta, X_test_atlanta, y_train_atlanta, y_test_atlanta, k_value)\n",
        "y_pred_knn_boston, rmse_knn_boston = train_and_predict_knn(X_train_boston, X_test_boston, y_train_boston, y_test_boston, k_value)\n",
        "y_pred_knn_chicago, rmse_knn_chicago = train_and_predict_knn(X_train_chicago, X_test_chicago, y_train_chicago, y_test_chicago, k_value)\n",
        "y_pred_knn_philadelphia, rmse_knn_philadelphia = train_and_predict_knn(X_train_philadelphia, X_test_philadelphia, y_train_philadelphia, y_test_philadelphia, k_value)\n",
        "\n",
        "# Concatenate true and predicted values for all cities\n",
        "y_true_all_knn = np.concatenate([y_test_atlanta.values.flatten(),\n",
        "                                 y_test_boston.values.flatten(),\n",
        "                                 y_test_chicago.values.flatten(),\n",
        "                                 y_test_philadelphia.values.flatten()])\n",
        "\n",
        "y_pred_all_knn = np.concatenate([y_pred_knn_atlanta.flatten(),\n",
        "                                 y_pred_knn_boston.flatten(),\n",
        "                                 y_pred_knn_chicago.flatten(),\n",
        "                                 y_pred_knn_philadelphia.flatten()])\n",
        "\n",
        "# Calculate overall RMSE for KNN\n",
        "rmse_all_knn = calculate_rmse(y_true_all_knn, y_pred_all_knn)\n",
        "\n",
        "# Display RMSE for each city (KNN)\n",
        "print(\"KNN RMSE - Atlanta:\", rmse_knn_atlanta)\n",
        "print(\"KNN RMSE - Boston:\", rmse_knn_boston)\n",
        "print(\"KNN RMSE - Chicago:\", rmse_knn_chicago)\n",
        "print(\"KNN RMSE - Philadelphia:\", rmse_knn_philadelphia)\n",
        "\n",
        "# Display overall RMSE for KNN\n",
        "print(\"Overall Root Mean Squared Error (KNN):\", rmse_all_knn)\n",
        "\n",
        "from sklearn.neighbors import KNeighborsRegressor\n",
        "\n",
        "# Function to train a KNN model and make predictions\n",
        "def train_and_predict_knn(X_train, X_test, y_train, y_test, k=11):\n",
        "    model_knn = KNeighborsRegressor(n_neighbors=k)\n",
        "    model_knn.fit(X_train, y_train)\n",
        "    y_pred_knn = model_knn.predict(X_test)\n",
        "    mse_knn = mean_squared_error(y_test, y_pred_knn)\n",
        "    rmse_knn = np.sqrt(mse_knn)\n",
        "    return y_pred_knn, rmse_knn\n",
        "\n",
        "# KNN Regressor for each city (you can choose the value of k)\n",
        "k_value = 5\n",
        "\n",
        "y_pred_knn_atlanta, rmse_knn_atlanta = train_and_predict_knn(X_train_atlanta, X_test_atlanta, y_train_atlanta, y_test_atlanta, k_value)\n",
        "y_pred_knn_boston, rmse_knn_boston = train_and_predict_knn(X_train_boston, X_test_boston, y_train_boston, y_test_boston, k_value)\n",
        "y_pred_knn_chicago, rmse_knn_chicago = train_and_predict_knn(X_train_chicago, X_test_chicago, y_train_chicago, y_test_chicago, k_value)\n",
        "y_pred_knn_philadelphia, rmse_knn_philadelphia = train_and_predict_knn(X_train_philadelphia, X_test_philadelphia, y_train_philadelphia, y_test_philadelphia, k_value)\n",
        "\n",
        "# Concatenate true and predicted values for all cities\n",
        "y_true_all_knn = np.concatenate([y_test_atlanta.values.flatten(),\n",
        "                                 y_test_boston.values.flatten(),\n",
        "                                 y_test_chicago.values.flatten(),\n",
        "                                 y_test_philadelphia.values.flatten()])\n",
        "\n",
        "y_pred_all_knn = np.concatenate([y_pred_knn_atlanta.flatten(),\n",
        "                                 y_pred_knn_boston.flatten(),\n",
        "                                 y_pred_knn_chicago.flatten(),\n",
        "                                 y_pred_knn_philadelphia.flatten()])\n",
        "\n",
        "# Calculate overall RMSE for KNN\n",
        "rmse_all_knn = calculate_rmse(y_true_all_knn, y_pred_all_knn)\n",
        "\n",
        "# Display RMSE for each city (KNN)\n",
        "print(\"KNN RMSE - Atlanta:\", rmse_knn_atlanta)\n",
        "print(\"KNN RMSE - Boston:\", rmse_knn_boston)\n",
        "print(\"KNN RMSE - Chicago:\", rmse_knn_chicago)\n",
        "print(\"KNN RMSE - Philadelphia:\", rmse_knn_philadelphia)\n",
        "\n",
        "# Display overall RMSE for KNN\n",
        "print(\"Overall Root Mean Squared Error (KNN):\", rmse_all_knn)\n",
        "\n",
        "'''"
      ]
    },
    {
      "cell_type": "code",
      "execution_count": null,
      "metadata": {
        "id": "ALkzTN_OdywI"
      },
      "outputs": [],
      "source": [
        "'''from sklearn.model_selection import train_test_split\n",
        "from sklearn.linear_model import LinearRegression\n",
        "from sklearn.metrics import mean_squared_error\n",
        "import numpy as np\n",
        "\n",
        "# Function to calculate RMSE\n",
        "def calculate_rmse(y_true, y_pred):\n",
        "    mse = mean_squared_error(y_true, y_pred)\n",
        "    rmse = np.sqrt(mse)\n",
        "    return rmse\n",
        "\n",
        "# Get a list of target variable names\n",
        "target_variables_atlanta = y_atlanta.columns.tolist()\n",
        "target_variables_chicago = y_chicago.columns.tolist()\n",
        "target_variables_boston = y_boston.columns.tolist()\n",
        "target_variables_philadelphia = y_philadelphia.columns.tolist()\n",
        "\n",
        "# Fit a model for every target variable\n",
        "for target_variable in target_variables_atlanta:\n",
        "    X_train_atlanta, X_test_atlanta, y_train_atlanta, y_test_atlanta = train_test_split(X_atlanta, y_atlanta[target_variable], test_size=0.2, random_state=42)\n",
        "    model_atlanta = LinearRegression()\n",
        "    model_atlanta.fit(X_train_atlanta, y_train_atlanta)\n",
        "    y_pred_atlanta = model_atlanta.predict(X_test_atlanta)\n",
        "    rmse_atlanta = calculate_rmse(y_test_atlanta, y_pred_atlanta)\n",
        "    print(f\"Root Mean Squared Error - Atlanta ({target_variable}): {rmse_atlanta}\")\n",
        "\n",
        "# Fit a model for every target variable\n",
        "for target_variable in target_variables_chicago:\n",
        "    X_train_chicago, X_test_chicago, y_train_chicago, y_test_chicago = train_test_split(X_chicago, y_chicago[target_variable], test_size=0.2, random_state=42)\n",
        "    model_chicago = LinearRegression()\n",
        "    model_chicago.fit(X_train_chicago, y_train_chicago)\n",
        "    y_pred_chicago = model_chicago.predict(X_test_chicago)\n",
        "    rmse_chicago = calculate_rmse(y_test_chicago, y_pred_chicago)\n",
        "    print(f\"Root Mean Squared Error - Chicago ({target_variable}): {rmse_chicago}\")\n",
        "\n",
        "# Fit a model for every target variable\n",
        "for target_variable in target_variables_boston:\n",
        "    X_train_boston, X_test_boston, y_train_boston, y_test_boston = train_test_split(X_boston, y_boston[target_variable], test_size=0.2, random_state=42)\n",
        "    model_boston = LinearRegression()\n",
        "    model_boston.fit(X_train_boston, y_train_boston)\n",
        "    y_pred_boston = model_boston.predict(X_test_boston)\n",
        "    rmse_boston = calculate_rmse(y_test_boston, y_pred_boston)\n",
        "    print(f\"Root Mean Squared Error - Boston ({target_variable}): {rmse_boston}\")\n",
        "\n",
        "\n",
        "# Fit a model for every target variable\n",
        "for target_variable in target_variables_philadelphia:\n",
        "    X_train_philadelphia, X_test_philadelphia, y_train_philadelphia, y_test_philadelphia = train_test_split(X_philadelphia, y_philadelphia[target_variable], test_size=0.2, random_state=42)\n",
        "    model_philadelphia = LinearRegression()\n",
        "    model_philadelphia.fit(X_train_philadelphia, y_train_philadelphia)\n",
        "    y_pred_philadelphia = model_philadelphia.predict(X_test_philadelphia)\n",
        "    rmse_philadelphia = calculate_rmse(y_test_philadelphia, y_pred_philadelphia)\n",
        "    print(f\"Root Mean Squared Error - Philadelphia ({target_variable}): {rmse_philadelphia}\")\n",
        "\n",
        "# Concatenate true and predicted values for all cities and target variables\n",
        "y_true_all = np.concatenate([\n",
        "    y_test_atlanta.values.flatten(),\n",
        "    y_test_boston.values.flatten(),\n",
        "    y_test_chicago.values.flatten(),\n",
        "    y_test_philadelphia.values.flatten(),\n",
        "    # Add other cities here\n",
        "])\n",
        "\n",
        "y_pred_all = np.concatenate([\n",
        "    y_pred_atlanta.flatten(),\n",
        "    y_pred_boston.flatten(),\n",
        "    y_pred_chicago.flatten(),\n",
        "    y_pred_philadelphia.flatten(),\n",
        "    # Add other cities here\n",
        "])\n",
        "\n",
        "# Calculate overall RMSE\n",
        "rmse_all = calculate_rmse(y_true_all, y_pred_all)\n",
        "\n",
        "# Display overall RMSE\n",
        "print(\"Overall Root Mean Squared Error:\", rmse_all)\n",
        "'''"
      ]
    },
    {
      "cell_type": "markdown",
      "metadata": {
        "id": "4fIMEI78dywI"
      },
      "source": [
        "KNN Regressor - a model for all cities"
      ]
    },
    {
      "cell_type": "code",
      "execution_count": null,
      "metadata": {
        "id": "KNIG4XI-dywJ"
      },
      "outputs": [],
      "source": [
        "'''from sklearn.model_selection import train_test_split\n",
        "from sklearn.neighbors import KNeighborsRegressor\n",
        "from sklearn.metrics import mean_squared_error\n",
        "import numpy as np\n",
        "\n",
        "# Assuming you have loaded and preprocessed datasets for each city (replace with your actual datasets)\n",
        "# X_atlanta, y_atlanta are your features and target variables for Atlanta\n",
        "# X_boston, y_boston for Boston\n",
        "# X_chicago, y_chicago for Chicago\n",
        "# X_philadelphia, y_philadelphia for Philadelphia\n",
        "\n",
        "# Concatenate features and targets for all cities\n",
        "X_all = np.concatenate([X_atlanta, X_boston, X_chicago, X_philadelphia])\n",
        "y_all = np.concatenate([y_atlanta, y_boston, y_chicago, y_philadelphia])\n",
        "\n",
        "# Split the data into training and testing sets\n",
        "X_train_all, X_test_all, y_train_all, y_test_all = train_test_split(X_all, y_all, test_size=0.2, random_state=42)\n",
        "\n",
        "# Initialize KNN regressor model\n",
        "model_all = KNeighborsRegressor()\n",
        "\n",
        "# Fit the model\n",
        "model_all.fit(X_train_all, y_train_all)\n",
        "\n",
        "# Predict on the test set\n",
        "y_pred_all = model_all.predict(X_test_all)\n",
        "\n",
        "# Function to calculate RMSE\n",
        "def calculate_rmse(y_true, y_pred):\n",
        "    mse = mean_squared_error(y_true, y_pred)\n",
        "    rmse = np.sqrt(mse)\n",
        "    return rmse\n",
        "\n",
        "# Calculate RMSE for all target variables and cities\n",
        "rmse_all = calculate_rmse(y_test_all, y_pred_all)\n",
        "\n",
        "# Display overall RMSE\n",
        "print(\"Overall Root Mean Squared Error:\", rmse_all)'''"
      ]
    },
    {
      "cell_type": "markdown",
      "metadata": {
        "id": "PjM9DWT_dywJ"
      },
      "source": [
        "##### KNN - hyperparameter optimization"
      ]
    },
    {
      "cell_type": "code",
      "execution_count": null,
      "metadata": {
        "id": "jqQNc0AqdywK"
      },
      "outputs": [],
      "source": [
        "'''from sklearn.model_selection import GridSearchCV\n",
        "from sklearn.neighbors import KNeighborsRegressor\n",
        "from sklearn.metrics import make_scorer\n",
        "import numpy as np\n",
        "\n",
        "# Function to train a KNN model and make predictions\n",
        "def train_and_predict_knn(X_train, X_test, y_train, y_test, k=5):\n",
        "    model_knn = KNeighborsRegressor(n_neighbors=k)\n",
        "    model_knn.fit(X_train, y_train)\n",
        "    y_pred_knn = model_knn.predict(X_test)\n",
        "    mse_knn = np.mean((y_test - y_pred_knn) ** 2, axis=0)\n",
        "    rmse_knn = np.sqrt(mse_knn)\n",
        "    return y_pred_knn, rmse_knn\n",
        "\n",
        "# Function to perform Grid Search for KNN\n",
        "def knn_grid_search(X_train, y_train):\n",
        "    param_grid = {'n_neighbors': [3, 5, 7, 9, 11]}  # You can customize the values to search\n",
        "\n",
        "    # Custom scoring function for multioutput regression\n",
        "    def custom_scorer(y_true, y_pred):\n",
        "        mse_values = mean_squared_error(y_true, y_pred, multioutput='raw_values')\n",
        "        return np.mean(mse_values)\n",
        "\n",
        "    knn = KNeighborsRegressor()\n",
        "    grid_search = GridSearchCV(knn, param_grid, cv=5, scoring=make_scorer(custom_scorer), n_jobs=-1)\n",
        "    grid_search.fit(X_train, y_train)\n",
        "\n",
        "    # Print the best hyperparameters\n",
        "    print(\"Best Hyperparameters:\", grid_search.best_params_)\n",
        "\n",
        "    return grid_search.best_params_\n",
        "\n",
        "# Assuming you have X_train and y_train DataFrames for each city\n",
        "cities = ['atlanta', 'boston', 'chicago', 'philadelphia']\n",
        "best_knn_params = {}\n",
        "\n",
        "for city in cities:\n",
        "    X_train_city = globals()['X_train_' + city]\n",
        "    y_train_city = globals()['y_train_' + city]\n",
        "\n",
        "    print(f'Performing Grid Search for {city.capitalize()}...')\n",
        "    best_params_city = knn_grid_search(X_train_city, y_train_city)\n",
        "    best_knn_params[city] = best_params_city\n",
        "    print('-' * 50)\n",
        "\n",
        "# Train and predict using the best hyperparameters for each city\n",
        "y_pred_knn_all = []\n",
        "\n",
        "for city in cities:\n",
        "    X_train_city = globals()['X_train_' + city]\n",
        "    X_test_city = globals()['X_test_' + city]\n",
        "    y_train_city = globals()['y_train_' + city]\n",
        "    y_test_city = globals()['y_test_' + city]\n",
        "\n",
        "    best_params_city = best_knn_params[city]\n",
        "    k_value = best_params_city['n_neighbors']\n",
        "\n",
        "    y_pred_knn_city, rmse_knn_city = train_and_predict_knn(X_train_city, X_test_city, y_train_city, y_test_city, k=k_value)\n",
        "    y_pred_knn_all.extend(y_pred_knn_city.flatten())\n",
        "\n",
        "    print(f'KNN RMSE - {city.capitalize()}: {rmse_knn_city}')\n",
        "\n",
        "# Calculate overall RMSE for KNN\n",
        "rmse_all_knn = calculate_rmse(y_true_all_knn, np.array(y_pred_knn_all))\n",
        "print(\"Overall Root Mean Squared Error (KNN):\", rmse_all_knn)\n",
        "'''"
      ]
    },
    {
      "cell_type": "markdown",
      "metadata": {
        "id": "qGYwzM5FdywK"
      },
      "source": [
        "#### MLP"
      ]
    },
    {
      "cell_type": "code",
      "execution_count": null,
      "metadata": {
        "id": "97mH27prdywL"
      },
      "outputs": [],
      "source": [
        "'''from tensorflow import keras\n",
        "from tensorflow.keras.models import Sequential\n",
        "from tensorflow.keras.layers import Dense\n",
        "from sklearn.preprocessing import StandardScaler\n",
        "\n",
        "# Function to scale the data\n",
        "def scale_data(X_train, X_test):\n",
        "    scaler = StandardScaler()\n",
        "    X_train_scaled = scaler.fit_transform(X_train)\n",
        "    X_test_scaled = scaler.transform(X_test)\n",
        "    return X_train_scaled, X_test_scaled\n",
        "\n",
        "# Function to create a simple neural network model\n",
        "def create_neural_network(input_shape):\n",
        "    model = Sequential()\n",
        "    model.add(Dense(64, activation='relu', input_shape=(input_shape,)))\n",
        "    model.add(Dense(32, activation='relu'))\n",
        "    model.add(Dense(9, activation='linear'))  # Output layer with 9 neurons for regression\n",
        "    model.compile(optimizer='adam', loss='mean_squared_error')\n",
        "    return model\n",
        "\n",
        "# Function to train the neural network model and make predictions\n",
        "def train_and_predict_nn(X_train, X_test, y_train, y_test):\n",
        "    input_shape = X_train.shape[1]\n",
        "    model = create_neural_network(input_shape)\n",
        "\n",
        "    # Scale the data\n",
        "    X_train_scaled, X_test_scaled = scale_data(X_train, X_test)\n",
        "\n",
        "    # Train the model\n",
        "    model.fit(X_train_scaled, y_train, epochs=10, batch_size=32, verbose=1)\n",
        "\n",
        "    # Make predictions\n",
        "    y_pred_nn = model.predict(X_test_scaled)\n",
        "\n",
        "    # Calculate RMSE\n",
        "    mse_nn = mean_squared_error(y_test, y_pred_nn)\n",
        "    rmse_nn = np.sqrt(mse_nn)\n",
        "\n",
        "    return y_pred_nn, rmse_nn\n",
        "\n",
        "# Neural Network for each city\n",
        "print(\"Training Atlanta\")\n",
        "y_pred_nn_atlanta, rmse_nn_atlanta = train_and_predict_nn(X_train_atlanta, X_test_atlanta, y_train_atlanta, y_test_atlanta)\n",
        "print(\"Training Boston\")\n",
        "y_pred_nn_boston, rmse_nn_boston = train_and_predict_nn(X_train_boston, X_test_boston, y_train_boston, y_test_boston)\n",
        "print(\"Training Chicago\")\n",
        "y_pred_nn_chicago, rmse_nn_chicago = train_and_predict_nn(X_train_chicago, X_test_chicago, y_train_chicago, y_test_chicago)\n",
        "print(\"Training Philadelphia\n",
        "      \")\n",
        "y_pred_nn_philadelphia, rmse_nn_philadelphia = train_and_predict_nn(X_train_philadelphia, X_test_philadelphia, y_train_philadelphia, y_test_philadelphia)\n",
        "\n",
        "# Concatenate true and predicted values for all cities\n",
        "y_true_all_nn = np.concatenate([y_test_atlanta.values.flatten(),\n",
        "                                y_test_boston.values.flatten(),\n",
        "                                y_test_chicago.values.flatten(),\n",
        "                                y_test_philadelphia.values.flatten()])\n",
        "\n",
        "y_pred_all_nn = np.concatenate([y_pred_nn_atlanta.flatten(),\n",
        "                                y_pred_nn_boston.flatten(),\n",
        "                                y_pred_nn_chicago.flatten(),\n",
        "                                y_pred_nn_philadelphia.flatten()])\n",
        "\n",
        "# Calculate overall RMSE for Neural Network\n",
        "rmse_all_nn = calculate_rmse(y_true_all_nn, y_pred_all_nn)\n",
        "\n",
        "# Display RMSE for each city (Neural Network)\n",
        "print(\"Neural Network RMSE - Atlanta:\", rmse_nn_atlanta)\n",
        "print(\"Neural Network RMSE - Boston:\", rmse_nn_boston)\n",
        "print(\"Neural Network RMSE - Chicago:\", rmse_nn_chicago)\n",
        "print(\"Neural Network RMSE - Philadelphia:\", rmse_nn_philadelphia)\n",
        "\n",
        "# Display overall RMSE for Neural Network\n",
        "print(\"Overall Root Mean Squared Error (Neural Network):\", rmse_all_nn)'''\n"
      ]
    },
    {
      "cell_type": "markdown",
      "metadata": {
        "id": "ekVRmnlwdywL"
      },
      "source": [
        "MLP - a model for all cities"
      ]
    },
    {
      "cell_type": "code",
      "execution_count": null,
      "metadata": {
        "id": "2C3wsHEtdywM"
      },
      "outputs": [],
      "source": [
        "'''from sklearn.model_selection import train_test_split\n",
        "from sklearn.neural_network import MLPRegressor\n",
        "from sklearn.metrics import mean_squared_error\n",
        "import numpy as np\n",
        "\n",
        "# Assuming you have loaded and preprocessed datasets for each city (replace with your actual datasets)\n",
        "# X_atlanta, y_atlanta are your features and target variables for Atlanta\n",
        "# X_boston, y_boston for Boston\n",
        "# X_chicago, y_chicago for Chicago\n",
        "# X_philadelphia, y_philadelphia for Philadelphia\n",
        "\n",
        "# Concatenate features and targets for all cities\n",
        "X_all = np.concatenate([X_atlanta, X_boston, X_chicago, X_philadelphia])\n",
        "y_all = np.concatenate([y_atlanta, y_boston, y_chicago, y_philadelphia])\n",
        "\n",
        "# Split the data into training and testing sets\n",
        "X_train_all, X_test_all, y_train_all, y_test_all = train_test_split(X_all, y_all, test_size=0.2, random_state=42)\n",
        "\n",
        "# Initialize MLP regressor model\n",
        "model_all = MLPRegressor(random_state=42)\n",
        "\n",
        "# Fit the model\n",
        "model_all.fit(X_train_all, y_train_all, verbose = 1 )\n",
        "\n",
        "# Predict on the test set\n",
        "y_pred_all = model_all.predict(X_test_all)\n",
        "\n",
        "# Function to calculate RMSE\n",
        "def calculate_rmse(y_true, y_pred):\n",
        "    mse = mean_squared_error(y_true, y_pred)\n",
        "    rmse = np.sqrt(mse)\n",
        "    return rmse\n",
        "\n",
        "# Calculate RMSE for all target variables and cities\n",
        "rmse_all = calculate_rmse(y_test_all, y_pred_all)\n",
        "\n",
        "# Display overall RMSE\n",
        "print(\"Overall Root Mean Squared Error:\", rmse_all)\n",
        "'''"
      ]
    },
    {
      "cell_type": "markdown",
      "metadata": {
        "id": "4e0XsSmRdywM"
      },
      "source": [
        "#### Ensemble of the above models: LR, DT, KNN, MLP"
      ]
    },
    {
      "cell_type": "code",
      "execution_count": null,
      "metadata": {
        "id": "8dvNM5qOdywN"
      },
      "outputs": [],
      "source": [
        "'''from sklearn.neural_network import MLPRegressor\n",
        "from sklearn.ensemble import VotingRegressor\n",
        "from sklearn.linear_model import LinearRegression\n",
        "from sklearn.neighbors import KNeighborsRegressor\n",
        "from sklearn.tree import DecisionTreeRegressor\n",
        "from sklearn.metrics import mean_squared_error\n",
        "import numpy as np\n",
        "\n",
        "# Assuming you have already loaded and preprocessed datasets for each city\n",
        "# Replace the placeholders with your actual datasets\n",
        "\n",
        "# Define the target variables\n",
        "target_variables = ['TotalTimeStopped_p20', 'TotalTimeStopped_p50', 'TotalTimeStopped_p80',\n",
        "                     'TimeFromFirstStop_p20', 'TimeFromFirstStop_p50', 'TimeFromFirstStop_p80',\n",
        "                     'DistanceToFirstStop_p20', 'DistanceToFirstStop_p50', 'DistanceToFirstStop_p80']\n",
        "\n",
        "# Function to train and evaluate a model\n",
        "def train_and_evaluate_model(model, X_train, X_test, y_train, y_test):\n",
        "    model.fit(X_train, y_train)\n",
        "    y_pred = model.predict(X_test)\n",
        "    mse = mean_squared_error(y_test, y_pred)\n",
        "    rmse = np.sqrt(mse)\n",
        "    return y_pred, rmse\n",
        "\n",
        "# Create instances of each model\n",
        "linear_model = LinearRegression()\n",
        "mlp_model = MLPRegressor(random_state=42)\n",
        "knn_model = KNeighborsRegressor()\n",
        "tree_model = DecisionTreeRegressor(random_state=42)\n",
        "\n",
        "# Create an ensemble of models using VotingRegressor\n",
        "ensemble_model = VotingRegressor([('linear', linear_model), ('mlp', mlp_model), ('knn', knn_model), ('tree', tree_model)])\n",
        "\n",
        "# Lists to store predictions and RMSE for each target variable\n",
        "y_preds_ensemble = []\n",
        "rmses_ensemble = []\n",
        "\n",
        "# Iterate over each target variable\n",
        "for target_variable in target_variables:\n",
        "    # Train and evaluate the ensemble model for each city\n",
        "    y_pred_ensemble_atlanta, rmse_ensemble_atlanta = train_and_evaluate_model(ensemble_model, X_train_atlanta, X_test_atlanta, y_train_atlanta[target_variable], y_test_atlanta[target_variable])\n",
        "    y_pred_ensemble_boston, rmse_ensemble_boston = train_and_evaluate_model(ensemble_model, X_train_boston, X_test_boston, y_train_boston[target_variable], y_test_boston[target_variable])\n",
        "    y_pred_ensemble_chicago, rmse_ensemble_chicago = train_and_evaluate_model(ensemble_model, X_train_chicago, X_test_chicago, y_train_chicago[target_variable], y_test_chicago[target_variable])\n",
        "    y_pred_ensemble_philadelphia, rmse_ensemble_philadelphia = train_and_evaluate_model(ensemble_model, X_train_philadelphia, X_test_philadelphia, y_train_philadelphia[target_variable], y_test_philadelphia[target_variable])\n",
        "\n",
        "    # Store predictions and RMSE for each city\n",
        "    y_preds_ensemble.extend([y_pred_ensemble_atlanta, y_pred_ensemble_boston, y_pred_ensemble_chicago, y_pred_ensemble_philadelphia])\n",
        "    rmses_ensemble.extend([rmse_ensemble_atlanta, rmse_ensemble_boston, rmse_ensemble_chicago, rmse_ensemble_philadelphia])\n",
        "\n",
        "# Concatenate predictions and RMSE for all cities\n",
        "y_preds_ensemble_all = np.concatenate(y_preds_ensemble)\n",
        "rmses_ensemble_all = np.mean(rmses_ensemble)\n",
        "\n",
        "# Display overall RMSE for the ensemble\n",
        "print(\"Overall RMSE - Ensemble:\", rmses_ensemble_all)'''\n"
      ]
    },
    {
      "cell_type": "markdown",
      "metadata": {
        "id": "E29WyWwbdywO"
      },
      "source": [
        "Ensemble - average vote"
      ]
    },
    {
      "cell_type": "code",
      "execution_count": null,
      "metadata": {
        "id": "GcW00uGwdywO"
      },
      "outputs": [],
      "source": [
        "'''\n",
        "from sklearn.neural_network import MLPRegressor\n",
        "from sklearn.linear_model import LinearRegression\n",
        "from sklearn.neighbors import KNeighborsRegressor\n",
        "from sklearn.tree import DecisionTreeRegressor\n",
        "from sklearn.metrics import mean_squared_error\n",
        "import numpy as np\n",
        "\n",
        "# Assuming you have already loaded and preprocessed datasets for each city\n",
        "# Replace the placeholders with your actual datasets\n",
        "\n",
        "def train_and_evaluate_model(model, X_train, X_test, y_train, y_test):\n",
        "    model.fit(X_train, y_train)\n",
        "    y_pred = model.predict(X_test)\n",
        "    mse = mean_squared_error(y_test, y_pred)\n",
        "    rmse = np.sqrt(mse)\n",
        "    return y_pred, rmse\n",
        "\n",
        "# Define the target variables\n",
        "target_variables = ['TotalTimeStopped_p20', 'TotalTimeStopped_p50', 'TotalTimeStopped_p80',\n",
        "                     'DistanceToFirstStop_p20', 'DistanceToFirstStop_p50', 'DistanceToFirstStop_p80']\n",
        "\n",
        "# Create instances of each model\n",
        "linear_model = LinearRegression()\n",
        "mlp_model = MLPRegressor(random_state=42)\n",
        "knn_model = KNeighborsRegressor()\n",
        "tree_model = DecisionTreeRegressor(random_state=42)\n",
        "\n",
        "# Lists to store predictions for each target variable\n",
        "y_preds_linear = []\n",
        "y_preds_mlp = []\n",
        "y_preds_knn = []\n",
        "y_preds_tree = []\n",
        "\n",
        "# Iterate over each target variable\n",
        "for target_variable in target_variables:\n",
        "    # Train and evaluate each model for each city\n",
        "    y_pred_linear_atlanta, _ = train_and_evaluate_model(linear_model, X_train_atlanta, X_test_atlanta, y_train_atlanta[target_variable], y_test_atlanta[target_variable])\n",
        "    y_pred_mlp_atlanta, _ = train_and_evaluate_model(mlp_model, X_train_atlanta, X_test_atlanta, y_train_atlanta[target_variable], y_test_atlanta[target_variable])\n",
        "    y_pred_knn_atlanta, _ = train_and_evaluate_model(knn_model, X_train_atlanta, X_test_atlanta, y_train_atlanta[target_variable], y_test_atlanta[target_variable])\n",
        "    y_pred_tree_atlanta, _ = train_and_evaluate_model(tree_model, X_train_atlanta, X_test_atlanta, y_train_atlanta[target_variable], y_test_atlanta[target_variable])\n",
        "\n",
        "    # Store predictions for each city\n",
        "    y_preds_linear.append(y_pred_linear_atlanta)\n",
        "    y_preds_mlp.append(y_pred_mlp_atlanta)\n",
        "    y_preds_knn.append(y_pred_knn_atlanta)\n",
        "    y_preds_tree.append(y_pred_tree_atlanta)\n",
        "\n",
        "# Concatenate predictions for all cities\n",
        "y_preds_linear_all = np.concatenate(y_preds_linear, axis=1)\n",
        "y_preds_mlp_all = np.concatenate(y_preds_mlp, axis=1)\n",
        "y_preds_knn_all = np.concatenate(y_preds_knn, axis=1)\n",
        "y_preds_tree_all = np.concatenate(y_preds_tree, axis=1)\n",
        "\n",
        "# Average predictions across models\n",
        "y_preds_ensemble_all = np.mean([y_preds_linear_all, y_preds_mlp_all, y_preds_knn_all, y_preds_tree_all], axis=0)\n",
        "\n",
        "# Calculate overall RMSE for the ensemble\n",
        "rmse_ensemble_all = calculate_rmse(y_test_all, y_preds_ensemble_all)\n",
        "\n",
        "# Display overall RMSE for the ensemble\n",
        "print(\"Overall RMSE - Ensemble:\", rmse_ensemble_all)\n",
        "'''"
      ]
    },
    {
      "cell_type": "markdown",
      "metadata": {
        "id": "NYyC062ndywP"
      },
      "source": [
        "#### Random Forests"
      ]
    },
    {
      "cell_type": "code",
      "execution_count": null,
      "metadata": {
        "id": "Ra7Ml3gKdywP"
      },
      "outputs": [],
      "source": [
        "'''from sklearn.ensemble import RandomForestRegressor\n",
        "from sklearn.model_selection import train_test_split\n",
        "from sklearn.metrics import mean_squared_error\n",
        "from tqdm import tqdm\n",
        "import numpy as np\n",
        "\n",
        "# Assuming X_atlanta, X_boston, X_chicago, X_philadelphia are your feature matrices\n",
        "# and y_atlanta, y_boston, y_chicago, y_philadelphia are your target DataFrames\n",
        "\n",
        "# Define reasonable hyperparameters for RandomForestRegressor\n",
        "rf_params = {\n",
        "    'n_estimators': 100,\n",
        "    'max_depth': 10,\n",
        "    'min_samples_split': 2,\n",
        "    'min_samples_leaf': 1,\n",
        "    'random_state': 42\n",
        "}\n",
        "\n",
        "# Initialize an empty dictionary to store the best models for each city\n",
        "best_models = {}\n",
        "\n",
        "# Initialize lists to store overall RMSE for each city\n",
        "overall_rmse_values = []\n",
        "all_true_values = []\n",
        "all_predictions = []\n",
        "\n",
        "# Iterate over each city\n",
        "cities = ['atlanta', 'boston', 'chicago', 'philadelphia']\n",
        "\n",
        "for city in cities:\n",
        "    X_city = globals()['X_' + city]  # Accessing variables dynamically\n",
        "    y_city = globals()['y_' + city]\n",
        "\n",
        "    # Split the data into training and testing sets\n",
        "    X_train, X_test, y_train, y_test = train_test_split(X_city, y_city, test_size=0.2, random_state=42)\n",
        "\n",
        "    # Initialize RandomForestRegressor with reasonable hyperparameters\n",
        "    rf_model = RandomForestRegressor(**rf_params)\n",
        "\n",
        "    # Fit the model\n",
        "    print(f'Training RandomForestRegressor for {city.capitalize()}...')\n",
        "    rf_model.fit(X_train, y_train)\n",
        "\n",
        "    print(f'Training completed for {city.capitalize()}.')\n",
        "\n",
        "    # Make predictions on the test set for the current city\n",
        "    y_pred = rf_model.predict(X_test)\n",
        "\n",
        "    # Append predictions and true values for the current city to the overall lists\n",
        "    all_predictions.extend(y_pred.flatten())\n",
        "    all_true_values.extend(y_test.values.flatten())\n",
        "\n",
        "    # Calculate the overall RMSE for the current city\n",
        "    overall_rmse = np.sqrt(mean_squared_error(y_test, y_pred))\n",
        "    overall_rmse_values.append(overall_rmse)\n",
        "\n",
        "    print(f'Overall RMSE for {city.capitalize()}: {overall_rmse}')\n",
        "    print('-' * 50)\n",
        "\n",
        "    # Store the best model for the current city\n",
        "    best_models[city] = rf_model\n",
        "\n",
        "# Print the overall RMSE for all cities\n",
        "overall_rmse_all_cities = np.sqrt(mean_squared_error(all_true_values, all_predictions))\n",
        "print(f'Overall RMSE for All Cities: {overall_rmse_all_cities}')\n",
        "\n",
        "# Now you have the best models for each city stored in the dictionary best_models\n",
        "'''"
      ]
    },
    {
      "cell_type": "markdown",
      "metadata": {
        "id": "4bnWO3PUdywP"
      },
      "source": [
        "#### Gradient Boosting"
      ]
    },
    {
      "cell_type": "code",
      "execution_count": null,
      "metadata": {
        "id": "xNLt6036dywQ"
      },
      "outputs": [],
      "source": [
        "'''from sklearn.ensemble import GradientBoostingRegressor\n",
        "from sklearn.model_selection import train_test_split\n",
        "from sklearn.metrics import mean_squared_error\n",
        "from sklearn.multioutput import MultiOutputRegressor\n",
        "from tqdm import tqdm\n",
        "import numpy as np\n",
        "\n",
        "# Assuming X_atlanta, X_boston, X_chicago, X_philadelphia are your feature matrices\n",
        "# and y_atlanta, y_boston, y_chicago, y_philadelphia are your target DataFrames\n",
        "\n",
        "# Define reasonable hyperparameters for GradientBoostingRegressor\n",
        "gb_params = {\n",
        "    'n_estimators': 100,\n",
        "    'learning_rate': 0.1,\n",
        "    'max_depth': 3,\n",
        "    'min_samples_split': 2,\n",
        "    'min_samples_leaf': 1,\n",
        "    'random_state': 42\n",
        "}\n",
        "\n",
        "# Initialize an empty dictionary to store the best models for each city\n",
        "best_models_gb = {}\n",
        "\n",
        "# Initialize lists to store overall RMSE for each city\n",
        "overall_rmse_values_gb = []\n",
        "all_true_values_gb = []\n",
        "all_predictions_gb = []\n",
        "\n",
        "# Iterate over each city\n",
        "cities = ['atlanta', 'boston', 'chicago', 'philadelphia']\n",
        "\n",
        "for city in cities:\n",
        "    X_city = globals()['X_' + city]  # Accessing variables dynamically\n",
        "    y_city = globals()['y_' + city]\n",
        "\n",
        "    # Split the data into training and testing sets\n",
        "    X_train, X_test, y_train, y_test = train_test_split(X_city, y_city, test_size=0.2, random_state=42)\n",
        "\n",
        "    # Initialize GradientBoostingRegressor with reasonable hyperparameters\n",
        "    gb_regressor = GradientBoostingRegressor(**gb_params)\n",
        "\n",
        "    # Use MultiOutputRegressor to train on all columns in y_train\n",
        "    multi_output_gb_model = MultiOutputRegressor(gb_regressor)\n",
        "\n",
        "    # Fit the model\n",
        "    print(f'Training GradientBoostingRegressor for {city.capitalize()}...')\n",
        "    multi_output_gb_model.fit(X_train, y_train)\n",
        "\n",
        "    print(f'Training completed for {city.capitalize()}.')\n",
        "\n",
        "    # Make predictions on the test set for the current city\n",
        "    y_pred_gb = multi_output_gb_model.predict(X_test)\n",
        "\n",
        "    # Append predictions and true values for the current city to the overall lists\n",
        "    all_predictions_gb.extend(y_pred_gb.flatten())\n",
        "    all_true_values_gb.extend(y_test.values.flatten())\n",
        "\n",
        "    # Calculate the overall RMSE for the current city\n",
        "    overall_rmse_gb = np.sqrt(mean_squared_error(y_test, y_pred_gb))\n",
        "    overall_rmse_values_gb.append(overall_rmse_gb)\n",
        "\n",
        "    print(f'Overall RMSE for {city.capitalize()}: {overall_rmse_gb}')\n",
        "    print('-' * 50)\n",
        "\n",
        "    # Store the best model for the current city\n",
        "    best_models_gb[city] = multi_output_gb_model\n",
        "\n",
        "# Print the overall RMSE for all cities\n",
        "overall_rmse_all_cities_gb = np.sqrt(mean_squared_error(all_true_values_gb, all_predictions_gb))\n",
        "print(f'Overall RMSE for All Cities: {overall_rmse_all_cities_gb}')\n",
        "\n",
        "# Now you have the best models for each city stored in the dictionary best_models_gb\n",
        "'''"
      ]
    },
    {
      "cell_type": "markdown",
      "metadata": {
        "id": "WfWaSCs2dywQ"
      },
      "source": [
        "#### XGBoost"
      ]
    },
    {
      "cell_type": "code",
      "execution_count": null,
      "metadata": {
        "id": "arWhCU1pdywR"
      },
      "outputs": [],
      "source": [
        "'''from xgboost import XGBRegressor\n",
        "from sklearn.model_selection import train_test_split\n",
        "from sklearn.metrics import mean_squared_error\n",
        "from tqdm import tqdm\n",
        "import numpy as np\n",
        "\n",
        "# Assuming X_atlanta, X_boston, X_chicago, X_philadelphia are your feature matrices\n",
        "# and y_atlanta, y_boston, y_chicago, y_philadelphia are your target DataFrames\n",
        "\n",
        "# Define reasonable hyperparameters for XGBoost's XGBRegressor\n",
        "xgb_params = {\n",
        "    'n_estimators': 100,\n",
        "    'learning_rate': 0.1,\n",
        "    'max_depth': 3,\n",
        "    'min_child_weight': 1,\n",
        "    'subsample': 0.8,\n",
        "    'colsample_bytree': 0.8,\n",
        "    'objective': 'reg:squarederror',\n",
        "    'random_state': 42\n",
        "}\n",
        "\n",
        "# Initialize an empty dictionary to store the best models for each city\n",
        "best_models_xgb = {}\n",
        "\n",
        "# Initialize lists to store overall RMSE for each city\n",
        "overall_rmse_values_xgb = []\n",
        "all_true_values_xgb = []\n",
        "all_predictions_xgb = []\n",
        "\n",
        "# Iterate over each city\n",
        "cities = ['atlanta', 'boston', 'chicago', 'philadelphia']\n",
        "\n",
        "for city in cities:\n",
        "    X_city = globals()['X_' + city]  # Accessing variables dynamically\n",
        "    y_city = globals()['y_' + city]\n",
        "\n",
        "    # Split the data into training and testing sets\n",
        "    X_train, X_test, y_train, y_test = train_test_split(X_city, y_city, test_size=0.2, random_state=42)\n",
        "\n",
        "    # Initialize XGBRegressor with reasonable hyperparameters\n",
        "    xgb_model = XGBRegressor(**xgb_params)\n",
        "\n",
        "    # Fit the model\n",
        "    print(f'Training XGBRegressor for {city.capitalize()}...')\n",
        "    xgb_model.fit(X_train, y_train.values.flatten())\n",
        "\n",
        "    print(f'Training completed for {city.capitalize()}.')\n",
        "\n",
        "    # Make predictions on the test set for the current city\n",
        "    y_pred_xgb = xgb_model.predict(X_test)\n",
        "\n",
        "    # Append predictions and true values for the current city to the overall lists\n",
        "    all_predictions_xgb.extend(y_pred_xgb.flatten())\n",
        "    all_true_values_xgb.extend(y_test.values.flatten())\n",
        "\n",
        "    # Calculate the overall RMSE for the current city\n",
        "    overall_rmse_xgb = np.sqrt(mean_squared_error(y_test, y_pred_xgb))\n",
        "    overall_rmse_values_xgb.append(overall_rmse_xgb)\n",
        "\n",
        "    print(f'Overall RMSE for {city.capitalize()}: {overall_rmse_xgb}')\n",
        "    print('-' * 50)\n",
        "\n",
        "    # Store the best model for the current city\n",
        "    best_models_xgb[city] = xgb_model\n",
        "\n",
        "# Print the overall RMSE for all cities\n",
        "overall_rmse_all_cities_xgb = np.sqrt(mean_squared_error(all_true_values_xgb, all_predictions_xgb))\n",
        "print(f'Overall RMSE for All Cities: {overall_rmse_all_cities_xgb}')\n",
        "\n",
        "# Now you have the best models for each city stored in the dictionary best_models_xgb\n",
        "'''"
      ]
    },
    {
      "cell_type": "code",
      "execution_count": null,
      "metadata": {
        "id": "eNQoqbGBdywR"
      },
      "outputs": [],
      "source": [
        "'''import xgboost as xgb\n",
        "from sklearn.metrics import r2_score\n",
        "from bayes_opt import BayesianOptimization\n",
        "\n",
        "# Assuming you have X_atlanta and y_atlanta defined\n",
        "\n",
        "# Assuming y_atlanta is a DataFrame with multiple columns\n",
        "dtrain = xgb.DMatrix(X_atlanta, label=y_atlanta[\"DistanceToFirstStop_p20\"].values, feature_names=X_atlanta.columns.tolist())\n",
        "\n",
        "def xgb_r2(preds, dtrain):\n",
        "    labels = dtrain.get_label()\n",
        "    return 'r2', r2_score(labels, preds)\n",
        "\n",
        "def hyp_xgb(max_depth, subsample, colsample_bytree, min_child_weight, gamma):\n",
        "    params = {\n",
        "        'n_estimators': 300,\n",
        "        'learning_rate': 0.05,\n",
        "        'objective': 'reg:linear',\n",
        "        'eval_metric': 'mae',\n",
        "        'silent': 1,\n",
        "        'max_depth': int(round(max_depth)),\n",
        "        'subsample': max(min(subsample, 1), 0),\n",
        "        'colsample_bytree': max(min(colsample_bytree, 1), 0),\n",
        "        'min_child_weight': int(min_child_weight),\n",
        "        'gamma': max(gamma, 0)\n",
        "    }\n",
        "    scores = xgb.cv(params, dtrain, num_boost_round=1000, verbose_eval=False, early_stopping_rounds=10, feval=xgb_r2, maximize=True, nfold=5)\n",
        "    return -scores['test-r2-mean'].iloc[-1]'''"
      ]
    },
    {
      "cell_type": "code",
      "execution_count": null,
      "metadata": {
        "id": "K880Wa3kdywS"
      },
      "outputs": [],
      "source": [
        "pds ={\n",
        "  'min_child_weight':(14, 20),\n",
        "  'gamma':(0, 5),\n",
        "  'subsample':(0.5, 1),\n",
        "  'colsample_bytree':(0.1, 1),\n",
        "  'max_depth': (5, 10)\n",
        "}"
      ]
    },
    {
      "cell_type": "markdown",
      "metadata": {
        "id": "1fDcGXgadywS"
      },
      "source": [
        "#### LightGBM"
      ]
    },
    {
      "cell_type": "code",
      "execution_count": null,
      "metadata": {
        "id": "zuyFP5IodywS"
      },
      "outputs": [],
      "source": [
        "'''from lightgbm import LGBMRegressor\n",
        "from sklearn.model_selection import train_test_split\n",
        "from sklearn.metrics import mean_squared_error\n",
        "from sklearn.multioutput import MultiOutputRegressor\n",
        "from tqdm import tqdm\n",
        "import numpy as np\n",
        "\n",
        "# Assuming X_atlanta, X_boston, X_chicago, X_philadelphia are your feature matrices\n",
        "# and y_atlanta, y_boston, y_chicago, y_philadelphia are your target DataFrames\n",
        "\n",
        "# Define reasonable hyperparameters for LGBMRegressor\n",
        "lgbm_params = {\n",
        "    'n_estimators': 100,\n",
        "    'learning_rate': 0.1,\n",
        "    'max_depth': 3,\n",
        "    'min_child_samples': 2,\n",
        "    'random_state': 42\n",
        "}\n",
        "\n",
        "# Initialize an empty dictionary to store the best models for each city\n",
        "best_models_lgbm = {}\n",
        "\n",
        "# Initialize lists to store overall RMSE for each city\n",
        "overall_rmse_values_lgbm = []\n",
        "all_true_values_lgbm = []\n",
        "all_predictions_lgbm = []\n",
        "\n",
        "# Iterate over each city\n",
        "cities = ['atlanta', 'boston', 'chicago', 'philadelphia']\n",
        "\n",
        "for city in cities:\n",
        "    X_city = globals()['X_' + city]  # Accessing variables dynamically\n",
        "    y_city = globals()['y_' + city]\n",
        "\n",
        "    # Split the data into training and testing sets\n",
        "    X_train, X_test, y_train, y_test = train_test_split(X_city, y_city, test_size=0.2, random_state=42)\n",
        "\n",
        "    # Initialize LGBMRegressor with reasonable hyperparameters\n",
        "    lgbm_regressor = LGBMRegressor(**lgbm_params)\n",
        "\n",
        "    # Use MultiOutputRegressor to train on all columns in y_train\n",
        "    multi_output_lgbm_model = MultiOutputRegressor(lgbm_regressor)\n",
        "\n",
        "    # Fit the model\n",
        "    print(f'Training LGBMRegressor for {city.capitalize()}...')\n",
        "    multi_output_lgbm_model.fit(X_train, y_train)\n",
        "\n",
        "    print(f'Training completed for {city.capitalize()}.')\n",
        "\n",
        "    # Make predictions on the test set for the current city\n",
        "    y_pred_lgbm = multi_output_lgbm_model.predict(X_test)\n",
        "\n",
        "    # Append predictions and true values for the current city to the overall lists\n",
        "    all_predictions_lgbm.extend(y_pred_lgbm.flatten())\n",
        "    all_true_values_lgbm.extend(y_test.values.flatten())\n",
        "\n",
        "    # Calculate the overall RMSE for the current city\n",
        "    overall_rmse_lgbm = np.sqrt(mean_squared_error(y_test, y_pred_lgbm))\n",
        "    overall_rmse_values_lgbm.append(overall_rmse_lgbm)\n",
        "\n",
        "    print(f'Overall RMSE for {city.capitalize()}: {overall_rmse_lgbm}')\n",
        "    print('-' * 50)\n",
        "\n",
        "    # Store the best model for the current city\n",
        "    best_models_lgbm[city] = multi_output_lgbm_model\n",
        "\n",
        "# Print the overall RMSE for all cities\n",
        "overall_rmse_all_cities_lgbm = np.sqrt(mean_squared_error(all_true_values_lgbm, all_predictions_lgbm))\n",
        "print(f'Overall RMSE for All Cities: {overall_rmse_all_cities_lgbm}')\n",
        "\n",
        "# Now you have the best models for each city stored in the dictionary best_models_lgbm\n",
        "'''"
      ]
    },
    {
      "cell_type": "code",
      "execution_count": null,
      "metadata": {
        "id": "V_He3HHSdywT"
      },
      "outputs": [],
      "source": [
        "'''# Reference:\n",
        "# https://medium.com/analytics-vidhya/hyperparameters-optimization-for-lightgbm-catboost-and-xgboost-regressors-using-bayesian-6e7c495947a9\n",
        "# https://lightgbm.readthedocs.io/en/latest/Parameters-Tuning.html#for-faster-speed\n",
        "\n",
        "'''Importing Libraries'''\n",
        "import lightgbm as lgb\n",
        "from bayes_opt import BayesianOptimization\n",
        "\n",
        "y_atlanta_np = y_atlanta.values\n",
        "X_train, X_test, y_train, y_test = train_test_split(X_atlanta, y_atlanta, test_size=0.2, random_state=42)\n",
        "\n",
        "dtrain = lgb.Dataset(data=X_train, label=y_train)\n",
        "\n",
        "'''Define objective function'''\n",
        "def hyp_lgbm(num_leaves, feature_fraction, bagging_fraction, max_depth, min_split_gain, min_child_weight, lambda_l1, lambda_l2):\n",
        "\n",
        "        params = {'application':'regression','num_iterations': 400,\n",
        "                  'learning_rate':0.01,\n",
        "                  'metric':'rmse'} # Default parameters\n",
        "        params[\"num_leaves\"] = int(round(num_leaves))\n",
        "        params['feature_fraction'] = max(min(feature_fraction, 1), 0)\n",
        "        params['bagging_fraction'] = max(min(bagging_fraction, 1), 0)\n",
        "        params['max_depth'] = int(round(max_depth))\n",
        "        params['min_split_gain'] = min_split_gain\n",
        "        params['min_child_weight'] = min_child_weight\n",
        "        params['lambda_l1'] = lambda_l1\n",
        "        params['lambda_l2'] = lambda_l2\n",
        "\n",
        "        cv_results = lgb.cv(params, dtrain, nfold=5, seed=44, categorical_feature=[], stratified=False)\n",
        "#         print(cv_results)\n",
        "        return -np.min(cv_results['rmse-mean'])'''"
      ]
    },
    {
      "cell_type": "code",
      "execution_count": null,
      "metadata": {
        "id": "FgR81-8ddywU"
      },
      "outputs": [],
      "source": [
        "''' Define search space of hyperparameters'''\n",
        "pds = {'num_leaves': (100, 230),\n",
        "          'feature_fraction': (0.1, 0.5),\n",
        "          'bagging_fraction': (0.8, 1),\n",
        "          'lambda_l1': (0,3),\n",
        "          'lambda_l2': (0,5),\n",
        "          'max_depth': (8, 19),\n",
        "          'min_split_gain': (0.001, 0.1),\n",
        "          'min_child_weight': (1, 20)\n",
        "        }"
      ]
    },
    {
      "cell_type": "code",
      "execution_count": null,
      "metadata": {
        "id": "RhGGnGIWdywU"
      },
      "outputs": [],
      "source": [
        "'''Define a surrogate model of the objective function and call it.'''\n",
        "'''optimizer = BayesianOptimization(hyp_lgbm,pds,random_state=44)\n",
        "\n",
        "# Optimize\n",
        "optimizer.maximize(init_points=5, n_iter=12)'''"
      ]
    }
  ],
  "metadata": {
    "colab": {
      "provenance": []
    },
    "kernelspec": {
      "display_name": "Python 3",
      "language": "python",
      "name": "python3"
    },
    "language_info": {
      "codemirror_mode": {
        "name": "ipython",
        "version": 3
      },
      "file_extension": ".py",
      "mimetype": "text/x-python",
      "name": "python",
      "nbconvert_exporter": "python",
      "pygments_lexer": "ipython3",
      "version": "3.11.1"
    }
  },
  "nbformat": 4,
  "nbformat_minor": 0
}